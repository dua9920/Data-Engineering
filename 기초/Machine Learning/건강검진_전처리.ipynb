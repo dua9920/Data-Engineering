{
 "metadata": {
  "language_info": {
   "codemirror_mode": {
    "name": "ipython",
    "version": 3
   },
   "file_extension": ".py",
   "mimetype": "text/x-python",
   "name": "python",
   "nbconvert_exporter": "python",
   "pygments_lexer": "ipython3",
   "version": "3.8.5"
  },
  "orig_nbformat": 2,
  "kernelspec": {
   "name": "python385jvsc74a57bd07b4b4feff2f24a0f0a34464dbe537a36fda679851528fb8735cb41fa49dffb2d",
   "display_name": "Python 3.8.5 64-bit ('base': conda)"
  }
 },
 "nbformat": 4,
 "nbformat_minor": 2,
 "cells": [
  {
   "cell_type": "code",
   "execution_count": 1,
   "metadata": {},
   "outputs": [],
   "source": [
    "import pandas as pd\n",
    "import numpy as np"
   ]
  },
  {
   "cell_type": "code",
   "execution_count": 7,
   "metadata": {},
   "outputs": [
    {
     "output_type": "execute_result",
     "data": {
      "text/plain": [
       "   기준년도  가입자일련번호  성별코드  연령대코드(5세단위)  시도코드  신장(5Cm단위)  체중(5Kg단위)  허리둘레  시력(좌)  \\\n",
       "0  2017        1     1            8    43        170         75  90.0    1.0   \n",
       "1  2017        2     1            7    11        180         80  89.0    0.9   \n",
       "2  2017        3     1            9    41        165         75  91.0    1.2   \n",
       "3  2017        4     1           11    48        175         80  91.0    1.5   \n",
       "4  2017        5     1           11    30        165         60  80.0    1.0   \n",
       "\n",
       "   시력(우)  ...  감마지티피  흡연상태  음주여부  구강검진수검여부  치아우식증유무  결손치유무  치아마모증유무  \\\n",
       "0    1.0  ...   40.0   1.0   1.0         1      NaN    NaN      NaN   \n",
       "1    1.2  ...   27.0   3.0   0.0         1      NaN    NaN      NaN   \n",
       "2    1.5  ...   68.0   1.0   0.0         0      NaN    NaN      NaN   \n",
       "3    1.2  ...   18.0   1.0   0.0         1      NaN    NaN      NaN   \n",
       "4    1.2  ...   25.0   1.0   0.0         1      NaN    NaN      NaN   \n",
       "\n",
       "   제3대구치(사랑니)이상   치석   데이터공개일자  \n",
       "0           NaN  1.0  20181126  \n",
       "1           NaN  2.0  20181126  \n",
       "2           NaN  NaN  20181126  \n",
       "3           NaN  0.0  20181126  \n",
       "4           NaN  0.0  20181126  \n",
       "\n",
       "[5 rows x 34 columns]"
      ],
      "text/html": "<div>\n<style scoped>\n    .dataframe tbody tr th:only-of-type {\n        vertical-align: middle;\n    }\n\n    .dataframe tbody tr th {\n        vertical-align: top;\n    }\n\n    .dataframe thead th {\n        text-align: right;\n    }\n</style>\n<table border=\"1\" class=\"dataframe\">\n  <thead>\n    <tr style=\"text-align: right;\">\n      <th></th>\n      <th>기준년도</th>\n      <th>가입자일련번호</th>\n      <th>성별코드</th>\n      <th>연령대코드(5세단위)</th>\n      <th>시도코드</th>\n      <th>신장(5Cm단위)</th>\n      <th>체중(5Kg단위)</th>\n      <th>허리둘레</th>\n      <th>시력(좌)</th>\n      <th>시력(우)</th>\n      <th>...</th>\n      <th>감마지티피</th>\n      <th>흡연상태</th>\n      <th>음주여부</th>\n      <th>구강검진수검여부</th>\n      <th>치아우식증유무</th>\n      <th>결손치유무</th>\n      <th>치아마모증유무</th>\n      <th>제3대구치(사랑니)이상</th>\n      <th>치석</th>\n      <th>데이터공개일자</th>\n    </tr>\n  </thead>\n  <tbody>\n    <tr>\n      <th>0</th>\n      <td>2017</td>\n      <td>1</td>\n      <td>1</td>\n      <td>8</td>\n      <td>43</td>\n      <td>170</td>\n      <td>75</td>\n      <td>90.0</td>\n      <td>1.0</td>\n      <td>1.0</td>\n      <td>...</td>\n      <td>40.0</td>\n      <td>1.0</td>\n      <td>1.0</td>\n      <td>1</td>\n      <td>NaN</td>\n      <td>NaN</td>\n      <td>NaN</td>\n      <td>NaN</td>\n      <td>1.0</td>\n      <td>20181126</td>\n    </tr>\n    <tr>\n      <th>1</th>\n      <td>2017</td>\n      <td>2</td>\n      <td>1</td>\n      <td>7</td>\n      <td>11</td>\n      <td>180</td>\n      <td>80</td>\n      <td>89.0</td>\n      <td>0.9</td>\n      <td>1.2</td>\n      <td>...</td>\n      <td>27.0</td>\n      <td>3.0</td>\n      <td>0.0</td>\n      <td>1</td>\n      <td>NaN</td>\n      <td>NaN</td>\n      <td>NaN</td>\n      <td>NaN</td>\n      <td>2.0</td>\n      <td>20181126</td>\n    </tr>\n    <tr>\n      <th>2</th>\n      <td>2017</td>\n      <td>3</td>\n      <td>1</td>\n      <td>9</td>\n      <td>41</td>\n      <td>165</td>\n      <td>75</td>\n      <td>91.0</td>\n      <td>1.2</td>\n      <td>1.5</td>\n      <td>...</td>\n      <td>68.0</td>\n      <td>1.0</td>\n      <td>0.0</td>\n      <td>0</td>\n      <td>NaN</td>\n      <td>NaN</td>\n      <td>NaN</td>\n      <td>NaN</td>\n      <td>NaN</td>\n      <td>20181126</td>\n    </tr>\n    <tr>\n      <th>3</th>\n      <td>2017</td>\n      <td>4</td>\n      <td>1</td>\n      <td>11</td>\n      <td>48</td>\n      <td>175</td>\n      <td>80</td>\n      <td>91.0</td>\n      <td>1.5</td>\n      <td>1.2</td>\n      <td>...</td>\n      <td>18.0</td>\n      <td>1.0</td>\n      <td>0.0</td>\n      <td>1</td>\n      <td>NaN</td>\n      <td>NaN</td>\n      <td>NaN</td>\n      <td>NaN</td>\n      <td>0.0</td>\n      <td>20181126</td>\n    </tr>\n    <tr>\n      <th>4</th>\n      <td>2017</td>\n      <td>5</td>\n      <td>1</td>\n      <td>11</td>\n      <td>30</td>\n      <td>165</td>\n      <td>60</td>\n      <td>80.0</td>\n      <td>1.0</td>\n      <td>1.2</td>\n      <td>...</td>\n      <td>25.0</td>\n      <td>1.0</td>\n      <td>0.0</td>\n      <td>1</td>\n      <td>NaN</td>\n      <td>NaN</td>\n      <td>NaN</td>\n      <td>NaN</td>\n      <td>0.0</td>\n      <td>20181126</td>\n    </tr>\n  </tbody>\n</table>\n<p>5 rows × 34 columns</p>\n</div>"
     },
     "metadata": {},
     "execution_count": 7
    }
   ],
   "source": [
    "Health = pd.read_csv(\"건강검진정보(2017).csv\", encoding=\"euc-kr\")\n",
    "Health.head()"
   ]
  },
  {
   "cell_type": "code",
   "execution_count": 8,
   "metadata": {},
   "outputs": [
    {
     "output_type": "execute_result",
     "data": {
      "text/plain": [
       "   성별코드  연령대코드(5세단위)  신장(5Cm단위)  체중(5Kg단위)  허리둘레  시력(좌)  시력(우)  청력(좌)  청력(우)  \\\n",
       "0     1            8        170         75  90.0    1.0    1.0    1.0    1.0   \n",
       "1     1            7        180         80  89.0    0.9    1.2    1.0    1.0   \n",
       "2     1            9        165         75  91.0    1.2    1.5    1.0    1.0   \n",
       "3     1           11        175         80  91.0    1.5    1.2    1.0    1.0   \n",
       "4     1           11        165         60  80.0    1.0    1.2    1.0    1.0   \n",
       "\n",
       "   수축기혈압  ...  (혈청지오티)ALT  감마지티피  흡연상태  음주여부  구강검진수검여부  치아우식증유무  결손치유무  \\\n",
       "0  120.0  ...        35.0   40.0   1.0   1.0         1      NaN    NaN   \n",
       "1  130.0  ...        36.0   27.0   3.0   0.0         1      NaN    NaN   \n",
       "2  120.0  ...        32.0   68.0   1.0   0.0         0      NaN    NaN   \n",
       "3  145.0  ...        34.0   18.0   1.0   0.0         1      NaN    NaN   \n",
       "4  138.0  ...        12.0   25.0   1.0   0.0         1      NaN    NaN   \n",
       "\n",
       "   치아마모증유무  제3대구치(사랑니)이상   치석  \n",
       "0      NaN           NaN  1.0  \n",
       "1      NaN           NaN  2.0  \n",
       "2      NaN           NaN  NaN  \n",
       "3      NaN           NaN  0.0  \n",
       "4      NaN           NaN  0.0  \n",
       "\n",
       "[5 rows x 30 columns]"
      ],
      "text/html": "<div>\n<style scoped>\n    .dataframe tbody tr th:only-of-type {\n        vertical-align: middle;\n    }\n\n    .dataframe tbody tr th {\n        vertical-align: top;\n    }\n\n    .dataframe thead th {\n        text-align: right;\n    }\n</style>\n<table border=\"1\" class=\"dataframe\">\n  <thead>\n    <tr style=\"text-align: right;\">\n      <th></th>\n      <th>성별코드</th>\n      <th>연령대코드(5세단위)</th>\n      <th>신장(5Cm단위)</th>\n      <th>체중(5Kg단위)</th>\n      <th>허리둘레</th>\n      <th>시력(좌)</th>\n      <th>시력(우)</th>\n      <th>청력(좌)</th>\n      <th>청력(우)</th>\n      <th>수축기혈압</th>\n      <th>...</th>\n      <th>(혈청지오티)ALT</th>\n      <th>감마지티피</th>\n      <th>흡연상태</th>\n      <th>음주여부</th>\n      <th>구강검진수검여부</th>\n      <th>치아우식증유무</th>\n      <th>결손치유무</th>\n      <th>치아마모증유무</th>\n      <th>제3대구치(사랑니)이상</th>\n      <th>치석</th>\n    </tr>\n  </thead>\n  <tbody>\n    <tr>\n      <th>0</th>\n      <td>1</td>\n      <td>8</td>\n      <td>170</td>\n      <td>75</td>\n      <td>90.0</td>\n      <td>1.0</td>\n      <td>1.0</td>\n      <td>1.0</td>\n      <td>1.0</td>\n      <td>120.0</td>\n      <td>...</td>\n      <td>35.0</td>\n      <td>40.0</td>\n      <td>1.0</td>\n      <td>1.0</td>\n      <td>1</td>\n      <td>NaN</td>\n      <td>NaN</td>\n      <td>NaN</td>\n      <td>NaN</td>\n      <td>1.0</td>\n    </tr>\n    <tr>\n      <th>1</th>\n      <td>1</td>\n      <td>7</td>\n      <td>180</td>\n      <td>80</td>\n      <td>89.0</td>\n      <td>0.9</td>\n      <td>1.2</td>\n      <td>1.0</td>\n      <td>1.0</td>\n      <td>130.0</td>\n      <td>...</td>\n      <td>36.0</td>\n      <td>27.0</td>\n      <td>3.0</td>\n      <td>0.0</td>\n      <td>1</td>\n      <td>NaN</td>\n      <td>NaN</td>\n      <td>NaN</td>\n      <td>NaN</td>\n      <td>2.0</td>\n    </tr>\n    <tr>\n      <th>2</th>\n      <td>1</td>\n      <td>9</td>\n      <td>165</td>\n      <td>75</td>\n      <td>91.0</td>\n      <td>1.2</td>\n      <td>1.5</td>\n      <td>1.0</td>\n      <td>1.0</td>\n      <td>120.0</td>\n      <td>...</td>\n      <td>32.0</td>\n      <td>68.0</td>\n      <td>1.0</td>\n      <td>0.0</td>\n      <td>0</td>\n      <td>NaN</td>\n      <td>NaN</td>\n      <td>NaN</td>\n      <td>NaN</td>\n      <td>NaN</td>\n    </tr>\n    <tr>\n      <th>3</th>\n      <td>1</td>\n      <td>11</td>\n      <td>175</td>\n      <td>80</td>\n      <td>91.0</td>\n      <td>1.5</td>\n      <td>1.2</td>\n      <td>1.0</td>\n      <td>1.0</td>\n      <td>145.0</td>\n      <td>...</td>\n      <td>34.0</td>\n      <td>18.0</td>\n      <td>1.0</td>\n      <td>0.0</td>\n      <td>1</td>\n      <td>NaN</td>\n      <td>NaN</td>\n      <td>NaN</td>\n      <td>NaN</td>\n      <td>0.0</td>\n    </tr>\n    <tr>\n      <th>4</th>\n      <td>1</td>\n      <td>11</td>\n      <td>165</td>\n      <td>60</td>\n      <td>80.0</td>\n      <td>1.0</td>\n      <td>1.2</td>\n      <td>1.0</td>\n      <td>1.0</td>\n      <td>138.0</td>\n      <td>...</td>\n      <td>12.0</td>\n      <td>25.0</td>\n      <td>1.0</td>\n      <td>0.0</td>\n      <td>1</td>\n      <td>NaN</td>\n      <td>NaN</td>\n      <td>NaN</td>\n      <td>NaN</td>\n      <td>0.0</td>\n    </tr>\n  </tbody>\n</table>\n<p>5 rows × 30 columns</p>\n</div>"
     },
     "metadata": {},
     "execution_count": 8
    }
   ],
   "source": [
    "Health = Health.drop(\"기준년도\", 1)\n",
    "Health = Health.drop(\"가입자일련번호\", 1)\n",
    "Health = Health.drop(\"데이터공개일자\", 1)\n",
    "Health = Health.drop(\"시도코드\", 1)\n",
    "Health.head()"
   ]
  },
  {
   "cell_type": "code",
   "execution_count": 37,
   "metadata": {},
   "outputs": [
    {
     "output_type": "execute_result",
     "data": {
      "text/plain": [
       "   성별코드  연령대코드(5세단위)  신장(5Cm단위)  체중(5Kg단위)  허리둘레  시력(좌)  시력(우)  청력(좌)  청력(우)  \\\n",
       "0     1            8        170         75  90.0    1.0    1.0    1.0    1.0   \n",
       "1     1            7        180         80  89.0    0.9    1.2    1.0    1.0   \n",
       "2     1            9        165         75  91.0    1.2    1.5    1.0    1.0   \n",
       "3     1           11        175         80  91.0    1.5    1.2    1.0    1.0   \n",
       "4     1           11        165         60  80.0    1.0    1.2    1.0    1.0   \n",
       "\n",
       "   수축기혈압  ...  (혈청지오티)ALT  감마지티피  흡연상태  음주여부  구강검진수검여부  치아우식증유무  결손치유무  \\\n",
       "0  120.0  ...        35.0   40.0     1     1         1        0      0   \n",
       "1  130.0  ...        36.0   27.0     3     0         1        0      0   \n",
       "2  120.0  ...        32.0   68.0     1     0         0        0      0   \n",
       "3  145.0  ...        34.0   18.0     1     0         1        0      0   \n",
       "4  138.0  ...        12.0   25.0     1     0         1        0      0   \n",
       "\n",
       "   치아마모증유무  제3대구치(사랑니)이상  치석  \n",
       "0        0             0   1  \n",
       "1        0             0   2  \n",
       "2        0             0   0  \n",
       "3        0             0   0  \n",
       "4        0             0   0  \n",
       "\n",
       "[5 rows x 30 columns]"
      ],
      "text/html": "<div>\n<style scoped>\n    .dataframe tbody tr th:only-of-type {\n        vertical-align: middle;\n    }\n\n    .dataframe tbody tr th {\n        vertical-align: top;\n    }\n\n    .dataframe thead th {\n        text-align: right;\n    }\n</style>\n<table border=\"1\" class=\"dataframe\">\n  <thead>\n    <tr style=\"text-align: right;\">\n      <th></th>\n      <th>성별코드</th>\n      <th>연령대코드(5세단위)</th>\n      <th>신장(5Cm단위)</th>\n      <th>체중(5Kg단위)</th>\n      <th>허리둘레</th>\n      <th>시력(좌)</th>\n      <th>시력(우)</th>\n      <th>청력(좌)</th>\n      <th>청력(우)</th>\n      <th>수축기혈압</th>\n      <th>...</th>\n      <th>(혈청지오티)ALT</th>\n      <th>감마지티피</th>\n      <th>흡연상태</th>\n      <th>음주여부</th>\n      <th>구강검진수검여부</th>\n      <th>치아우식증유무</th>\n      <th>결손치유무</th>\n      <th>치아마모증유무</th>\n      <th>제3대구치(사랑니)이상</th>\n      <th>치석</th>\n    </tr>\n  </thead>\n  <tbody>\n    <tr>\n      <th>0</th>\n      <td>1</td>\n      <td>8</td>\n      <td>170</td>\n      <td>75</td>\n      <td>90.0</td>\n      <td>1.0</td>\n      <td>1.0</td>\n      <td>1.0</td>\n      <td>1.0</td>\n      <td>120.0</td>\n      <td>...</td>\n      <td>35.0</td>\n      <td>40.0</td>\n      <td>1</td>\n      <td>1</td>\n      <td>1</td>\n      <td>0</td>\n      <td>0</td>\n      <td>0</td>\n      <td>0</td>\n      <td>1</td>\n    </tr>\n    <tr>\n      <th>1</th>\n      <td>1</td>\n      <td>7</td>\n      <td>180</td>\n      <td>80</td>\n      <td>89.0</td>\n      <td>0.9</td>\n      <td>1.2</td>\n      <td>1.0</td>\n      <td>1.0</td>\n      <td>130.0</td>\n      <td>...</td>\n      <td>36.0</td>\n      <td>27.0</td>\n      <td>3</td>\n      <td>0</td>\n      <td>1</td>\n      <td>0</td>\n      <td>0</td>\n      <td>0</td>\n      <td>0</td>\n      <td>2</td>\n    </tr>\n    <tr>\n      <th>2</th>\n      <td>1</td>\n      <td>9</td>\n      <td>165</td>\n      <td>75</td>\n      <td>91.0</td>\n      <td>1.2</td>\n      <td>1.5</td>\n      <td>1.0</td>\n      <td>1.0</td>\n      <td>120.0</td>\n      <td>...</td>\n      <td>32.0</td>\n      <td>68.0</td>\n      <td>1</td>\n      <td>0</td>\n      <td>0</td>\n      <td>0</td>\n      <td>0</td>\n      <td>0</td>\n      <td>0</td>\n      <td>0</td>\n    </tr>\n    <tr>\n      <th>3</th>\n      <td>1</td>\n      <td>11</td>\n      <td>175</td>\n      <td>80</td>\n      <td>91.0</td>\n      <td>1.5</td>\n      <td>1.2</td>\n      <td>1.0</td>\n      <td>1.0</td>\n      <td>145.0</td>\n      <td>...</td>\n      <td>34.0</td>\n      <td>18.0</td>\n      <td>1</td>\n      <td>0</td>\n      <td>1</td>\n      <td>0</td>\n      <td>0</td>\n      <td>0</td>\n      <td>0</td>\n      <td>0</td>\n    </tr>\n    <tr>\n      <th>4</th>\n      <td>1</td>\n      <td>11</td>\n      <td>165</td>\n      <td>60</td>\n      <td>80.0</td>\n      <td>1.0</td>\n      <td>1.2</td>\n      <td>1.0</td>\n      <td>1.0</td>\n      <td>138.0</td>\n      <td>...</td>\n      <td>12.0</td>\n      <td>25.0</td>\n      <td>1</td>\n      <td>0</td>\n      <td>1</td>\n      <td>0</td>\n      <td>0</td>\n      <td>0</td>\n      <td>0</td>\n      <td>0</td>\n    </tr>\n  </tbody>\n</table>\n<p>5 rows × 30 columns</p>\n</div>"
     },
     "metadata": {},
     "execution_count": 37
    }
   ],
   "source": [
    "Health['음주여부'] = Health['음주여부'].fillna(0).astype(int)\n",
    "Health['치아우식증유무'] = Health['치아우식증유무'].fillna(0).astype(int)\n",
    "Health['결손치유무'] = Health['결손치유무'].fillna(0).astype(int)\n",
    "\n",
    "Health['치아마모증유무'] = Health['치아마모증유무'].fillna(0).astype(int)\n",
    "Health['제3대구치(사랑니)이상'] = Health['제3대구치(사랑니)이상'].fillna(0).astype(int)\n",
    "Health['치석'] = Health['치석'].fillna(0).astype(int)\n",
    "Health['흡연상태'] = Health['흡연상태'].fillna(0).astype(int)\n",
    "Health.head()"
   ]
  },
  {
   "cell_type": "code",
   "execution_count": null,
   "metadata": {},
   "outputs": [],
   "source": []
  }
 ]
}