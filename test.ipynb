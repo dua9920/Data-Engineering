{
 "metadata": {
  "language_info": {
   "codemirror_mode": {
    "name": "ipython",
    "version": 3
   },
   "file_extension": ".py",
   "mimetype": "text/x-python",
   "name": "python",
   "nbconvert_exporter": "python",
   "pygments_lexer": "ipython3",
   "version": "3.8.5"
  },
  "orig_nbformat": 2,
  "kernelspec": {
   "name": "python385jvsc74a57bd07b4b4feff2f24a0f0a34464dbe537a36fda679851528fb8735cb41fa49dffb2d",
   "display_name": "Python 3.8.5 64-bit ('base': conda)"
  }
 },
 "nbformat": 4,
 "nbformat_minor": 2,
 "cells": [
  {
   "cell_type": "code",
   "execution_count": 4,
   "metadata": {},
   "outputs": [],
   "source": [
    "import pandas as pd"
   ]
  },
  {
   "cell_type": "code",
   "execution_count": 8,
   "metadata": {},
   "outputs": [
    {
     "output_type": "execute_result",
     "data": {
      "text/plain": [
       "       기온(°C)  풍속(m/s)  풍향(16방위)  습도(%)  전운량(10분위)  발전량\n",
       "0         8.2      3.9     340.0   98.0       10.0    0\n",
       "1         7.0      4.1     320.0   97.0       10.0    0\n",
       "2         6.5      5.9     290.0   80.0        NaN    0\n",
       "3         6.2      4.6     320.0   79.0        3.0    0\n",
       "4         6.7      4.5     320.0   73.0        1.0    0\n",
       "...       ...      ...       ...    ...        ...  ...\n",
       "25627     8.8      2.5     200.0   50.0        5.0    0\n",
       "25628     8.7      3.9     200.0   49.0        1.0    0\n",
       "25629     8.4      2.4     230.0   51.0        7.0    0\n",
       "25630     9.4      3.3     230.0   51.0        8.0    0\n",
       "25631     9.3      3.1     200.0   56.0        9.0    0\n",
       "\n",
       "[25632 rows x 6 columns]"
      ],
      "text/html": "<div>\n<style scoped>\n    .dataframe tbody tr th:only-of-type {\n        vertical-align: middle;\n    }\n\n    .dataframe tbody tr th {\n        vertical-align: top;\n    }\n\n    .dataframe thead th {\n        text-align: right;\n    }\n</style>\n<table border=\"1\" class=\"dataframe\">\n  <thead>\n    <tr style=\"text-align: right;\">\n      <th></th>\n      <th>기온(°C)</th>\n      <th>풍속(m/s)</th>\n      <th>풍향(16방위)</th>\n      <th>습도(%)</th>\n      <th>전운량(10분위)</th>\n      <th>발전량</th>\n    </tr>\n  </thead>\n  <tbody>\n    <tr>\n      <th>0</th>\n      <td>8.2</td>\n      <td>3.9</td>\n      <td>340.0</td>\n      <td>98.0</td>\n      <td>10.0</td>\n      <td>0</td>\n    </tr>\n    <tr>\n      <th>1</th>\n      <td>7.0</td>\n      <td>4.1</td>\n      <td>320.0</td>\n      <td>97.0</td>\n      <td>10.0</td>\n      <td>0</td>\n    </tr>\n    <tr>\n      <th>2</th>\n      <td>6.5</td>\n      <td>5.9</td>\n      <td>290.0</td>\n      <td>80.0</td>\n      <td>NaN</td>\n      <td>0</td>\n    </tr>\n    <tr>\n      <th>3</th>\n      <td>6.2</td>\n      <td>4.6</td>\n      <td>320.0</td>\n      <td>79.0</td>\n      <td>3.0</td>\n      <td>0</td>\n    </tr>\n    <tr>\n      <th>4</th>\n      <td>6.7</td>\n      <td>4.5</td>\n      <td>320.0</td>\n      <td>73.0</td>\n      <td>1.0</td>\n      <td>0</td>\n    </tr>\n    <tr>\n      <th>...</th>\n      <td>...</td>\n      <td>...</td>\n      <td>...</td>\n      <td>...</td>\n      <td>...</td>\n      <td>...</td>\n    </tr>\n    <tr>\n      <th>25627</th>\n      <td>8.8</td>\n      <td>2.5</td>\n      <td>200.0</td>\n      <td>50.0</td>\n      <td>5.0</td>\n      <td>0</td>\n    </tr>\n    <tr>\n      <th>25628</th>\n      <td>8.7</td>\n      <td>3.9</td>\n      <td>200.0</td>\n      <td>49.0</td>\n      <td>1.0</td>\n      <td>0</td>\n    </tr>\n    <tr>\n      <th>25629</th>\n      <td>8.4</td>\n      <td>2.4</td>\n      <td>230.0</td>\n      <td>51.0</td>\n      <td>7.0</td>\n      <td>0</td>\n    </tr>\n    <tr>\n      <th>25630</th>\n      <td>9.4</td>\n      <td>3.3</td>\n      <td>230.0</td>\n      <td>51.0</td>\n      <td>8.0</td>\n      <td>0</td>\n    </tr>\n    <tr>\n      <th>25631</th>\n      <td>9.3</td>\n      <td>3.1</td>\n      <td>200.0</td>\n      <td>56.0</td>\n      <td>9.0</td>\n      <td>0</td>\n    </tr>\n  </tbody>\n</table>\n<p>25632 rows × 6 columns</p>\n</div>"
     },
     "metadata": {},
     "execution_count": 8
    }
   ],
   "source": [
    "df = pd.read_csv('test_1/ulsan_obs_energy.csv')\n",
    "df = df.drop(columns=['지점명', '시간'])\n",
    "df"
   ]
  },
  {
   "cell_type": "code",
   "execution_count": 9,
   "metadata": {},
   "outputs": [
    {
     "output_type": "execute_result",
     "data": {
      "text/plain": [
       "       기온(°C)  풍속(m/s)  풍향(16방위)  습도(%)  전운량(10분위)  발전량\n",
       "8         8.9      2.8     230.0   64.0        7.0    4\n",
       "9         9.7      5.0     250.0   61.0        9.0   35\n",
       "10        9.6      4.4     290.0   64.0        8.0   71\n",
       "11       10.5      6.9     290.0   41.0        1.0   82\n",
       "12       11.2      6.1     290.0   29.0        0.0  334\n",
       "...       ...      ...       ...    ...        ...  ...\n",
       "25622    10.9      3.4     140.0   32.0        0.0  294\n",
       "25623    10.6      3.9     140.0   39.0        0.0  259\n",
       "25624    11.3      3.2     160.0   33.0        0.0  196\n",
       "25625    10.3      4.0     180.0   31.0        0.0   83\n",
       "25626     9.3      3.4     180.0   43.0        0.0    8\n",
       "\n",
       "[11968 rows x 6 columns]"
      ],
      "text/html": "<div>\n<style scoped>\n    .dataframe tbody tr th:only-of-type {\n        vertical-align: middle;\n    }\n\n    .dataframe tbody tr th {\n        vertical-align: top;\n    }\n\n    .dataframe thead th {\n        text-align: right;\n    }\n</style>\n<table border=\"1\" class=\"dataframe\">\n  <thead>\n    <tr style=\"text-align: right;\">\n      <th></th>\n      <th>기온(°C)</th>\n      <th>풍속(m/s)</th>\n      <th>풍향(16방위)</th>\n      <th>습도(%)</th>\n      <th>전운량(10분위)</th>\n      <th>발전량</th>\n    </tr>\n  </thead>\n  <tbody>\n    <tr>\n      <th>8</th>\n      <td>8.9</td>\n      <td>2.8</td>\n      <td>230.0</td>\n      <td>64.0</td>\n      <td>7.0</td>\n      <td>4</td>\n    </tr>\n    <tr>\n      <th>9</th>\n      <td>9.7</td>\n      <td>5.0</td>\n      <td>250.0</td>\n      <td>61.0</td>\n      <td>9.0</td>\n      <td>35</td>\n    </tr>\n    <tr>\n      <th>10</th>\n      <td>9.6</td>\n      <td>4.4</td>\n      <td>290.0</td>\n      <td>64.0</td>\n      <td>8.0</td>\n      <td>71</td>\n    </tr>\n    <tr>\n      <th>11</th>\n      <td>10.5</td>\n      <td>6.9</td>\n      <td>290.0</td>\n      <td>41.0</td>\n      <td>1.0</td>\n      <td>82</td>\n    </tr>\n    <tr>\n      <th>12</th>\n      <td>11.2</td>\n      <td>6.1</td>\n      <td>290.0</td>\n      <td>29.0</td>\n      <td>0.0</td>\n      <td>334</td>\n    </tr>\n    <tr>\n      <th>...</th>\n      <td>...</td>\n      <td>...</td>\n      <td>...</td>\n      <td>...</td>\n      <td>...</td>\n      <td>...</td>\n    </tr>\n    <tr>\n      <th>25622</th>\n      <td>10.9</td>\n      <td>3.4</td>\n      <td>140.0</td>\n      <td>32.0</td>\n      <td>0.0</td>\n      <td>294</td>\n    </tr>\n    <tr>\n      <th>25623</th>\n      <td>10.6</td>\n      <td>3.9</td>\n      <td>140.0</td>\n      <td>39.0</td>\n      <td>0.0</td>\n      <td>259</td>\n    </tr>\n    <tr>\n      <th>25624</th>\n      <td>11.3</td>\n      <td>3.2</td>\n      <td>160.0</td>\n      <td>33.0</td>\n      <td>0.0</td>\n      <td>196</td>\n    </tr>\n    <tr>\n      <th>25625</th>\n      <td>10.3</td>\n      <td>4.0</td>\n      <td>180.0</td>\n      <td>31.0</td>\n      <td>0.0</td>\n      <td>83</td>\n    </tr>\n    <tr>\n      <th>25626</th>\n      <td>9.3</td>\n      <td>3.4</td>\n      <td>180.0</td>\n      <td>43.0</td>\n      <td>0.0</td>\n      <td>8</td>\n    </tr>\n  </tbody>\n</table>\n<p>11968 rows × 6 columns</p>\n</div>"
     },
     "metadata": {},
     "execution_count": 9
    }
   ],
   "source": [
    "df = df[df['발전량'] != 0]\n",
    "df = df.dropna(axis=0)\n",
    "df"
   ]
  },
  {
   "cell_type": "code",
   "execution_count": 10,
   "metadata": {},
   "outputs": [],
   "source": [
    "df.to_csv('ulsan_data_header.csv', mode='w', encoding='utf-8-sig', index=False)\n"
   ]
  },
  {
   "cell_type": "code",
   "execution_count": null,
   "metadata": {},
   "outputs": [],
   "source": []
  }
 ]
}