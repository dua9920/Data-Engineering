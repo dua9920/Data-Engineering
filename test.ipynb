{
 "metadata": {
  "language_info": {
   "codemirror_mode": {
    "name": "ipython",
    "version": 3
   },
   "file_extension": ".py",
   "mimetype": "text/x-python",
   "name": "python",
   "nbconvert_exporter": "python",
   "pygments_lexer": "ipython3",
   "version": "3.8.5"
  },
  "orig_nbformat": 2,
  "kernelspec": {
   "name": "python385jvsc74a57bd07b4b4feff2f24a0f0a34464dbe537a36fda679851528fb8735cb41fa49dffb2d",
   "display_name": "Python 3.8.5 64-bit ('base': conda)"
  }
 },
 "nbformat": 4,
 "nbformat_minor": 2,
 "cells": [
  {
   "cell_type": "code",
   "execution_count": 20,
   "metadata": {},
   "outputs": [],
   "source": [
    "import pandas as pd\n",
    "import calendar as cal\n",
    "import datetime\n",
    "import re\n",
    "from glob import glob\n",
    "from PIL import Image"
   ]
  },
  {
   "source": [
    "## 0. 데이터 가져오기\n",
    "- 1) 당진시 날씨 예보 데이터\n",
    "- 2) 당진시 날씨 관측 데이터\n",
    "- 3) 동서발전 발전소별 발전량 데이터\n",
    "- 4) sample\n",
    "- 5) 울산광역시 날씨 예보 데이터\n",
    "- 6) 울산광역시 날씨 관측 데이터"
   ],
   "cell_type": "markdown",
   "metadata": {}
  },
  {
   "cell_type": "code",
   "execution_count": 21,
   "metadata": {},
   "outputs": [
    {
     "output_type": "execute_result",
     "data": {
      "text/plain": [
       "['./data\\\\dangjin_fcst_data.csv',\n",
       " './data\\\\dangjin_obs_data.csv',\n",
       " './data\\\\energy.csv',\n",
       " './data\\\\sample_submission.csv',\n",
       " './data\\\\site_info.csv',\n",
       " './data\\\\ulsan_fcst_data.csv',\n",
       " './data\\\\ulsan_obs_data.csv']"
      ]
     },
     "metadata": {},
     "execution_count": 21
    }
   ],
   "source": [
    "path = \"./data/\"\n",
    "files = sorted(glob(path+\"*.csv\"))\n",
    "files"
   ]
  },
  {
   "cell_type": "code",
   "execution_count": 22,
   "metadata": {},
   "outputs": [
    {
     "output_type": "execute_result",
     "data": {
      "text/plain": [
       "         Forecast time  forecast  Temperature  Humidity  WindSpeed  \\\n",
       "0  2018-03-01 11:00:00       4.0          0.0      60.0        7.3   \n",
       "1  2018-03-01 11:00:00       7.0         -2.0      60.0        7.1   \n",
       "2  2018-03-01 11:00:00      10.0         -2.0      60.0        6.7   \n",
       "3  2018-03-01 11:00:00      13.0         -2.0      55.0        6.7   \n",
       "4  2018-03-01 11:00:00      16.0         -4.0      55.0        5.5   \n",
       "\n",
       "   WindDirection  Cloud  \n",
       "0          309.0    2.0  \n",
       "1          314.0    1.0  \n",
       "2          323.0    1.0  \n",
       "3          336.0    1.0  \n",
       "4          339.0    1.0  "
      ],
      "text/html": "<div>\n<style scoped>\n    .dataframe tbody tr th:only-of-type {\n        vertical-align: middle;\n    }\n\n    .dataframe tbody tr th {\n        vertical-align: top;\n    }\n\n    .dataframe thead th {\n        text-align: right;\n    }\n</style>\n<table border=\"1\" class=\"dataframe\">\n  <thead>\n    <tr style=\"text-align: right;\">\n      <th></th>\n      <th>Forecast time</th>\n      <th>forecast</th>\n      <th>Temperature</th>\n      <th>Humidity</th>\n      <th>WindSpeed</th>\n      <th>WindDirection</th>\n      <th>Cloud</th>\n    </tr>\n  </thead>\n  <tbody>\n    <tr>\n      <th>0</th>\n      <td>2018-03-01 11:00:00</td>\n      <td>4.0</td>\n      <td>0.0</td>\n      <td>60.0</td>\n      <td>7.3</td>\n      <td>309.0</td>\n      <td>2.0</td>\n    </tr>\n    <tr>\n      <th>1</th>\n      <td>2018-03-01 11:00:00</td>\n      <td>7.0</td>\n      <td>-2.0</td>\n      <td>60.0</td>\n      <td>7.1</td>\n      <td>314.0</td>\n      <td>1.0</td>\n    </tr>\n    <tr>\n      <th>2</th>\n      <td>2018-03-01 11:00:00</td>\n      <td>10.0</td>\n      <td>-2.0</td>\n      <td>60.0</td>\n      <td>6.7</td>\n      <td>323.0</td>\n      <td>1.0</td>\n    </tr>\n    <tr>\n      <th>3</th>\n      <td>2018-03-01 11:00:00</td>\n      <td>13.0</td>\n      <td>-2.0</td>\n      <td>55.0</td>\n      <td>6.7</td>\n      <td>336.0</td>\n      <td>1.0</td>\n    </tr>\n    <tr>\n      <th>4</th>\n      <td>2018-03-01 11:00:00</td>\n      <td>16.0</td>\n      <td>-4.0</td>\n      <td>55.0</td>\n      <td>5.5</td>\n      <td>339.0</td>\n      <td>1.0</td>\n    </tr>\n  </tbody>\n</table>\n</div>"
     },
     "metadata": {},
     "execution_count": 22
    }
   ],
   "source": [
    "# 1. 당진 발전소 동네 날씨 정보\n",
    "dj_fcst = pd.read_csv(files[0])\n",
    "dj_fcst.head()\n",
    "\n",
    "# Forecast time: 예보 발표 시점 2018-03-01 11:00:00\n",
    "# forcast: 예보 시간 11시에 발표해서 forcast 만큼 지난 시간 +4면 15:00:00\n",
    "# Temperature: 온도 (도씨)\n",
    "# Humidity: 습도 (%)\n",
    "# WindSpeed: 풍속 (m/s)\n",
    "# WindDirection: 풍향\n",
    "# Cloud: 하늘 상태\n",
    "# 1-맑음 / 2-구름보통 / 3-구름많음 / 4-흐림\n"
   ]
  },
  {
   "cell_type": "code",
   "execution_count": 23,
   "metadata": {},
   "outputs": [
    {
     "output_type": "execute_result",
     "data": {
      "text/plain": [
       "    지점 지점명                일시  기온(°C)  풍속(m/s)  풍향(16방위)  습도(%)  전운량(10분위)\n",
       "0  129  서산  2018-03-01 00:00     3.1      3.6     340.0   96.0        NaN\n",
       "1  129  서산  2018-03-01 01:00     2.8      0.7     140.0   97.0        NaN\n",
       "2  129  서산  2018-03-01 02:00     2.6      3.2     320.0   95.0        NaN\n",
       "3  129  서산  2018-03-01 03:00     2.0      1.9     230.0   97.0        NaN\n",
       "4  129  서산  2018-03-01 04:00     2.2      2.1     180.0   97.0        NaN"
      ],
      "text/html": "<div>\n<style scoped>\n    .dataframe tbody tr th:only-of-type {\n        vertical-align: middle;\n    }\n\n    .dataframe tbody tr th {\n        vertical-align: top;\n    }\n\n    .dataframe thead th {\n        text-align: right;\n    }\n</style>\n<table border=\"1\" class=\"dataframe\">\n  <thead>\n    <tr style=\"text-align: right;\">\n      <th></th>\n      <th>지점</th>\n      <th>지점명</th>\n      <th>일시</th>\n      <th>기온(°C)</th>\n      <th>풍속(m/s)</th>\n      <th>풍향(16방위)</th>\n      <th>습도(%)</th>\n      <th>전운량(10분위)</th>\n    </tr>\n  </thead>\n  <tbody>\n    <tr>\n      <th>0</th>\n      <td>129</td>\n      <td>서산</td>\n      <td>2018-03-01 00:00</td>\n      <td>3.1</td>\n      <td>3.6</td>\n      <td>340.0</td>\n      <td>96.0</td>\n      <td>NaN</td>\n    </tr>\n    <tr>\n      <th>1</th>\n      <td>129</td>\n      <td>서산</td>\n      <td>2018-03-01 01:00</td>\n      <td>2.8</td>\n      <td>0.7</td>\n      <td>140.0</td>\n      <td>97.0</td>\n      <td>NaN</td>\n    </tr>\n    <tr>\n      <th>2</th>\n      <td>129</td>\n      <td>서산</td>\n      <td>2018-03-01 02:00</td>\n      <td>2.6</td>\n      <td>3.2</td>\n      <td>320.0</td>\n      <td>95.0</td>\n      <td>NaN</td>\n    </tr>\n    <tr>\n      <th>3</th>\n      <td>129</td>\n      <td>서산</td>\n      <td>2018-03-01 03:00</td>\n      <td>2.0</td>\n      <td>1.9</td>\n      <td>230.0</td>\n      <td>97.0</td>\n      <td>NaN</td>\n    </tr>\n    <tr>\n      <th>4</th>\n      <td>129</td>\n      <td>서산</td>\n      <td>2018-03-01 04:00</td>\n      <td>2.2</td>\n      <td>2.1</td>\n      <td>180.0</td>\n      <td>97.0</td>\n      <td>NaN</td>\n    </tr>\n  </tbody>\n</table>\n</div>"
     },
     "metadata": {},
     "execution_count": 23
    }
   ],
   "source": [
    "# 2. 당진 발전소 인근 기상 관측 정보\n",
    "dj_obs = pd.read_csv(files[1])\n",
    "dj_obs.head()\n",
    "\n",
    "# 지점: 지점 코드\n",
    "# 지점명: 관측소 지점 (서산)\n",
    "# 일시: 관측 시간 Y-M-D H:M\n",
    "# 기온 , 풍속, 풍향, 습도\n",
    "# 전운량: 낮을수록 구름이 적다."
   ]
  },
  {
   "cell_type": "code",
   "execution_count": 24,
   "metadata": {},
   "outputs": [
    {
     "output_type": "execute_result",
     "data": {
      "text/plain": [
       "                   time  dangjin_floating  dangjin_warehouse  dangjin  ulsan\n",
       "8    2018-03-01 9:00:00              36.0               33.0       37     35\n",
       "9   2018-03-01 10:00:00             313.0              209.0      318     71\n",
       "10  2018-03-01 11:00:00             532.0              296.0      490     82\n",
       "11  2018-03-01 12:00:00             607.0              315.0      550    334\n",
       "12  2018-03-01 13:00:00             614.0              474.0      727    372\n",
       "13  2018-03-01 14:00:00             608.0              544.0      733    346\n",
       "14  2018-03-01 15:00:00             641.0              496.0      672    318\n",
       "15  2018-03-01 16:00:00             536.0              391.0      546    258\n",
       "16  2018-03-01 17:00:00             348.0              271.0      364    160\n",
       "17  2018-03-01 18:00:00             134.0               80.0      110     30"
      ],
      "text/html": "<div>\n<style scoped>\n    .dataframe tbody tr th:only-of-type {\n        vertical-align: middle;\n    }\n\n    .dataframe tbody tr th {\n        vertical-align: top;\n    }\n\n    .dataframe thead th {\n        text-align: right;\n    }\n</style>\n<table border=\"1\" class=\"dataframe\">\n  <thead>\n    <tr style=\"text-align: right;\">\n      <th></th>\n      <th>time</th>\n      <th>dangjin_floating</th>\n      <th>dangjin_warehouse</th>\n      <th>dangjin</th>\n      <th>ulsan</th>\n    </tr>\n  </thead>\n  <tbody>\n    <tr>\n      <th>8</th>\n      <td>2018-03-01 9:00:00</td>\n      <td>36.0</td>\n      <td>33.0</td>\n      <td>37</td>\n      <td>35</td>\n    </tr>\n    <tr>\n      <th>9</th>\n      <td>2018-03-01 10:00:00</td>\n      <td>313.0</td>\n      <td>209.0</td>\n      <td>318</td>\n      <td>71</td>\n    </tr>\n    <tr>\n      <th>10</th>\n      <td>2018-03-01 11:00:00</td>\n      <td>532.0</td>\n      <td>296.0</td>\n      <td>490</td>\n      <td>82</td>\n    </tr>\n    <tr>\n      <th>11</th>\n      <td>2018-03-01 12:00:00</td>\n      <td>607.0</td>\n      <td>315.0</td>\n      <td>550</td>\n      <td>334</td>\n    </tr>\n    <tr>\n      <th>12</th>\n      <td>2018-03-01 13:00:00</td>\n      <td>614.0</td>\n      <td>474.0</td>\n      <td>727</td>\n      <td>372</td>\n    </tr>\n    <tr>\n      <th>13</th>\n      <td>2018-03-01 14:00:00</td>\n      <td>608.0</td>\n      <td>544.0</td>\n      <td>733</td>\n      <td>346</td>\n    </tr>\n    <tr>\n      <th>14</th>\n      <td>2018-03-01 15:00:00</td>\n      <td>641.0</td>\n      <td>496.0</td>\n      <td>672</td>\n      <td>318</td>\n    </tr>\n    <tr>\n      <th>15</th>\n      <td>2018-03-01 16:00:00</td>\n      <td>536.0</td>\n      <td>391.0</td>\n      <td>546</td>\n      <td>258</td>\n    </tr>\n    <tr>\n      <th>16</th>\n      <td>2018-03-01 17:00:00</td>\n      <td>348.0</td>\n      <td>271.0</td>\n      <td>364</td>\n      <td>160</td>\n    </tr>\n    <tr>\n      <th>17</th>\n      <td>2018-03-01 18:00:00</td>\n      <td>134.0</td>\n      <td>80.0</td>\n      <td>110</td>\n      <td>30</td>\n    </tr>\n  </tbody>\n</table>\n</div>"
     },
     "metadata": {},
     "execution_count": 24
    }
   ],
   "source": [
    "# 3. 발전소별 발전량\n",
    "energy = pd.read_csv(files[2])\n",
    "energy[8:18]\n",
    "\n",
    "# time: 1시간 단위 계량된 시간 1:00:00 이면 0:00:00 ~ 1:00:00\n",
    "# dangjin_floating: 당진수상태양광 발전량(KW)\n",
    "# dangjin_warehouse: 당진자재창고태양광 발전량(KW)\n",
    "# dangjin: 당진태양광 발전량(KW)\n",
    "# ulsan: 울산태양광 발전량(KW)\n"
   ]
  },
  {
   "cell_type": "code",
   "execution_count": 25,
   "metadata": {},
   "outputs": [
    {
     "output_type": "execute_result",
     "data": {
      "text/plain": [
       "                  time  dangjin_floating  dangjin_warehouse  dangjin  ulsan\n",
       "0  2021-02-01 01:00:00                 0                  0        0      0\n",
       "1  2021-02-01 02:00:00                 0                  0        0      0"
      ],
      "text/html": "<div>\n<style scoped>\n    .dataframe tbody tr th:only-of-type {\n        vertical-align: middle;\n    }\n\n    .dataframe tbody tr th {\n        vertical-align: top;\n    }\n\n    .dataframe thead th {\n        text-align: right;\n    }\n</style>\n<table border=\"1\" class=\"dataframe\">\n  <thead>\n    <tr style=\"text-align: right;\">\n      <th></th>\n      <th>time</th>\n      <th>dangjin_floating</th>\n      <th>dangjin_warehouse</th>\n      <th>dangjin</th>\n      <th>ulsan</th>\n    </tr>\n  </thead>\n  <tbody>\n    <tr>\n      <th>0</th>\n      <td>2021-02-01 01:00:00</td>\n      <td>0</td>\n      <td>0</td>\n      <td>0</td>\n      <td>0</td>\n    </tr>\n    <tr>\n      <th>1</th>\n      <td>2021-02-01 02:00:00</td>\n      <td>0</td>\n      <td>0</td>\n      <td>0</td>\n      <td>0</td>\n    </tr>\n  </tbody>\n</table>\n</div>"
     },
     "metadata": {},
     "execution_count": 25
    }
   ],
   "source": [
    "# 4. 예측한 발전량 제출 양식\n",
    "sample_sub = pd.read_csv(files[3])\n",
    "sample_sub.head(2)\n",
    "\n",
    "# time: 지난 한시간동안 발전량 예측\n",
    "# dangjin_floating: 당진수상태양광 예측 발전량 (KW)\n",
    "# dangjin_warehouse: 당진자재창고태양광 예측 발전량 (KW)\n",
    "# ulsan: 울산태양광 예측 발전량"
   ]
  },
  {
   "cell_type": "code",
   "execution_count": 26,
   "metadata": {},
   "outputs": [
    {
     "output_type": "execute_result",
     "data": {
      "text/plain": [
       "          Id  Capacity            Address  InstallationAngle  IncidentAngle  \\\n",
       "0    당진수상태양광       1.0  충남 당진시 석문면 교로길 30               30.0           30.0   \n",
       "1  당진자재창고태양광       0.7  충남 당진시 석문면 교로길 30               30.0           30.0   \n",
       "2      당진태양광       1.0  충남 당진시 석문면 교로길 30               30.0           30.0   \n",
       "3      울산태양광       0.5   울산광역시 남구 용잠로 623               20.0           20.0   \n",
       "\n",
       "    Latitude   Longitude  \n",
       "0  37.050753  126.510299  \n",
       "1  37.050753  126.510299  \n",
       "2  37.050753  126.510299  \n",
       "3  35.477651  129.380778  "
      ],
      "text/html": "<div>\n<style scoped>\n    .dataframe tbody tr th:only-of-type {\n        vertical-align: middle;\n    }\n\n    .dataframe tbody tr th {\n        vertical-align: top;\n    }\n\n    .dataframe thead th {\n        text-align: right;\n    }\n</style>\n<table border=\"1\" class=\"dataframe\">\n  <thead>\n    <tr style=\"text-align: right;\">\n      <th></th>\n      <th>Id</th>\n      <th>Capacity</th>\n      <th>Address</th>\n      <th>InstallationAngle</th>\n      <th>IncidentAngle</th>\n      <th>Latitude</th>\n      <th>Longitude</th>\n    </tr>\n  </thead>\n  <tbody>\n    <tr>\n      <th>0</th>\n      <td>당진수상태양광</td>\n      <td>1.0</td>\n      <td>충남 당진시 석문면 교로길 30</td>\n      <td>30.0</td>\n      <td>30.0</td>\n      <td>37.050753</td>\n      <td>126.510299</td>\n    </tr>\n    <tr>\n      <th>1</th>\n      <td>당진자재창고태양광</td>\n      <td>0.7</td>\n      <td>충남 당진시 석문면 교로길 30</td>\n      <td>30.0</td>\n      <td>30.0</td>\n      <td>37.050753</td>\n      <td>126.510299</td>\n    </tr>\n    <tr>\n      <th>2</th>\n      <td>당진태양광</td>\n      <td>1.0</td>\n      <td>충남 당진시 석문면 교로길 30</td>\n      <td>30.0</td>\n      <td>30.0</td>\n      <td>37.050753</td>\n      <td>126.510299</td>\n    </tr>\n    <tr>\n      <th>3</th>\n      <td>울산태양광</td>\n      <td>0.5</td>\n      <td>울산광역시 남구 용잠로 623</td>\n      <td>20.0</td>\n      <td>20.0</td>\n      <td>35.477651</td>\n      <td>129.380778</td>\n    </tr>\n  </tbody>\n</table>\n</div>"
     },
     "metadata": {},
     "execution_count": 26
    }
   ],
   "source": [
    "# 5. 발전소 정보\n",
    "site = pd.read_csv(files[4])\n",
    "site\n",
    "\n",
    "# Id: 발전소 식별자\n",
    "# Capacity: 발전소 발전용량(MW)\n",
    "# Address: 주소\n",
    "# InstallationAngle: 설치각\n",
    "# IncidentAngle: 입사각\n",
    "# Latitude: 위도\n",
    "# Longitude: 경도"
   ]
  },
  {
   "cell_type": "code",
   "execution_count": 27,
   "metadata": {},
   "outputs": [
    {
     "output_type": "execute_result",
     "data": {
      "text/plain": [
       "         Forecast time  forecast  Temperature  Humidity  WindSpeed  \\\n",
       "0  2018-03-01 11:00:00       4.0          8.0      20.0       14.0   \n",
       "1  2018-03-01 11:00:00       7.0          4.0      20.0        4.3   \n",
       "2  2018-03-01 11:00:00      10.0          3.0      30.0        1.9   \n",
       "3  2018-03-01 11:00:00      13.0          0.0      40.0        1.5   \n",
       "4  2018-03-01 11:00:00      16.0         -1.0      45.0        1.8   \n",
       "\n",
       "   WindDirection  Cloud  \n",
       "0          298.0    2.0  \n",
       "1          298.0    2.0  \n",
       "2          309.0    2.0  \n",
       "3          318.0    2.0  \n",
       "4          308.0    2.0  "
      ],
      "text/html": "<div>\n<style scoped>\n    .dataframe tbody tr th:only-of-type {\n        vertical-align: middle;\n    }\n\n    .dataframe tbody tr th {\n        vertical-align: top;\n    }\n\n    .dataframe thead th {\n        text-align: right;\n    }\n</style>\n<table border=\"1\" class=\"dataframe\">\n  <thead>\n    <tr style=\"text-align: right;\">\n      <th></th>\n      <th>Forecast time</th>\n      <th>forecast</th>\n      <th>Temperature</th>\n      <th>Humidity</th>\n      <th>WindSpeed</th>\n      <th>WindDirection</th>\n      <th>Cloud</th>\n    </tr>\n  </thead>\n  <tbody>\n    <tr>\n      <th>0</th>\n      <td>2018-03-01 11:00:00</td>\n      <td>4.0</td>\n      <td>8.0</td>\n      <td>20.0</td>\n      <td>14.0</td>\n      <td>298.0</td>\n      <td>2.0</td>\n    </tr>\n    <tr>\n      <th>1</th>\n      <td>2018-03-01 11:00:00</td>\n      <td>7.0</td>\n      <td>4.0</td>\n      <td>20.0</td>\n      <td>4.3</td>\n      <td>298.0</td>\n      <td>2.0</td>\n    </tr>\n    <tr>\n      <th>2</th>\n      <td>2018-03-01 11:00:00</td>\n      <td>10.0</td>\n      <td>3.0</td>\n      <td>30.0</td>\n      <td>1.9</td>\n      <td>309.0</td>\n      <td>2.0</td>\n    </tr>\n    <tr>\n      <th>3</th>\n      <td>2018-03-01 11:00:00</td>\n      <td>13.0</td>\n      <td>0.0</td>\n      <td>40.0</td>\n      <td>1.5</td>\n      <td>318.0</td>\n      <td>2.0</td>\n    </tr>\n    <tr>\n      <th>4</th>\n      <td>2018-03-01 11:00:00</td>\n      <td>16.0</td>\n      <td>-1.0</td>\n      <td>45.0</td>\n      <td>1.8</td>\n      <td>308.0</td>\n      <td>2.0</td>\n    </tr>\n  </tbody>\n</table>\n</div>"
     },
     "metadata": {},
     "execution_count": 27
    }
   ],
   "source": [
    "# 6. 울산 발전소 동네 날씨 정보\n",
    "us_fcst = pd.read_csv(files[5])\n",
    "us_fcst.head()\n",
    "\n",
    "# Forecast time: 예보 발표 시점 2018-03-01 11:00:00\n",
    "# forcast: 예보 시간 11시에 발표해서 forcast 만큼 지난 시간 +4면 15:00:00\n",
    "# Temperature: 온도 (도씨)\n",
    "# Humidity: 습도 (%)\n",
    "# WindSpeed: 풍속 (m/s)\n",
    "# WindDirection: 풍향\n",
    "# Cloud: 하늘 상태\n",
    "# 1-맑음 / 2-구름보통 / 3-구름많음 / 4-흐림\n"
   ]
  },
  {
   "cell_type": "code",
   "execution_count": 28,
   "metadata": {},
   "outputs": [
    {
     "output_type": "execute_result",
     "data": {
      "text/plain": [
       "    지점 지점명                일시  기온(°C)  풍속(m/s)  풍향(16방위)  습도(%)  전운량(10분위)\n",
       "0  152  울산  2018-03-01 00:00     8.2      3.9     340.0   98.0       10.0\n",
       "1  152  울산  2018-03-01 01:00     7.0      4.1     320.0   97.0       10.0\n",
       "2  152  울산  2018-03-01 02:00     6.5      5.9     290.0   80.0        NaN\n",
       "3  152  울산  2018-03-01 03:00     6.2      4.6     320.0   79.0        3.0\n",
       "4  152  울산  2018-03-01 04:00     6.7      4.5     320.0   73.0        1.0"
      ],
      "text/html": "<div>\n<style scoped>\n    .dataframe tbody tr th:only-of-type {\n        vertical-align: middle;\n    }\n\n    .dataframe tbody tr th {\n        vertical-align: top;\n    }\n\n    .dataframe thead th {\n        text-align: right;\n    }\n</style>\n<table border=\"1\" class=\"dataframe\">\n  <thead>\n    <tr style=\"text-align: right;\">\n      <th></th>\n      <th>지점</th>\n      <th>지점명</th>\n      <th>일시</th>\n      <th>기온(°C)</th>\n      <th>풍속(m/s)</th>\n      <th>풍향(16방위)</th>\n      <th>습도(%)</th>\n      <th>전운량(10분위)</th>\n    </tr>\n  </thead>\n  <tbody>\n    <tr>\n      <th>0</th>\n      <td>152</td>\n      <td>울산</td>\n      <td>2018-03-01 00:00</td>\n      <td>8.2</td>\n      <td>3.9</td>\n      <td>340.0</td>\n      <td>98.0</td>\n      <td>10.0</td>\n    </tr>\n    <tr>\n      <th>1</th>\n      <td>152</td>\n      <td>울산</td>\n      <td>2018-03-01 01:00</td>\n      <td>7.0</td>\n      <td>4.1</td>\n      <td>320.0</td>\n      <td>97.0</td>\n      <td>10.0</td>\n    </tr>\n    <tr>\n      <th>2</th>\n      <td>152</td>\n      <td>울산</td>\n      <td>2018-03-01 02:00</td>\n      <td>6.5</td>\n      <td>5.9</td>\n      <td>290.0</td>\n      <td>80.0</td>\n      <td>NaN</td>\n    </tr>\n    <tr>\n      <th>3</th>\n      <td>152</td>\n      <td>울산</td>\n      <td>2018-03-01 03:00</td>\n      <td>6.2</td>\n      <td>4.6</td>\n      <td>320.0</td>\n      <td>79.0</td>\n      <td>3.0</td>\n    </tr>\n    <tr>\n      <th>4</th>\n      <td>152</td>\n      <td>울산</td>\n      <td>2018-03-01 04:00</td>\n      <td>6.7</td>\n      <td>4.5</td>\n      <td>320.0</td>\n      <td>73.0</td>\n      <td>1.0</td>\n    </tr>\n  </tbody>\n</table>\n</div>"
     },
     "metadata": {},
     "execution_count": 28
    }
   ],
   "source": [
    "# 7. 울산 발전소 인근 기상 관측 정보\n",
    "us_obs = pd.read_csv(files[6])\n",
    "us_obs.head()\n",
    "\n",
    "# 지점: 지점 코드\n",
    "# 지점명: 관측소 지점 (울산)\n",
    "# 일시: 관측 시간 Y-M-D H:M\n",
    "# 기온 , 풍속, 풍향, 습도\n",
    "# 전운량: 낮을수록 구름이 적다."
   ]
  },
  {
   "source": [
    "---"
   ],
   "cell_type": "markdown",
   "metadata": {}
  },
  {
   "source": [
    "## 1. 데이터 정제\n",
    "### 1) 날씨 정보 컬럼명 변경"
   ],
   "cell_type": "markdown",
   "metadata": {}
  },
  {
   "cell_type": "code",
   "execution_count": 39,
   "metadata": {},
   "outputs": [
    {
     "output_type": "execute_result",
     "data": {
      "text/plain": [
       "                예보발표시간    시간   기온    습도    풍속     풍향  날씨코드\n",
       "0  2018-03-01 11:00:00   4.0  8.0  20.0  14.0  298.0   2.0\n",
       "1  2018-03-01 11:00:00   7.0  4.0  20.0   4.3  298.0   2.0\n",
       "2  2018-03-01 11:00:00  10.0  3.0  30.0   1.9  309.0   2.0\n",
       "3  2018-03-01 11:00:00  13.0  0.0  40.0   1.5  318.0   2.0\n",
       "4  2018-03-01 11:00:00  16.0 -1.0  45.0   1.8  308.0   2.0"
      ],
      "text/html": "<div>\n<style scoped>\n    .dataframe tbody tr th:only-of-type {\n        vertical-align: middle;\n    }\n\n    .dataframe tbody tr th {\n        vertical-align: top;\n    }\n\n    .dataframe thead th {\n        text-align: right;\n    }\n</style>\n<table border=\"1\" class=\"dataframe\">\n  <thead>\n    <tr style=\"text-align: right;\">\n      <th></th>\n      <th>예보발표시간</th>\n      <th>시간</th>\n      <th>기온</th>\n      <th>습도</th>\n      <th>풍속</th>\n      <th>풍향</th>\n      <th>날씨코드</th>\n    </tr>\n  </thead>\n  <tbody>\n    <tr>\n      <th>0</th>\n      <td>2018-03-01 11:00:00</td>\n      <td>4.0</td>\n      <td>8.0</td>\n      <td>20.0</td>\n      <td>14.0</td>\n      <td>298.0</td>\n      <td>2.0</td>\n    </tr>\n    <tr>\n      <th>1</th>\n      <td>2018-03-01 11:00:00</td>\n      <td>7.0</td>\n      <td>4.0</td>\n      <td>20.0</td>\n      <td>4.3</td>\n      <td>298.0</td>\n      <td>2.0</td>\n    </tr>\n    <tr>\n      <th>2</th>\n      <td>2018-03-01 11:00:00</td>\n      <td>10.0</td>\n      <td>3.0</td>\n      <td>30.0</td>\n      <td>1.9</td>\n      <td>309.0</td>\n      <td>2.0</td>\n    </tr>\n    <tr>\n      <th>3</th>\n      <td>2018-03-01 11:00:00</td>\n      <td>13.0</td>\n      <td>0.0</td>\n      <td>40.0</td>\n      <td>1.5</td>\n      <td>318.0</td>\n      <td>2.0</td>\n    </tr>\n    <tr>\n      <th>4</th>\n      <td>2018-03-01 11:00:00</td>\n      <td>16.0</td>\n      <td>-1.0</td>\n      <td>45.0</td>\n      <td>1.8</td>\n      <td>308.0</td>\n      <td>2.0</td>\n    </tr>\n  </tbody>\n</table>\n</div>"
     },
     "metadata": {},
     "execution_count": 39
    }
   ],
   "source": [
    "# 울산광역시 us_fcst\n",
    "# 날씨 예보 데이터 컬럼명 변경\n",
    "# 읽기 쉽게 한글로 변경\n",
    "us_fcst.rename(columns={us_fcst.columns[0]: \"예보발표시간\",\n",
    "us_fcst.columns[1]:\"시간\", # 예측시각\n",
    "us_fcst.columns[2]:\"기온\",\n",
    "us_fcst.columns[3]:\"습도\",\n",
    "us_fcst.columns[4]:\"풍속\",\n",
    "us_fcst.columns[5]:\"풍향\",\n",
    "us_fcst.columns[6]:\"날씨코드\"}, inplace=True)\n",
    "us_fcst.head()\n"
   ]
  },
  {
   "cell_type": "code",
   "execution_count": 38,
   "metadata": {},
   "outputs": [
    {
     "output_type": "execute_result",
     "data": {
      "text/plain": [
       "   지점코드 지점명                시간   기온   풍속     풍향    습도   전운량\n",
       "0   152  울산  2018-03-01 00:00  8.2  3.9  340.0  98.0  10.0\n",
       "1   152  울산  2018-03-01 01:00  7.0  4.1  320.0  97.0  10.0\n",
       "2   152  울산  2018-03-01 02:00  6.5  5.9  290.0  80.0   NaN\n",
       "3   152  울산  2018-03-01 03:00  6.2  4.6  320.0  79.0   3.0\n",
       "4   152  울산  2018-03-01 04:00  6.7  4.5  320.0  73.0   1.0"
      ],
      "text/html": "<div>\n<style scoped>\n    .dataframe tbody tr th:only-of-type {\n        vertical-align: middle;\n    }\n\n    .dataframe tbody tr th {\n        vertical-align: top;\n    }\n\n    .dataframe thead th {\n        text-align: right;\n    }\n</style>\n<table border=\"1\" class=\"dataframe\">\n  <thead>\n    <tr style=\"text-align: right;\">\n      <th></th>\n      <th>지점코드</th>\n      <th>지점명</th>\n      <th>시간</th>\n      <th>기온</th>\n      <th>풍속</th>\n      <th>풍향</th>\n      <th>습도</th>\n      <th>전운량</th>\n    </tr>\n  </thead>\n  <tbody>\n    <tr>\n      <th>0</th>\n      <td>152</td>\n      <td>울산</td>\n      <td>2018-03-01 00:00</td>\n      <td>8.2</td>\n      <td>3.9</td>\n      <td>340.0</td>\n      <td>98.0</td>\n      <td>10.0</td>\n    </tr>\n    <tr>\n      <th>1</th>\n      <td>152</td>\n      <td>울산</td>\n      <td>2018-03-01 01:00</td>\n      <td>7.0</td>\n      <td>4.1</td>\n      <td>320.0</td>\n      <td>97.0</td>\n      <td>10.0</td>\n    </tr>\n    <tr>\n      <th>2</th>\n      <td>152</td>\n      <td>울산</td>\n      <td>2018-03-01 02:00</td>\n      <td>6.5</td>\n      <td>5.9</td>\n      <td>290.0</td>\n      <td>80.0</td>\n      <td>NaN</td>\n    </tr>\n    <tr>\n      <th>3</th>\n      <td>152</td>\n      <td>울산</td>\n      <td>2018-03-01 03:00</td>\n      <td>6.2</td>\n      <td>4.6</td>\n      <td>320.0</td>\n      <td>79.0</td>\n      <td>3.0</td>\n    </tr>\n    <tr>\n      <th>4</th>\n      <td>152</td>\n      <td>울산</td>\n      <td>2018-03-01 04:00</td>\n      <td>6.7</td>\n      <td>4.5</td>\n      <td>320.0</td>\n      <td>73.0</td>\n      <td>1.0</td>\n    </tr>\n  </tbody>\n</table>\n</div>"
     },
     "metadata": {},
     "execution_count": 38
    }
   ],
   "source": [
    "# 울산광역시 us_obs\n",
    "# 날씨 관측 데이터 컬럼명 변경\n",
    "us_obs.rename(columns={us_obs.columns[0]: \"지점코드\",\n",
    "us_obs.columns[1]:\"지점명\",\n",
    "us_obs.columns[2]:\"시간\", # 관측시간\n",
    "us_obs.columns[3]:\"기온\",\n",
    "us_obs.columns[4]:\"풍속\",\n",
    "us_obs.columns[5]:\"풍향\",\n",
    "us_obs.columns[6]:\"습도\",\n",
    "us_obs.columns[7]:\"전운량\"}, inplace=True)\n",
    "us_obs.head()"
   ]
  },
  {
   "source": [
    "----\n",
    "### 2) 예보시간 TimeStamp로 나타내기\n",
    "- 2018-03-01 11시에 관측하여\n",
    "- 시간 컬럼이 만약에 4라면\n",
    "- 2018-03-01 15시 의 timestamp 값을 가지도록"
   ],
   "cell_type": "markdown",
   "metadata": {}
  },
  {
   "cell_type": "code",
   "execution_count": 16,
   "metadata": {},
   "outputs": [
    {
     "output_type": "execute_result",
     "data": {
      "text/plain": [
       "                예보발표시간    시간   기온    습도    풍속     풍향  날씨코드\n",
       "0  2018-03-01 11:00:00   4.0  8.0  20.0  14.0  298.0   2.0\n",
       "1  2018-03-01 11:00:00   7.0  4.0  20.0   4.3  298.0   2.0\n",
       "2  2018-03-01 11:00:00  10.0  3.0  30.0   1.9  309.0   2.0\n",
       "3  2018-03-01 11:00:00  13.0  0.0  40.0   1.5  318.0   2.0\n",
       "4  2018-03-01 11:00:00  16.0 -1.0  45.0   1.8  308.0   2.0"
      ],
      "text/html": "<div>\n<style scoped>\n    .dataframe tbody tr th:only-of-type {\n        vertical-align: middle;\n    }\n\n    .dataframe tbody tr th {\n        vertical-align: top;\n    }\n\n    .dataframe thead th {\n        text-align: right;\n    }\n</style>\n<table border=\"1\" class=\"dataframe\">\n  <thead>\n    <tr style=\"text-align: right;\">\n      <th></th>\n      <th>예보발표시간</th>\n      <th>시간</th>\n      <th>기온</th>\n      <th>습도</th>\n      <th>풍속</th>\n      <th>풍향</th>\n      <th>날씨코드</th>\n    </tr>\n  </thead>\n  <tbody>\n    <tr>\n      <th>0</th>\n      <td>2018-03-01 11:00:00</td>\n      <td>4.0</td>\n      <td>8.0</td>\n      <td>20.0</td>\n      <td>14.0</td>\n      <td>298.0</td>\n      <td>2.0</td>\n    </tr>\n    <tr>\n      <th>1</th>\n      <td>2018-03-01 11:00:00</td>\n      <td>7.0</td>\n      <td>4.0</td>\n      <td>20.0</td>\n      <td>4.3</td>\n      <td>298.0</td>\n      <td>2.0</td>\n    </tr>\n    <tr>\n      <th>2</th>\n      <td>2018-03-01 11:00:00</td>\n      <td>10.0</td>\n      <td>3.0</td>\n      <td>30.0</td>\n      <td>1.9</td>\n      <td>309.0</td>\n      <td>2.0</td>\n    </tr>\n    <tr>\n      <th>3</th>\n      <td>2018-03-01 11:00:00</td>\n      <td>13.0</td>\n      <td>0.0</td>\n      <td>40.0</td>\n      <td>1.5</td>\n      <td>318.0</td>\n      <td>2.0</td>\n    </tr>\n    <tr>\n      <th>4</th>\n      <td>2018-03-01 11:00:00</td>\n      <td>16.0</td>\n      <td>-1.0</td>\n      <td>45.0</td>\n      <td>1.8</td>\n      <td>308.0</td>\n      <td>2.0</td>\n    </tr>\n  </tbody>\n</table>\n</div>"
     },
     "metadata": {},
     "execution_count": 16
    }
   ],
   "source": [
    "# 울산 광역시 us_fcst\n",
    "# 날씨 예보 데이터 시간 컬럼 -> TimeStamp\n",
    "us_fcst.head()"
   ]
  },
  {
   "cell_type": "code",
   "execution_count": 33,
   "metadata": {},
   "outputs": [
    {
     "output_type": "stream",
     "name": "stdout",
     "text": [
      "{2018: [31, 28, 31, 30, 31, 30, 31, 31, 30, 31, 30, 31], 2019: [31, 28, 31, 30, 31, 30, 31, 31, 30, 31, 30, 31], 2020: [31, 29, 31, 30, 31, 30, 31, 31, 30, 31, 30, 31], 2021: [31, 28, 31, 30, 31, 30, 31, 31, 30, 31, 30, 31]}\n"
     ]
    }
   ],
   "source": [
    "# 예보발표시간 날짜에 해당하는 월의 마지막 일 수 구하기\n",
    "#  2018 3월 ~ 2021 3월\n",
    "months = [i for i in range(1, 13)]\n",
    "lastDays = {2018: [], 2019: [], 2020: [], 2021: []}\n",
    "\n",
    "days = []\n",
    "for year in lastDays:\n",
    "    for month in months:\n",
    "        lastDays[year].append(cal.monthrange(year, month)[1])\n",
    "\n",
    "print(lastDays)"
   ]
  },
  {
   "cell_type": "code",
   "execution_count": 39,
   "metadata": {
    "tags": []
   },
   "outputs": [
    {
     "output_type": "stream",
     "name": "stderr",
     "text": [
      "<ipython-input-39-29aa06e2396e>:52: SettingWithCopyWarning: \nA value is trying to be set on a copy of a slice from a DataFrame\n\nSee the caveats in the documentation: https://pandas.pydata.org/pandas-docs/stable/user_guide/indexing.html#returning-a-view-versus-a-copy\n  us_fcst['시간'][i] = preTS\nD:\\anaconda3\\lib\\site-packages\\pandas\\core\\indexing.py:670: SettingWithCopyWarning: \nA value is trying to be set on a copy of a slice from a DataFrame\n\nSee the caveats in the documentation: https://pandas.pydata.org/pandas-docs/stable/user_guide/indexing.html#returning-a-view-versus-a-copy\n  iloc._setitem_with_indexer(indexer, value)\n<ipython-input-39-29aa06e2396e>:47: SettingWithCopyWarning: \nA value is trying to be set on a copy of a slice from a DataFrame\n\nSee the caveats in the documentation: https://pandas.pydata.org/pandas-docs/stable/user_guide/indexing.html#returning-a-view-versus-a-copy\n  us_fcst['시간'][i] = preTS\n"
     ]
    }
   ],
   "source": [
    "# 울산광역시 us_fcst\n",
    "# 반복문을 사용하여 timestamp로 변경\n",
    "\n",
    "# # for i in range(162147, 162152):\n",
    "# # for i in range(153414, 153417):\n",
    "# for i in range(162208):\n",
    "#     announceTime = us_fcst[\"예보발표시간\"][i]\n",
    "#     predictTime = us_fcst[\"시간\"][i]\n",
    "#     annTS = pd.Timestamp(announceTime) # 예보발표시간 to TimeStamp\n",
    "\n",
    "#     year = annTS.year\n",
    "#     month = annTS.month\n",
    "#     day = annTS.day\n",
    "#     hour = annTS.hour\n",
    "\n",
    "#     preHour = int(hour + predictTime) # 예보시간의 시간 구하기\n",
    "#     # print(year, month, day, hour)\n",
    "#     # print(\"preHour:\", preHour)\n",
    "\n",
    "#     plusDay = preHour // 24 # 더해지는 일수\n",
    "#     hour = preHour % 24 # 나머지 시간\n",
    "#     # print(\"plusDay:\", plusDay,\"hour:\", hour)\n",
    "\n",
    "#     if(plusDay > 0):\n",
    "#         day += plusDay # 해당 일 + 더해지는 일 수\n",
    "\n",
    "#         # 만약 month가 1, 3, 5, 7, 8, 10, 12 라면: 31일\n",
    "#         if(month == 1 or month == 3 or month == 5 or month == 7 or month == 8 or month == 10 or month == 12):\n",
    "#             if(day > 31):\n",
    "#                 month += 1\n",
    "#                 day %= 31\n",
    "#                 if(month> 12):\n",
    "#                     year += 1\n",
    "#                     month = 1\n",
    "#             # print(\"month:\", month,\"day:\", day)\n",
    "#         # 만약 month가 2, 4, 6, 9, 11 이라면: 31일 X\n",
    "#         else:\n",
    "#             lastDay = lastDays[year][month-1]\n",
    "#             if(day > lastDay):\n",
    "#                 month += 1\n",
    "#                 day %= lastDay\n",
    "#                 if(month> 12):\n",
    "#                     year += 1\n",
    "#                     month = 1\n",
    "#             # print(\"month:\", month,\"day:\", day)\n",
    "\n",
    "#         preTS = pd.Timestamp(year, month, day, hour)\n",
    "#         preTS = datetime.datetime.strftime(preTS, '%Y-%m-%d %H:%M')\n",
    "#         # print(preTS)\n",
    "#         us_fcst['시간'][i] = preTS\n",
    "#     else:\n",
    "#         preTS = pd.Timestamp(year, month, day, hour)\n",
    "#         preTS = datetime.datetime.strftime(preTS, '%Y-%m-%d %H:%M')\n",
    "#         # print(preTS)\n",
    "#         us_fcst['시간'][i] = preTS\n",
    "\n",
    "#     # print(us_fcst['예보시간'][i])"
   ]
  },
  {
   "cell_type": "code",
   "execution_count": 40,
   "metadata": {},
   "outputs": [
    {
     "output_type": "execute_result",
     "data": {
      "text/plain": [
       "                예보발표시간                시간   기온    습도    풍속     풍향  날씨코드\n",
       "0  2018-03-01 11:00:00  2018-03-01 15:00  8.0  20.0  14.0  298.0   2.0\n",
       "1  2018-03-01 11:00:00  2018-03-01 18:00  4.0  20.0   4.3  298.0   2.0\n",
       "2  2018-03-01 11:00:00  2018-03-01 21:00  3.0  30.0   1.9  309.0   2.0\n",
       "3  2018-03-01 11:00:00  2018-03-02 00:00  0.0  40.0   1.5  318.0   2.0\n",
       "4  2018-03-01 11:00:00  2018-03-02 03:00 -1.0  45.0   1.8  308.0   2.0"
      ],
      "text/html": "<div>\n<style scoped>\n    .dataframe tbody tr th:only-of-type {\n        vertical-align: middle;\n    }\n\n    .dataframe tbody tr th {\n        vertical-align: top;\n    }\n\n    .dataframe thead th {\n        text-align: right;\n    }\n</style>\n<table border=\"1\" class=\"dataframe\">\n  <thead>\n    <tr style=\"text-align: right;\">\n      <th></th>\n      <th>예보발표시간</th>\n      <th>시간</th>\n      <th>기온</th>\n      <th>습도</th>\n      <th>풍속</th>\n      <th>풍향</th>\n      <th>날씨코드</th>\n    </tr>\n  </thead>\n  <tbody>\n    <tr>\n      <th>0</th>\n      <td>2018-03-01 11:00:00</td>\n      <td>2018-03-01 15:00</td>\n      <td>8.0</td>\n      <td>20.0</td>\n      <td>14.0</td>\n      <td>298.0</td>\n      <td>2.0</td>\n    </tr>\n    <tr>\n      <th>1</th>\n      <td>2018-03-01 11:00:00</td>\n      <td>2018-03-01 18:00</td>\n      <td>4.0</td>\n      <td>20.0</td>\n      <td>4.3</td>\n      <td>298.0</td>\n      <td>2.0</td>\n    </tr>\n    <tr>\n      <th>2</th>\n      <td>2018-03-01 11:00:00</td>\n      <td>2018-03-01 21:00</td>\n      <td>3.0</td>\n      <td>30.0</td>\n      <td>1.9</td>\n      <td>309.0</td>\n      <td>2.0</td>\n    </tr>\n    <tr>\n      <th>3</th>\n      <td>2018-03-01 11:00:00</td>\n      <td>2018-03-02 00:00</td>\n      <td>0.0</td>\n      <td>40.0</td>\n      <td>1.5</td>\n      <td>318.0</td>\n      <td>2.0</td>\n    </tr>\n    <tr>\n      <th>4</th>\n      <td>2018-03-01 11:00:00</td>\n      <td>2018-03-02 03:00</td>\n      <td>-1.0</td>\n      <td>45.0</td>\n      <td>1.8</td>\n      <td>308.0</td>\n      <td>2.0</td>\n    </tr>\n  </tbody>\n</table>\n</div>"
     },
     "metadata": {},
     "execution_count": 40
    }
   ],
   "source": [
    "# 시간 컬럼 -> TimeStamp 변경 결과\n",
    "us_fcst.head()"
   ]
  },
  {
   "cell_type": "code",
   "execution_count": 41,
   "metadata": {},
   "outputs": [],
   "source": [
    "# 변경된 데이터 파일로 저장하기\n",
    "# # 파일로 변환\n",
    "# us_fcst.to_csv('ulsan_fcst_convert.csv', mode='w', encoding='utf-8-sig', index=False)"
   ]
  },
  {
   "cell_type": "code",
   "execution_count": 40,
   "metadata": {},
   "outputs": [
    {
     "output_type": "execute_result",
     "data": {
      "text/plain": [
       "                예보발표시간                시간   기온    습도    풍속     풍향  날씨코드\n",
       "0  2018-03-01 11:00:00  2018-03-01 15:00  8.0  20.0  14.0  298.0   2.0\n",
       "1  2018-03-01 11:00:00  2018-03-01 18:00  4.0  20.0   4.3  298.0   2.0\n",
       "2  2018-03-01 11:00:00  2018-03-01 21:00  3.0  30.0   1.9  309.0   2.0\n",
       "3  2018-03-01 11:00:00  2018-03-02 00:00  0.0  40.0   1.5  318.0   2.0\n",
       "4  2018-03-01 11:00:00  2018-03-02 03:00 -1.0  45.0   1.8  308.0   2.0"
      ],
      "text/html": "<div>\n<style scoped>\n    .dataframe tbody tr th:only-of-type {\n        vertical-align: middle;\n    }\n\n    .dataframe tbody tr th {\n        vertical-align: top;\n    }\n\n    .dataframe thead th {\n        text-align: right;\n    }\n</style>\n<table border=\"1\" class=\"dataframe\">\n  <thead>\n    <tr style=\"text-align: right;\">\n      <th></th>\n      <th>예보발표시간</th>\n      <th>시간</th>\n      <th>기온</th>\n      <th>습도</th>\n      <th>풍속</th>\n      <th>풍향</th>\n      <th>날씨코드</th>\n    </tr>\n  </thead>\n  <tbody>\n    <tr>\n      <th>0</th>\n      <td>2018-03-01 11:00:00</td>\n      <td>2018-03-01 15:00</td>\n      <td>8.0</td>\n      <td>20.0</td>\n      <td>14.0</td>\n      <td>298.0</td>\n      <td>2.0</td>\n    </tr>\n    <tr>\n      <th>1</th>\n      <td>2018-03-01 11:00:00</td>\n      <td>2018-03-01 18:00</td>\n      <td>4.0</td>\n      <td>20.0</td>\n      <td>4.3</td>\n      <td>298.0</td>\n      <td>2.0</td>\n    </tr>\n    <tr>\n      <th>2</th>\n      <td>2018-03-01 11:00:00</td>\n      <td>2018-03-01 21:00</td>\n      <td>3.0</td>\n      <td>30.0</td>\n      <td>1.9</td>\n      <td>309.0</td>\n      <td>2.0</td>\n    </tr>\n    <tr>\n      <th>3</th>\n      <td>2018-03-01 11:00:00</td>\n      <td>2018-03-02 00:00</td>\n      <td>0.0</td>\n      <td>40.0</td>\n      <td>1.5</td>\n      <td>318.0</td>\n      <td>2.0</td>\n    </tr>\n    <tr>\n      <th>4</th>\n      <td>2018-03-01 11:00:00</td>\n      <td>2018-03-02 03:00</td>\n      <td>-1.0</td>\n      <td>45.0</td>\n      <td>1.8</td>\n      <td>308.0</td>\n      <td>2.0</td>\n    </tr>\n  </tbody>\n</table>\n</div>"
     },
     "metadata": {},
     "execution_count": 40
    }
   ],
   "source": [
    "# 저장된 파일 가져오기\n",
    "us_fcst_convert = pd.read_csv('./ulsan_fcst_convert.csv')\n",
    "us_fcst_convert.head()"
   ]
  },
  {
   "source": [
    "------\n",
    "### 3) 날씨 예보 데이터 & 날씨 관측 데이터 Merge\n",
    "- 필요없는 컬럼명 drop"
   ],
   "cell_type": "markdown",
   "metadata": {}
  },
  {
   "cell_type": "code",
   "execution_count": 21,
   "metadata": {},
   "outputs": [
    {
     "output_type": "stream",
     "name": "stdout",
     "text": [
      "15    2018-03-01 15:00\nName: 시간, dtype: object\n0    2018-03-01 00:00\nName: 시간, dtype: object\n"
     ]
    }
   ],
   "source": [
    "# merge_df = pd.merge(us_fcst_convert, us_obs, on=\"시간\")\n",
    "# merge_df.head()\n",
    "df1 = pd.DataFrame(us_obs.loc[15])\n",
    "df2 = pd.DataFrame(us_fcst_convert.loc[0])\n",
    "df3 = pd.DataFrame({'시간': df1.loc['시간'], '기온':1})\n",
    "df4 = pd.DataFrame({'시간': df2.loc['시간'], '기온':3})\n",
    "# merge_df = pd.merge(df1, df2, on='시간')\n",
    "time1 = df3['시간']\n",
    "time2 = df4['시간']\n",
    "\n",
    "time3 = df3['시간']\n",
    "print(time1)\n",
    "print(time2)"
   ]
  },
  {
   "cell_type": "code",
   "execution_count": 22,
   "metadata": {},
   "outputs": [
    {
     "output_type": "execute_result",
     "data": {
      "text/plain": [
       "                예보발표시간                시간  기온_x  습도_x  풍속_x   풍향_x  날씨코드  지점코드  \\\n",
       "0  2018-03-01 11:00:00  2018-03-01 00:00   8.0  20.0  14.0  298.0   2.0   152   \n",
       "1  2018-03-01 11:00:00  2018-03-01 00:00   4.0  20.0   4.3  298.0   2.0   152   \n",
       "2  2018-03-01 11:00:00  2018-03-01 00:00   3.0  30.0   1.9  309.0   2.0   152   \n",
       "3  2018-03-01 14:00:00  2018-03-01 00:00   4.0  20.0   4.3  298.0   2.0   152   \n",
       "4  2018-03-01 14:00:00  2018-03-01 00:00   3.0  30.0   1.9  309.0   2.0   152   \n",
       "\n",
       "  지점명  기온_y  풍속_y   풍향_y  습도_y   전운량  \n",
       "0  울산   8.2   3.9  340.0  98.0  10.0  \n",
       "1  울산   8.2   3.9  340.0  98.0  10.0  \n",
       "2  울산   8.2   3.9  340.0  98.0  10.0  \n",
       "3  울산   8.2   3.9  340.0  98.0  10.0  \n",
       "4  울산   8.2   3.9  340.0  98.0  10.0  "
      ],
      "text/html": "<div>\n<style scoped>\n    .dataframe tbody tr th:only-of-type {\n        vertical-align: middle;\n    }\n\n    .dataframe tbody tr th {\n        vertical-align: top;\n    }\n\n    .dataframe thead th {\n        text-align: right;\n    }\n</style>\n<table border=\"1\" class=\"dataframe\">\n  <thead>\n    <tr style=\"text-align: right;\">\n      <th></th>\n      <th>예보발표시간</th>\n      <th>시간</th>\n      <th>기온_x</th>\n      <th>습도_x</th>\n      <th>풍속_x</th>\n      <th>풍향_x</th>\n      <th>날씨코드</th>\n      <th>지점코드</th>\n      <th>지점명</th>\n      <th>기온_y</th>\n      <th>풍속_y</th>\n      <th>풍향_y</th>\n      <th>습도_y</th>\n      <th>전운량</th>\n    </tr>\n  </thead>\n  <tbody>\n    <tr>\n      <th>0</th>\n      <td>2018-03-01 11:00:00</td>\n      <td>2018-03-01 00:00</td>\n      <td>8.0</td>\n      <td>20.0</td>\n      <td>14.0</td>\n      <td>298.0</td>\n      <td>2.0</td>\n      <td>152</td>\n      <td>울산</td>\n      <td>8.2</td>\n      <td>3.9</td>\n      <td>340.0</td>\n      <td>98.0</td>\n      <td>10.0</td>\n    </tr>\n    <tr>\n      <th>1</th>\n      <td>2018-03-01 11:00:00</td>\n      <td>2018-03-01 00:00</td>\n      <td>4.0</td>\n      <td>20.0</td>\n      <td>4.3</td>\n      <td>298.0</td>\n      <td>2.0</td>\n      <td>152</td>\n      <td>울산</td>\n      <td>8.2</td>\n      <td>3.9</td>\n      <td>340.0</td>\n      <td>98.0</td>\n      <td>10.0</td>\n    </tr>\n    <tr>\n      <th>2</th>\n      <td>2018-03-01 11:00:00</td>\n      <td>2018-03-01 00:00</td>\n      <td>3.0</td>\n      <td>30.0</td>\n      <td>1.9</td>\n      <td>309.0</td>\n      <td>2.0</td>\n      <td>152</td>\n      <td>울산</td>\n      <td>8.2</td>\n      <td>3.9</td>\n      <td>340.0</td>\n      <td>98.0</td>\n      <td>10.0</td>\n    </tr>\n    <tr>\n      <th>3</th>\n      <td>2018-03-01 14:00:00</td>\n      <td>2018-03-01 00:00</td>\n      <td>4.0</td>\n      <td>20.0</td>\n      <td>4.3</td>\n      <td>298.0</td>\n      <td>2.0</td>\n      <td>152</td>\n      <td>울산</td>\n      <td>8.2</td>\n      <td>3.9</td>\n      <td>340.0</td>\n      <td>98.0</td>\n      <td>10.0</td>\n    </tr>\n    <tr>\n      <th>4</th>\n      <td>2018-03-01 14:00:00</td>\n      <td>2018-03-01 00:00</td>\n      <td>3.0</td>\n      <td>30.0</td>\n      <td>1.9</td>\n      <td>309.0</td>\n      <td>2.0</td>\n      <td>152</td>\n      <td>울산</td>\n      <td>8.2</td>\n      <td>3.9</td>\n      <td>340.0</td>\n      <td>98.0</td>\n      <td>10.0</td>\n    </tr>\n  </tbody>\n</table>\n</div>"
     },
     "metadata": {},
     "execution_count": 22
    }
   ],
   "source": [
    "# # 시간 컬럼을 기준으로 merge 한다.\n",
    "# merge_us = pd.merge(us_fcst_convert, us_obs, on='시간')\n",
    "# merge_us.head()"
   ]
  },
  {
   "cell_type": "code",
   "execution_count": 41,
   "metadata": {},
   "outputs": [
    {
     "output_type": "execute_result",
     "data": {
      "text/plain": [
       "                 시간   기온   풍속     풍향    습도   전운량\n",
       "0  2018-03-01 00:00  8.2  3.9  340.0  98.0  10.0\n",
       "1  2018-03-01 01:00  7.0  4.1  320.0  97.0  10.0\n",
       "2  2018-03-01 02:00  6.5  5.9  290.0  80.0   NaN\n",
       "3  2018-03-01 03:00  6.2  4.6  320.0  79.0   3.0\n",
       "4  2018-03-01 04:00  6.7  4.5  320.0  73.0   1.0"
      ],
      "text/html": "<div>\n<style scoped>\n    .dataframe tbody tr th:only-of-type {\n        vertical-align: middle;\n    }\n\n    .dataframe tbody tr th {\n        vertical-align: top;\n    }\n\n    .dataframe thead th {\n        text-align: right;\n    }\n</style>\n<table border=\"1\" class=\"dataframe\">\n  <thead>\n    <tr style=\"text-align: right;\">\n      <th></th>\n      <th>시간</th>\n      <th>기온</th>\n      <th>풍속</th>\n      <th>풍향</th>\n      <th>습도</th>\n      <th>전운량</th>\n    </tr>\n  </thead>\n  <tbody>\n    <tr>\n      <th>0</th>\n      <td>2018-03-01 00:00</td>\n      <td>8.2</td>\n      <td>3.9</td>\n      <td>340.0</td>\n      <td>98.0</td>\n      <td>10.0</td>\n    </tr>\n    <tr>\n      <th>1</th>\n      <td>2018-03-01 01:00</td>\n      <td>7.0</td>\n      <td>4.1</td>\n      <td>320.0</td>\n      <td>97.0</td>\n      <td>10.0</td>\n    </tr>\n    <tr>\n      <th>2</th>\n      <td>2018-03-01 02:00</td>\n      <td>6.5</td>\n      <td>5.9</td>\n      <td>290.0</td>\n      <td>80.0</td>\n      <td>NaN</td>\n    </tr>\n    <tr>\n      <th>3</th>\n      <td>2018-03-01 03:00</td>\n      <td>6.2</td>\n      <td>4.6</td>\n      <td>320.0</td>\n      <td>79.0</td>\n      <td>3.0</td>\n    </tr>\n    <tr>\n      <th>4</th>\n      <td>2018-03-01 04:00</td>\n      <td>6.7</td>\n      <td>4.5</td>\n      <td>320.0</td>\n      <td>73.0</td>\n      <td>1.0</td>\n    </tr>\n  </tbody>\n</table>\n</div>"
     },
     "metadata": {},
     "execution_count": 41
    }
   ],
   "source": [
    "# 울산광역시 us_obs\n",
    "# 날씨 관측 데이터 필요없는 컬럼 삭제\n",
    "# 지점코드, 지점명 삭제\n",
    "us_obs_drop = us_obs.drop(['지점코드', '지점명'], axis=1)\n",
    "us_obs_drop.head()"
   ]
  },
  {
   "cell_type": "code",
   "execution_count": 42,
   "metadata": {},
   "outputs": [
    {
     "output_type": "execute_result",
     "data": {
      "text/plain": [
       "                 시간   기온    습도    풍속     풍향  날씨코드\n",
       "0  2018-03-01 15:00  8.0  20.0  14.0  298.0   2.0\n",
       "1  2018-03-01 18:00  4.0  20.0   4.3  298.0   2.0\n",
       "2  2018-03-01 21:00  3.0  30.0   1.9  309.0   2.0\n",
       "3  2018-03-02 00:00  0.0  40.0   1.5  318.0   2.0\n",
       "4  2018-03-02 03:00 -1.0  45.0   1.8  308.0   2.0"
      ],
      "text/html": "<div>\n<style scoped>\n    .dataframe tbody tr th:only-of-type {\n        vertical-align: middle;\n    }\n\n    .dataframe tbody tr th {\n        vertical-align: top;\n    }\n\n    .dataframe thead th {\n        text-align: right;\n    }\n</style>\n<table border=\"1\" class=\"dataframe\">\n  <thead>\n    <tr style=\"text-align: right;\">\n      <th></th>\n      <th>시간</th>\n      <th>기온</th>\n      <th>습도</th>\n      <th>풍속</th>\n      <th>풍향</th>\n      <th>날씨코드</th>\n    </tr>\n  </thead>\n  <tbody>\n    <tr>\n      <th>0</th>\n      <td>2018-03-01 15:00</td>\n      <td>8.0</td>\n      <td>20.0</td>\n      <td>14.0</td>\n      <td>298.0</td>\n      <td>2.0</td>\n    </tr>\n    <tr>\n      <th>1</th>\n      <td>2018-03-01 18:00</td>\n      <td>4.0</td>\n      <td>20.0</td>\n      <td>4.3</td>\n      <td>298.0</td>\n      <td>2.0</td>\n    </tr>\n    <tr>\n      <th>2</th>\n      <td>2018-03-01 21:00</td>\n      <td>3.0</td>\n      <td>30.0</td>\n      <td>1.9</td>\n      <td>309.0</td>\n      <td>2.0</td>\n    </tr>\n    <tr>\n      <th>3</th>\n      <td>2018-03-02 00:00</td>\n      <td>0.0</td>\n      <td>40.0</td>\n      <td>1.5</td>\n      <td>318.0</td>\n      <td>2.0</td>\n    </tr>\n    <tr>\n      <th>4</th>\n      <td>2018-03-02 03:00</td>\n      <td>-1.0</td>\n      <td>45.0</td>\n      <td>1.8</td>\n      <td>308.0</td>\n      <td>2.0</td>\n    </tr>\n  </tbody>\n</table>\n</div>"
     },
     "metadata": {},
     "execution_count": 42
    }
   ],
   "source": [
    "# 울산광역시 us_fcst\n",
    "# 날씨 관측 데이터 필요없는 컬럼명 삭제\n",
    "# 예보발표시간\n",
    "us_fcst_drop = us_fcst_convert.drop(['예보발표시간'], axis=1)\n",
    "us_fcst_drop.head()"
   ]
  },
  {
   "cell_type": "code",
   "execution_count": 43,
   "metadata": {},
   "outputs": [
    {
     "output_type": "execute_result",
     "data": {
      "text/plain": [
       "                 시간  기온_x  습도_x  풍속_x   풍향_x  날씨코드  기온_y  풍속_y   풍향_y  습도_y  \\\n",
       "0  2018-03-01 15:00   8.0  20.0  14.0  298.0   2.0   9.9   7.2  290.0  19.0   \n",
       "1  2018-03-01 18:00   4.0  20.0   4.3  298.0   2.0   6.6   2.3  360.0  19.0   \n",
       "2  2018-03-01 21:00   3.0  30.0   1.9  309.0   2.0   4.0   2.8  340.0  25.0   \n",
       "3  2018-03-02 00:00   0.0  40.0   1.5  318.0   2.0   1.3   3.4  340.0  37.0   \n",
       "4  2018-03-02 03:00  -1.0  45.0   1.8  308.0   2.0  -0.9   2.0   20.0  48.0   \n",
       "\n",
       "   전운량  \n",
       "0  5.0  \n",
       "1  2.0  \n",
       "2  8.0  \n",
       "3  7.0  \n",
       "4  9.0  "
      ],
      "text/html": "<div>\n<style scoped>\n    .dataframe tbody tr th:only-of-type {\n        vertical-align: middle;\n    }\n\n    .dataframe tbody tr th {\n        vertical-align: top;\n    }\n\n    .dataframe thead th {\n        text-align: right;\n    }\n</style>\n<table border=\"1\" class=\"dataframe\">\n  <thead>\n    <tr style=\"text-align: right;\">\n      <th></th>\n      <th>시간</th>\n      <th>기온_x</th>\n      <th>습도_x</th>\n      <th>풍속_x</th>\n      <th>풍향_x</th>\n      <th>날씨코드</th>\n      <th>기온_y</th>\n      <th>풍속_y</th>\n      <th>풍향_y</th>\n      <th>습도_y</th>\n      <th>전운량</th>\n    </tr>\n  </thead>\n  <tbody>\n    <tr>\n      <th>0</th>\n      <td>2018-03-01 15:00</td>\n      <td>8.0</td>\n      <td>20.0</td>\n      <td>14.0</td>\n      <td>298.0</td>\n      <td>2.0</td>\n      <td>9.9</td>\n      <td>7.2</td>\n      <td>290.0</td>\n      <td>19.0</td>\n      <td>5.0</td>\n    </tr>\n    <tr>\n      <th>1</th>\n      <td>2018-03-01 18:00</td>\n      <td>4.0</td>\n      <td>20.0</td>\n      <td>4.3</td>\n      <td>298.0</td>\n      <td>2.0</td>\n      <td>6.6</td>\n      <td>2.3</td>\n      <td>360.0</td>\n      <td>19.0</td>\n      <td>2.0</td>\n    </tr>\n    <tr>\n      <th>2</th>\n      <td>2018-03-01 21:00</td>\n      <td>3.0</td>\n      <td>30.0</td>\n      <td>1.9</td>\n      <td>309.0</td>\n      <td>2.0</td>\n      <td>4.0</td>\n      <td>2.8</td>\n      <td>340.0</td>\n      <td>25.0</td>\n      <td>8.0</td>\n    </tr>\n    <tr>\n      <th>3</th>\n      <td>2018-03-02 00:00</td>\n      <td>0.0</td>\n      <td>40.0</td>\n      <td>1.5</td>\n      <td>318.0</td>\n      <td>2.0</td>\n      <td>1.3</td>\n      <td>3.4</td>\n      <td>340.0</td>\n      <td>37.0</td>\n      <td>7.0</td>\n    </tr>\n    <tr>\n      <th>4</th>\n      <td>2018-03-02 03:00</td>\n      <td>-1.0</td>\n      <td>45.0</td>\n      <td>1.8</td>\n      <td>308.0</td>\n      <td>2.0</td>\n      <td>-0.9</td>\n      <td>2.0</td>\n      <td>20.0</td>\n      <td>48.0</td>\n      <td>9.0</td>\n    </tr>\n  </tbody>\n</table>\n</div>"
     },
     "metadata": {},
     "execution_count": 43
    }
   ],
   "source": [
    "# 울산광역시 us_fcst, us_obs\n",
    "# 예보 데이터 , 관측 데이터 시간 컬럼을 기준으로 Merge\n",
    "# _x : 예보 데이터\n",
    "# _y : 관측 데이터\n",
    "merge_us = pd.merge(us_fcst_drop, us_obs_drop, how='left', left_on='시간', right_on='시간')\n",
    "merge_us.head()"
   ]
  },
  {
   "cell_type": "code",
   "execution_count": 44,
   "metadata": {},
   "outputs": [
    {
     "output_type": "execute_result",
     "data": {
      "text/plain": [
       "                      시간  예측기온  예측습도  예측풍속   예측풍향  날씨코드  관측기온  관측풍속   관측풍향  \\\n",
       "0       2018-03-01 15:00   8.0  20.0  14.0  298.0   2.0   9.9   7.2  290.0   \n",
       "1       2018-03-01 18:00   4.0  20.0   4.3  298.0   2.0   6.6   2.3  360.0   \n",
       "2       2018-03-01 21:00   3.0  30.0   1.9  309.0   2.0   4.0   2.8  340.0   \n",
       "3       2018-03-02 00:00   0.0  40.0   1.5  318.0   2.0   1.3   3.4  340.0   \n",
       "4       2018-03-02 03:00  -1.0  45.0   1.8  308.0   2.0  -0.9   2.0   20.0   \n",
       "...                  ...   ...   ...   ...    ...   ...   ...   ...    ...   \n",
       "162203  2021-03-03 12:00   9.0  45.0   3.1   83.0   3.0   NaN   NaN    NaN   \n",
       "162204  2021-03-03 15:00   9.0  45.0   3.0  111.0   3.0   NaN   NaN    NaN   \n",
       "162205  2021-03-03 18:00   8.0  55.0   2.2  122.0   3.0   NaN   NaN    NaN   \n",
       "162206  2021-03-03 21:00   6.0  65.0   0.9  131.0   3.0   NaN   NaN    NaN   \n",
       "162207  2021-03-04 00:00   4.0  80.0   0.7  188.0   3.0   NaN   NaN    NaN   \n",
       "\n",
       "        관측습도  전운량  \n",
       "0       19.0  5.0  \n",
       "1       19.0  2.0  \n",
       "2       25.0  8.0  \n",
       "3       37.0  7.0  \n",
       "4       48.0  9.0  \n",
       "...      ...  ...  \n",
       "162203   NaN  NaN  \n",
       "162204   NaN  NaN  \n",
       "162205   NaN  NaN  \n",
       "162206   NaN  NaN  \n",
       "162207   NaN  NaN  \n",
       "\n",
       "[162208 rows x 11 columns]"
      ],
      "text/html": "<div>\n<style scoped>\n    .dataframe tbody tr th:only-of-type {\n        vertical-align: middle;\n    }\n\n    .dataframe tbody tr th {\n        vertical-align: top;\n    }\n\n    .dataframe thead th {\n        text-align: right;\n    }\n</style>\n<table border=\"1\" class=\"dataframe\">\n  <thead>\n    <tr style=\"text-align: right;\">\n      <th></th>\n      <th>시간</th>\n      <th>예측기온</th>\n      <th>예측습도</th>\n      <th>예측풍속</th>\n      <th>예측풍향</th>\n      <th>날씨코드</th>\n      <th>관측기온</th>\n      <th>관측풍속</th>\n      <th>관측풍향</th>\n      <th>관측습도</th>\n      <th>전운량</th>\n    </tr>\n  </thead>\n  <tbody>\n    <tr>\n      <th>0</th>\n      <td>2018-03-01 15:00</td>\n      <td>8.0</td>\n      <td>20.0</td>\n      <td>14.0</td>\n      <td>298.0</td>\n      <td>2.0</td>\n      <td>9.9</td>\n      <td>7.2</td>\n      <td>290.0</td>\n      <td>19.0</td>\n      <td>5.0</td>\n    </tr>\n    <tr>\n      <th>1</th>\n      <td>2018-03-01 18:00</td>\n      <td>4.0</td>\n      <td>20.0</td>\n      <td>4.3</td>\n      <td>298.0</td>\n      <td>2.0</td>\n      <td>6.6</td>\n      <td>2.3</td>\n      <td>360.0</td>\n      <td>19.0</td>\n      <td>2.0</td>\n    </tr>\n    <tr>\n      <th>2</th>\n      <td>2018-03-01 21:00</td>\n      <td>3.0</td>\n      <td>30.0</td>\n      <td>1.9</td>\n      <td>309.0</td>\n      <td>2.0</td>\n      <td>4.0</td>\n      <td>2.8</td>\n      <td>340.0</td>\n      <td>25.0</td>\n      <td>8.0</td>\n    </tr>\n    <tr>\n      <th>3</th>\n      <td>2018-03-02 00:00</td>\n      <td>0.0</td>\n      <td>40.0</td>\n      <td>1.5</td>\n      <td>318.0</td>\n      <td>2.0</td>\n      <td>1.3</td>\n      <td>3.4</td>\n      <td>340.0</td>\n      <td>37.0</td>\n      <td>7.0</td>\n    </tr>\n    <tr>\n      <th>4</th>\n      <td>2018-03-02 03:00</td>\n      <td>-1.0</td>\n      <td>45.0</td>\n      <td>1.8</td>\n      <td>308.0</td>\n      <td>2.0</td>\n      <td>-0.9</td>\n      <td>2.0</td>\n      <td>20.0</td>\n      <td>48.0</td>\n      <td>9.0</td>\n    </tr>\n    <tr>\n      <th>...</th>\n      <td>...</td>\n      <td>...</td>\n      <td>...</td>\n      <td>...</td>\n      <td>...</td>\n      <td>...</td>\n      <td>...</td>\n      <td>...</td>\n      <td>...</td>\n      <td>...</td>\n      <td>...</td>\n    </tr>\n    <tr>\n      <th>162203</th>\n      <td>2021-03-03 12:00</td>\n      <td>9.0</td>\n      <td>45.0</td>\n      <td>3.1</td>\n      <td>83.0</td>\n      <td>3.0</td>\n      <td>NaN</td>\n      <td>NaN</td>\n      <td>NaN</td>\n      <td>NaN</td>\n      <td>NaN</td>\n    </tr>\n    <tr>\n      <th>162204</th>\n      <td>2021-03-03 15:00</td>\n      <td>9.0</td>\n      <td>45.0</td>\n      <td>3.0</td>\n      <td>111.0</td>\n      <td>3.0</td>\n      <td>NaN</td>\n      <td>NaN</td>\n      <td>NaN</td>\n      <td>NaN</td>\n      <td>NaN</td>\n    </tr>\n    <tr>\n      <th>162205</th>\n      <td>2021-03-03 18:00</td>\n      <td>8.0</td>\n      <td>55.0</td>\n      <td>2.2</td>\n      <td>122.0</td>\n      <td>3.0</td>\n      <td>NaN</td>\n      <td>NaN</td>\n      <td>NaN</td>\n      <td>NaN</td>\n      <td>NaN</td>\n    </tr>\n    <tr>\n      <th>162206</th>\n      <td>2021-03-03 21:00</td>\n      <td>6.0</td>\n      <td>65.0</td>\n      <td>0.9</td>\n      <td>131.0</td>\n      <td>3.0</td>\n      <td>NaN</td>\n      <td>NaN</td>\n      <td>NaN</td>\n      <td>NaN</td>\n      <td>NaN</td>\n    </tr>\n    <tr>\n      <th>162207</th>\n      <td>2021-03-04 00:00</td>\n      <td>4.0</td>\n      <td>80.0</td>\n      <td>0.7</td>\n      <td>188.0</td>\n      <td>3.0</td>\n      <td>NaN</td>\n      <td>NaN</td>\n      <td>NaN</td>\n      <td>NaN</td>\n      <td>NaN</td>\n    </tr>\n  </tbody>\n</table>\n<p>162208 rows × 11 columns</p>\n</div>"
     },
     "metadata": {},
     "execution_count": 44
    }
   ],
   "source": [
    "# merge한 데이터 컬럼명 변경\n",
    "# 예측 / 관측 컬럼\n",
    "merge_us = merge_us.rename(columns={merge_us.columns[1]:\"예측기온\", merge_us.columns[2]:\"예측습도\",merge_us.columns[3]:\"예측풍속\",\n",
    "merge_us.columns[4]:\"예측풍향\",\n",
    "merge_us.columns[6]:\"관측기온\",merge_us.columns[7]:\"관측풍속\",\n",
    "merge_us.columns[8]:\"관측풍향\",merge_us.columns[9]:\"관측습도\",})\n",
    "merge_us"
   ]
  },
  {
   "cell_type": "code",
   "execution_count": 45,
   "metadata": {},
   "outputs": [
    {
     "output_type": "execute_result",
     "data": {
      "text/plain": [
       "                      시간  예측기온  예측습도  예측풍속   예측풍향  날씨코드  관측기온  관측풍속   관측풍향  \\\n",
       "0       2018-03-01 15:00   8.0  20.0  14.0  298.0   2.0   9.9   7.2  290.0   \n",
       "1       2018-03-01 18:00   4.0  20.0   4.3  298.0   2.0   6.6   2.3  360.0   \n",
       "2       2018-03-01 21:00   3.0  30.0   1.9  309.0   2.0   4.0   2.8  340.0   \n",
       "3       2018-03-02 00:00   0.0  40.0   1.5  318.0   2.0   1.3   3.4  340.0   \n",
       "4       2018-03-02 03:00  -1.0  45.0   1.8  308.0   2.0  -0.9   2.0   20.0   \n",
       "...                  ...   ...   ...   ...    ...   ...   ...   ...    ...   \n",
       "157917  2021-01-31 18:00   9.0  50.0   2.5  191.0   3.0   9.3   3.4  180.0   \n",
       "157918  2021-01-31 21:00   8.0  65.0   2.2  219.0   4.0   8.4   2.4  230.0   \n",
       "157936  2021-01-31 18:00   9.0  50.0   2.5  191.0   3.0   9.3   3.4  180.0   \n",
       "157937  2021-01-31 21:00   8.0  65.0   2.2  219.0   4.0   8.4   2.4  230.0   \n",
       "157955  2021-01-31 21:00   9.0  60.0   3.5  204.0   4.0   8.4   2.4  230.0   \n",
       "\n",
       "        관측습도  전운량  \n",
       "0       19.0  5.0  \n",
       "1       19.0  2.0  \n",
       "2       25.0  8.0  \n",
       "3       37.0  7.0  \n",
       "4       48.0  9.0  \n",
       "...      ...  ...  \n",
       "157917  43.0  0.0  \n",
       "157918  51.0  7.0  \n",
       "157936  43.0  0.0  \n",
       "157937  51.0  7.0  \n",
       "157955  51.0  7.0  \n",
       "\n",
       "[157765 rows x 11 columns]"
      ],
      "text/html": "<div>\n<style scoped>\n    .dataframe tbody tr th:only-of-type {\n        vertical-align: middle;\n    }\n\n    .dataframe tbody tr th {\n        vertical-align: top;\n    }\n\n    .dataframe thead th {\n        text-align: right;\n    }\n</style>\n<table border=\"1\" class=\"dataframe\">\n  <thead>\n    <tr style=\"text-align: right;\">\n      <th></th>\n      <th>시간</th>\n      <th>예측기온</th>\n      <th>예측습도</th>\n      <th>예측풍속</th>\n      <th>예측풍향</th>\n      <th>날씨코드</th>\n      <th>관측기온</th>\n      <th>관측풍속</th>\n      <th>관측풍향</th>\n      <th>관측습도</th>\n      <th>전운량</th>\n    </tr>\n  </thead>\n  <tbody>\n    <tr>\n      <th>0</th>\n      <td>2018-03-01 15:00</td>\n      <td>8.0</td>\n      <td>20.0</td>\n      <td>14.0</td>\n      <td>298.0</td>\n      <td>2.0</td>\n      <td>9.9</td>\n      <td>7.2</td>\n      <td>290.0</td>\n      <td>19.0</td>\n      <td>5.0</td>\n    </tr>\n    <tr>\n      <th>1</th>\n      <td>2018-03-01 18:00</td>\n      <td>4.0</td>\n      <td>20.0</td>\n      <td>4.3</td>\n      <td>298.0</td>\n      <td>2.0</td>\n      <td>6.6</td>\n      <td>2.3</td>\n      <td>360.0</td>\n      <td>19.0</td>\n      <td>2.0</td>\n    </tr>\n    <tr>\n      <th>2</th>\n      <td>2018-03-01 21:00</td>\n      <td>3.0</td>\n      <td>30.0</td>\n      <td>1.9</td>\n      <td>309.0</td>\n      <td>2.0</td>\n      <td>4.0</td>\n      <td>2.8</td>\n      <td>340.0</td>\n      <td>25.0</td>\n      <td>8.0</td>\n    </tr>\n    <tr>\n      <th>3</th>\n      <td>2018-03-02 00:00</td>\n      <td>0.0</td>\n      <td>40.0</td>\n      <td>1.5</td>\n      <td>318.0</td>\n      <td>2.0</td>\n      <td>1.3</td>\n      <td>3.4</td>\n      <td>340.0</td>\n      <td>37.0</td>\n      <td>7.0</td>\n    </tr>\n    <tr>\n      <th>4</th>\n      <td>2018-03-02 03:00</td>\n      <td>-1.0</td>\n      <td>45.0</td>\n      <td>1.8</td>\n      <td>308.0</td>\n      <td>2.0</td>\n      <td>-0.9</td>\n      <td>2.0</td>\n      <td>20.0</td>\n      <td>48.0</td>\n      <td>9.0</td>\n    </tr>\n    <tr>\n      <th>...</th>\n      <td>...</td>\n      <td>...</td>\n      <td>...</td>\n      <td>...</td>\n      <td>...</td>\n      <td>...</td>\n      <td>...</td>\n      <td>...</td>\n      <td>...</td>\n      <td>...</td>\n      <td>...</td>\n    </tr>\n    <tr>\n      <th>157917</th>\n      <td>2021-01-31 18:00</td>\n      <td>9.0</td>\n      <td>50.0</td>\n      <td>2.5</td>\n      <td>191.0</td>\n      <td>3.0</td>\n      <td>9.3</td>\n      <td>3.4</td>\n      <td>180.0</td>\n      <td>43.0</td>\n      <td>0.0</td>\n    </tr>\n    <tr>\n      <th>157918</th>\n      <td>2021-01-31 21:00</td>\n      <td>8.0</td>\n      <td>65.0</td>\n      <td>2.2</td>\n      <td>219.0</td>\n      <td>4.0</td>\n      <td>8.4</td>\n      <td>2.4</td>\n      <td>230.0</td>\n      <td>51.0</td>\n      <td>7.0</td>\n    </tr>\n    <tr>\n      <th>157936</th>\n      <td>2021-01-31 18:00</td>\n      <td>9.0</td>\n      <td>50.0</td>\n      <td>2.5</td>\n      <td>191.0</td>\n      <td>3.0</td>\n      <td>9.3</td>\n      <td>3.4</td>\n      <td>180.0</td>\n      <td>43.0</td>\n      <td>0.0</td>\n    </tr>\n    <tr>\n      <th>157937</th>\n      <td>2021-01-31 21:00</td>\n      <td>8.0</td>\n      <td>65.0</td>\n      <td>2.2</td>\n      <td>219.0</td>\n      <td>4.0</td>\n      <td>8.4</td>\n      <td>2.4</td>\n      <td>230.0</td>\n      <td>51.0</td>\n      <td>7.0</td>\n    </tr>\n    <tr>\n      <th>157955</th>\n      <td>2021-01-31 21:00</td>\n      <td>9.0</td>\n      <td>60.0</td>\n      <td>3.5</td>\n      <td>204.0</td>\n      <td>4.0</td>\n      <td>8.4</td>\n      <td>2.4</td>\n      <td>230.0</td>\n      <td>51.0</td>\n      <td>7.0</td>\n    </tr>\n  </tbody>\n</table>\n<p>157765 rows × 11 columns</p>\n</div>"
     },
     "metadata": {},
     "execution_count": 45
    }
   ],
   "source": [
    "# merge한 데이터 NaN 값 삭제\n",
    "# 행 기준\n",
    "merge_us = merge_us.dropna(axis=0)\n",
    "merge_us"
   ]
  },
  {
   "source": [
    "---\n",
    "### 4) 에너지 데이터 가공\n",
    "- 울산 데이터"
   ],
   "cell_type": "markdown",
   "metadata": {}
  },
  {
   "cell_type": "code",
   "execution_count": 61,
   "metadata": {},
   "outputs": [],
   "source": [
    "# # 울산광역시 us_fcst, us_obs\n",
    "# # 병합한 예보 / 관측 데이터 파일로 저장\n",
    "# merge_us_test.to_csv('predict_observe.csv', mode='w', encoding='utf-8-sig', index=False)"
   ]
  },
  {
   "cell_type": "code",
   "execution_count": 55,
   "metadata": {},
   "outputs": [
    {
     "output_type": "execute_result",
     "data": {
      "text/plain": [
       "                   시간  울산발전량\n",
       "0  2018-03-01 1:00:00      0\n",
       "1  2018-03-01 2:00:00      0\n",
       "2  2018-03-01 3:00:00      0\n",
       "3  2018-03-01 4:00:00      0\n",
       "4  2018-03-01 5:00:00      0"
      ],
      "text/html": "<div>\n<style scoped>\n    .dataframe tbody tr th:only-of-type {\n        vertical-align: middle;\n    }\n\n    .dataframe tbody tr th {\n        vertical-align: top;\n    }\n\n    .dataframe thead th {\n        text-align: right;\n    }\n</style>\n<table border=\"1\" class=\"dataframe\">\n  <thead>\n    <tr style=\"text-align: right;\">\n      <th></th>\n      <th>시간</th>\n      <th>울산발전량</th>\n    </tr>\n  </thead>\n  <tbody>\n    <tr>\n      <th>0</th>\n      <td>2018-03-01 1:00:00</td>\n      <td>0</td>\n    </tr>\n    <tr>\n      <th>1</th>\n      <td>2018-03-01 2:00:00</td>\n      <td>0</td>\n    </tr>\n    <tr>\n      <th>2</th>\n      <td>2018-03-01 3:00:00</td>\n      <td>0</td>\n    </tr>\n    <tr>\n      <th>3</th>\n      <td>2018-03-01 4:00:00</td>\n      <td>0</td>\n    </tr>\n    <tr>\n      <th>4</th>\n      <td>2018-03-01 5:00:00</td>\n      <td>0</td>\n    </tr>\n  </tbody>\n</table>\n</div>"
     },
     "metadata": {},
     "execution_count": 55
    }
   ],
   "source": [
    "# 동서발전 발전소별 발전량 데이터 energy\n",
    "# 울산 데이터만 뽑기\n",
    "energy_us = energy.drop(['dangjin_floating', 'dangjin_warehouse', 'dangjin'], axis=1)\n",
    "energy_us = energy_us.rename(columns={energy_us.columns[0]:'시간',energy_us.columns[1]:'울산발전량'}, )\n",
    "energy_us.head()\n"
   ]
  },
  {
   "cell_type": "code",
   "execution_count": 56,
   "metadata": {},
   "outputs": [
    {
     "output_type": "stream",
     "name": "stderr",
     "text": [
      "<ipython-input-56-a77a3d0d7d7a>:5: SettingWithCopyWarning: \nA value is trying to be set on a copy of a slice from a DataFrame\n\nSee the caveats in the documentation: https://pandas.pydata.org/pandas-docs/stable/user_guide/indexing.html#returning-a-view-versus-a-copy\n  energy_us['시간'][i] = re.sub(\"24:00:00\", \"00:00:00\", energy_us['시간'][i])\n<ipython-input-56-a77a3d0d7d7a>:8: SettingWithCopyWarning: \nA value is trying to be set on a copy of a slice from a DataFrame\n\nSee the caveats in the documentation: https://pandas.pydata.org/pandas-docs/stable/user_guide/indexing.html#returning-a-view-versus-a-copy\n  energy_us['시간'][i] = time\n"
     ]
    }
   ],
   "source": [
    "# 에너지 데이터 시간 변경\n",
    "# 타임스탬프 변경\n",
    "# 24:00:00 시 변경해야함 그러려면\n",
    "for i in range(len(energy_us)):\n",
    "    energy_us['시간'][i] = re.sub(\"24:00:00\", \"00:00:00\", energy_us['시간'][i])\n",
    "    time = pd.Timestamp(energy_us['시간'][i])\n",
    "    time = datetime.datetime.strftime(time, '%Y-%m-%d %H:%M')\n",
    "    energy_us['시간'][i] = time"
   ]
  },
  {
   "cell_type": "code",
   "execution_count": 57,
   "metadata": {},
   "outputs": [
    {
     "output_type": "execute_result",
     "data": {
      "text/plain": [
       "                  시간  울산발전량\n",
       "22  2018-03-01 23:00      0\n",
       "23  2018-03-01 00:00      0\n",
       "24  2018-03-02 01:00      0\n",
       "25  2018-03-02 02:00      0\n",
       "26  2018-03-02 03:00      0"
      ],
      "text/html": "<div>\n<style scoped>\n    .dataframe tbody tr th:only-of-type {\n        vertical-align: middle;\n    }\n\n    .dataframe tbody tr th {\n        vertical-align: top;\n    }\n\n    .dataframe thead th {\n        text-align: right;\n    }\n</style>\n<table border=\"1\" class=\"dataframe\">\n  <thead>\n    <tr style=\"text-align: right;\">\n      <th></th>\n      <th>시간</th>\n      <th>울산발전량</th>\n    </tr>\n  </thead>\n  <tbody>\n    <tr>\n      <th>22</th>\n      <td>2018-03-01 23:00</td>\n      <td>0</td>\n    </tr>\n    <tr>\n      <th>23</th>\n      <td>2018-03-01 00:00</td>\n      <td>0</td>\n    </tr>\n    <tr>\n      <th>24</th>\n      <td>2018-03-02 01:00</td>\n      <td>0</td>\n    </tr>\n    <tr>\n      <th>25</th>\n      <td>2018-03-02 02:00</td>\n      <td>0</td>\n    </tr>\n    <tr>\n      <th>26</th>\n      <td>2018-03-02 03:00</td>\n      <td>0</td>\n    </tr>\n  </tbody>\n</table>\n</div>"
     },
     "metadata": {},
     "execution_count": 57
    }
   ],
   "source": [
    "# 데이터 변경 확인\n",
    "energy_us.loc[22:26]"
   ]
  },
  {
   "cell_type": "code",
   "execution_count": 59,
   "metadata": {},
   "outputs": [
    {
     "output_type": "execute_result",
     "data": {
      "text/plain": [
       "                  시간  울산발전량\n",
       "7   2018-03-01 08:00      4\n",
       "8   2018-03-01 09:00     35\n",
       "9   2018-03-01 10:00     71\n",
       "10  2018-03-01 11:00     82\n",
       "11  2018-03-01 12:00    334"
      ],
      "text/html": "<div>\n<style scoped>\n    .dataframe tbody tr th:only-of-type {\n        vertical-align: middle;\n    }\n\n    .dataframe tbody tr th {\n        vertical-align: top;\n    }\n\n    .dataframe thead th {\n        text-align: right;\n    }\n</style>\n<table border=\"1\" class=\"dataframe\">\n  <thead>\n    <tr style=\"text-align: right;\">\n      <th></th>\n      <th>시간</th>\n      <th>울산발전량</th>\n    </tr>\n  </thead>\n  <tbody>\n    <tr>\n      <th>7</th>\n      <td>2018-03-01 08:00</td>\n      <td>4</td>\n    </tr>\n    <tr>\n      <th>8</th>\n      <td>2018-03-01 09:00</td>\n      <td>35</td>\n    </tr>\n    <tr>\n      <th>9</th>\n      <td>2018-03-01 10:00</td>\n      <td>71</td>\n    </tr>\n    <tr>\n      <th>10</th>\n      <td>2018-03-01 11:00</td>\n      <td>82</td>\n    </tr>\n    <tr>\n      <th>11</th>\n      <td>2018-03-01 12:00</td>\n      <td>334</td>\n    </tr>\n  </tbody>\n</table>\n</div>"
     },
     "metadata": {},
     "execution_count": 59
    }
   ],
   "source": [
    "# 발전량이 0인 데이터 삭제\n",
    "energy_us = energy_us[energy_us['울산발전량'] != 0]\n",
    "energy_us.head()"
   ]
  },
  {
   "cell_type": "code",
   "execution_count": 159,
   "metadata": {},
   "outputs": [
    {
     "output_type": "execute_result",
     "data": {
      "text/plain": [
       "'2021-04-01 00:00:00'"
      ]
     },
     "metadata": {},
     "execution_count": 159
    }
   ],
   "source": [
    "# import re\n",
    "# data = \"2021-04-01 24:00:00\"\n",
    "# # p = re.compile('(\\d{2}):(\\d{2}):(\\d{2})')\n",
    "# # d = p.sub(\"\\g<1> 00:00:00\", data)\n",
    "# # s = p.search(data)\n",
    "# d = re.sub('24:00:00', '00:00:00', data)\n",
    "# d"
   ]
  },
  {
   "source": [
    "---\n",
    "### 5) energy 데이터와 병합"
   ],
   "cell_type": "markdown",
   "metadata": {}
  },
  {
   "cell_type": "code",
   "execution_count": 54,
   "metadata": {},
   "outputs": [
    {
     "output_type": "execute_result",
     "data": {
      "text/plain": [
       "                 시간  예측기온  예측습도  예측풍속   예측풍향  날씨코드  관측기온  관측풍속   관측풍향  관측습도  \\\n",
       "0  2018-03-01 15:00   8.0  20.0  14.0  298.0   2.0   9.9   7.2  290.0  19.0   \n",
       "1  2018-03-01 18:00   4.0  20.0   4.3  298.0   2.0   6.6   2.3  360.0  19.0   \n",
       "2  2018-03-01 21:00   3.0  30.0   1.9  309.0   2.0   4.0   2.8  340.0  25.0   \n",
       "3  2018-03-02 00:00   0.0  40.0   1.5  318.0   2.0   1.3   3.4  340.0  37.0   \n",
       "4  2018-03-02 03:00  -1.0  45.0   1.8  308.0   2.0  -0.9   2.0   20.0  48.0   \n",
       "\n",
       "   전운량  \n",
       "0  5.0  \n",
       "1  2.0  \n",
       "2  8.0  \n",
       "3  7.0  \n",
       "4  9.0  "
      ],
      "text/html": "<div>\n<style scoped>\n    .dataframe tbody tr th:only-of-type {\n        vertical-align: middle;\n    }\n\n    .dataframe tbody tr th {\n        vertical-align: top;\n    }\n\n    .dataframe thead th {\n        text-align: right;\n    }\n</style>\n<table border=\"1\" class=\"dataframe\">\n  <thead>\n    <tr style=\"text-align: right;\">\n      <th></th>\n      <th>시간</th>\n      <th>예측기온</th>\n      <th>예측습도</th>\n      <th>예측풍속</th>\n      <th>예측풍향</th>\n      <th>날씨코드</th>\n      <th>관측기온</th>\n      <th>관측풍속</th>\n      <th>관측풍향</th>\n      <th>관측습도</th>\n      <th>전운량</th>\n    </tr>\n  </thead>\n  <tbody>\n    <tr>\n      <th>0</th>\n      <td>2018-03-01 15:00</td>\n      <td>8.0</td>\n      <td>20.0</td>\n      <td>14.0</td>\n      <td>298.0</td>\n      <td>2.0</td>\n      <td>9.9</td>\n      <td>7.2</td>\n      <td>290.0</td>\n      <td>19.0</td>\n      <td>5.0</td>\n    </tr>\n    <tr>\n      <th>1</th>\n      <td>2018-03-01 18:00</td>\n      <td>4.0</td>\n      <td>20.0</td>\n      <td>4.3</td>\n      <td>298.0</td>\n      <td>2.0</td>\n      <td>6.6</td>\n      <td>2.3</td>\n      <td>360.0</td>\n      <td>19.0</td>\n      <td>2.0</td>\n    </tr>\n    <tr>\n      <th>2</th>\n      <td>2018-03-01 21:00</td>\n      <td>3.0</td>\n      <td>30.0</td>\n      <td>1.9</td>\n      <td>309.0</td>\n      <td>2.0</td>\n      <td>4.0</td>\n      <td>2.8</td>\n      <td>340.0</td>\n      <td>25.0</td>\n      <td>8.0</td>\n    </tr>\n    <tr>\n      <th>3</th>\n      <td>2018-03-02 00:00</td>\n      <td>0.0</td>\n      <td>40.0</td>\n      <td>1.5</td>\n      <td>318.0</td>\n      <td>2.0</td>\n      <td>1.3</td>\n      <td>3.4</td>\n      <td>340.0</td>\n      <td>37.0</td>\n      <td>7.0</td>\n    </tr>\n    <tr>\n      <th>4</th>\n      <td>2018-03-02 03:00</td>\n      <td>-1.0</td>\n      <td>45.0</td>\n      <td>1.8</td>\n      <td>308.0</td>\n      <td>2.0</td>\n      <td>-0.9</td>\n      <td>2.0</td>\n      <td>20.0</td>\n      <td>48.0</td>\n      <td>9.0</td>\n    </tr>\n  </tbody>\n</table>\n</div>"
     },
     "metadata": {},
     "execution_count": 54
    }
   ],
   "source": [
    "pre_obs = pd.read_csv('./predict_observe.csv')\n",
    "pre_obs.head()\n",
    "# merge_us = pd.merge(us_fcst_drop, us_obs_drop, how='left', left_on='시간', right_on='시간')\n",
    "# merge_us.head()"
   ]
  },
  {
   "cell_type": "code",
   "execution_count": 60,
   "metadata": {},
   "outputs": [
    {
     "output_type": "execute_result",
     "data": {
      "text/plain": [
       "                      시간  예측기온  예측습도  예측풍속   예측풍향  날씨코드  관측기온  관측풍속   관측풍향  \\\n",
       "0       2018-03-01 15:00   8.0  20.0  14.0  298.0   2.0   9.9   7.2  290.0   \n",
       "1       2018-03-01 18:00   4.0  20.0   4.3  298.0   2.0   6.6   2.3  360.0   \n",
       "2       2018-03-01 21:00   3.0  30.0   1.9  309.0   2.0   4.0   2.8  340.0   \n",
       "3       2018-03-02 00:00   0.0  40.0   1.5  318.0   2.0   1.3   3.4  340.0   \n",
       "4       2018-03-02 03:00  -1.0  45.0   1.8  308.0   2.0  -0.9   2.0   20.0   \n",
       "...                  ...   ...   ...   ...    ...   ...   ...   ...    ...   \n",
       "157760  2021-01-31 18:00   9.0  50.0   2.5  191.0   3.0   9.3   3.4  180.0   \n",
       "157761  2021-01-31 21:00   8.0  65.0   2.2  219.0   4.0   8.4   2.4  230.0   \n",
       "157762  2021-01-31 18:00   9.0  50.0   2.5  191.0   3.0   9.3   3.4  180.0   \n",
       "157763  2021-01-31 21:00   8.0  65.0   2.2  219.0   4.0   8.4   2.4  230.0   \n",
       "157764  2021-01-31 21:00   9.0  60.0   3.5  204.0   4.0   8.4   2.4  230.0   \n",
       "\n",
       "        관측습도  전운량  울산발전량  \n",
       "0       19.0  5.0  318.0  \n",
       "1       19.0  2.0   30.0  \n",
       "2       25.0  8.0    NaN  \n",
       "3       37.0  7.0    NaN  \n",
       "4       48.0  9.0    NaN  \n",
       "...      ...  ...    ...  \n",
       "157760  43.0  0.0    8.0  \n",
       "157761  51.0  7.0    NaN  \n",
       "157762  43.0  0.0    8.0  \n",
       "157763  51.0  7.0    NaN  \n",
       "157764  51.0  7.0    NaN  \n",
       "\n",
       "[157765 rows x 12 columns]"
      ],
      "text/html": "<div>\n<style scoped>\n    .dataframe tbody tr th:only-of-type {\n        vertical-align: middle;\n    }\n\n    .dataframe tbody tr th {\n        vertical-align: top;\n    }\n\n    .dataframe thead th {\n        text-align: right;\n    }\n</style>\n<table border=\"1\" class=\"dataframe\">\n  <thead>\n    <tr style=\"text-align: right;\">\n      <th></th>\n      <th>시간</th>\n      <th>예측기온</th>\n      <th>예측습도</th>\n      <th>예측풍속</th>\n      <th>예측풍향</th>\n      <th>날씨코드</th>\n      <th>관측기온</th>\n      <th>관측풍속</th>\n      <th>관측풍향</th>\n      <th>관측습도</th>\n      <th>전운량</th>\n      <th>울산발전량</th>\n    </tr>\n  </thead>\n  <tbody>\n    <tr>\n      <th>0</th>\n      <td>2018-03-01 15:00</td>\n      <td>8.0</td>\n      <td>20.0</td>\n      <td>14.0</td>\n      <td>298.0</td>\n      <td>2.0</td>\n      <td>9.9</td>\n      <td>7.2</td>\n      <td>290.0</td>\n      <td>19.0</td>\n      <td>5.0</td>\n      <td>318.0</td>\n    </tr>\n    <tr>\n      <th>1</th>\n      <td>2018-03-01 18:00</td>\n      <td>4.0</td>\n      <td>20.0</td>\n      <td>4.3</td>\n      <td>298.0</td>\n      <td>2.0</td>\n      <td>6.6</td>\n      <td>2.3</td>\n      <td>360.0</td>\n      <td>19.0</td>\n      <td>2.0</td>\n      <td>30.0</td>\n    </tr>\n    <tr>\n      <th>2</th>\n      <td>2018-03-01 21:00</td>\n      <td>3.0</td>\n      <td>30.0</td>\n      <td>1.9</td>\n      <td>309.0</td>\n      <td>2.0</td>\n      <td>4.0</td>\n      <td>2.8</td>\n      <td>340.0</td>\n      <td>25.0</td>\n      <td>8.0</td>\n      <td>NaN</td>\n    </tr>\n    <tr>\n      <th>3</th>\n      <td>2018-03-02 00:00</td>\n      <td>0.0</td>\n      <td>40.0</td>\n      <td>1.5</td>\n      <td>318.0</td>\n      <td>2.0</td>\n      <td>1.3</td>\n      <td>3.4</td>\n      <td>340.0</td>\n      <td>37.0</td>\n      <td>7.0</td>\n      <td>NaN</td>\n    </tr>\n    <tr>\n      <th>4</th>\n      <td>2018-03-02 03:00</td>\n      <td>-1.0</td>\n      <td>45.0</td>\n      <td>1.8</td>\n      <td>308.0</td>\n      <td>2.0</td>\n      <td>-0.9</td>\n      <td>2.0</td>\n      <td>20.0</td>\n      <td>48.0</td>\n      <td>9.0</td>\n      <td>NaN</td>\n    </tr>\n    <tr>\n      <th>...</th>\n      <td>...</td>\n      <td>...</td>\n      <td>...</td>\n      <td>...</td>\n      <td>...</td>\n      <td>...</td>\n      <td>...</td>\n      <td>...</td>\n      <td>...</td>\n      <td>...</td>\n      <td>...</td>\n      <td>...</td>\n    </tr>\n    <tr>\n      <th>157760</th>\n      <td>2021-01-31 18:00</td>\n      <td>9.0</td>\n      <td>50.0</td>\n      <td>2.5</td>\n      <td>191.0</td>\n      <td>3.0</td>\n      <td>9.3</td>\n      <td>3.4</td>\n      <td>180.0</td>\n      <td>43.0</td>\n      <td>0.0</td>\n      <td>8.0</td>\n    </tr>\n    <tr>\n      <th>157761</th>\n      <td>2021-01-31 21:00</td>\n      <td>8.0</td>\n      <td>65.0</td>\n      <td>2.2</td>\n      <td>219.0</td>\n      <td>4.0</td>\n      <td>8.4</td>\n      <td>2.4</td>\n      <td>230.0</td>\n      <td>51.0</td>\n      <td>7.0</td>\n      <td>NaN</td>\n    </tr>\n    <tr>\n      <th>157762</th>\n      <td>2021-01-31 18:00</td>\n      <td>9.0</td>\n      <td>50.0</td>\n      <td>2.5</td>\n      <td>191.0</td>\n      <td>3.0</td>\n      <td>9.3</td>\n      <td>3.4</td>\n      <td>180.0</td>\n      <td>43.0</td>\n      <td>0.0</td>\n      <td>8.0</td>\n    </tr>\n    <tr>\n      <th>157763</th>\n      <td>2021-01-31 21:00</td>\n      <td>8.0</td>\n      <td>65.0</td>\n      <td>2.2</td>\n      <td>219.0</td>\n      <td>4.0</td>\n      <td>8.4</td>\n      <td>2.4</td>\n      <td>230.0</td>\n      <td>51.0</td>\n      <td>7.0</td>\n      <td>NaN</td>\n    </tr>\n    <tr>\n      <th>157764</th>\n      <td>2021-01-31 21:00</td>\n      <td>9.0</td>\n      <td>60.0</td>\n      <td>3.5</td>\n      <td>204.0</td>\n      <td>4.0</td>\n      <td>8.4</td>\n      <td>2.4</td>\n      <td>230.0</td>\n      <td>51.0</td>\n      <td>7.0</td>\n      <td>NaN</td>\n    </tr>\n  </tbody>\n</table>\n<p>157765 rows × 12 columns</p>\n</div>"
     },
     "metadata": {},
     "execution_count": 60
    }
   ],
   "source": [
    "# 시간 별 날씨와 발전량\n",
    "wheather_energy = pd.merge(pre_obs, energy_us, how='left', left_on='시간', right_on='시간')\n",
    "wheather_energy"
   ]
  },
  {
   "cell_type": "code",
   "execution_count": 62,
   "metadata": {},
   "outputs": [
    {
     "output_type": "execute_result",
     "data": {
      "text/plain": [
       "                      시간  예측기온  예측습도  예측풍속   예측풍향  날씨코드  관측기온  관측풍속   관측풍향  \\\n",
       "0       2018-03-01 15:00   8.0  20.0  14.0  298.0   2.0   9.9   7.2  290.0   \n",
       "1       2018-03-01 18:00   4.0  20.0   4.3  298.0   2.0   6.6   2.3  360.0   \n",
       "6       2018-03-02 09:00   0.0  35.0   1.9  321.0   1.0  -0.1   2.7  340.0   \n",
       "7       2018-03-02 12:00   6.0  30.0   1.4  324.0   1.0   6.2   3.0  230.0   \n",
       "8       2018-03-02 15:00   9.0  30.0   0.8   40.0   1.0   8.7   3.8  180.0   \n",
       "...                  ...   ...   ...   ...    ...   ...   ...   ...    ...   \n",
       "157756  2021-01-31 15:00  12.0  30.0   3.7  175.0   3.0  10.6   3.9  140.0   \n",
       "157757  2021-01-31 18:00   9.0  50.0   2.5  191.0   3.0   9.3   3.4  180.0   \n",
       "157759  2021-01-31 15:00  12.0  30.0   3.7  175.0   3.0  10.6   3.9  140.0   \n",
       "157760  2021-01-31 18:00   9.0  50.0   2.5  191.0   3.0   9.3   3.4  180.0   \n",
       "157762  2021-01-31 18:00   9.0  50.0   2.5  191.0   3.0   9.3   3.4  180.0   \n",
       "\n",
       "        관측습도  전운량  울산발전량  \n",
       "0       19.0  5.0  318.0  \n",
       "1       19.0  2.0   30.0  \n",
       "6       46.0  1.0  102.0  \n",
       "7       28.0  0.0  278.0  \n",
       "8       50.0  0.0  319.0  \n",
       "...      ...  ...    ...  \n",
       "157756  39.0  0.0  259.0  \n",
       "157757  43.0  0.0    8.0  \n",
       "157759  39.0  0.0  259.0  \n",
       "157760  43.0  0.0    8.0  \n",
       "157762  43.0  0.0    8.0  \n",
       "\n",
       "[73129 rows x 12 columns]"
      ],
      "text/html": "<div>\n<style scoped>\n    .dataframe tbody tr th:only-of-type {\n        vertical-align: middle;\n    }\n\n    .dataframe tbody tr th {\n        vertical-align: top;\n    }\n\n    .dataframe thead th {\n        text-align: right;\n    }\n</style>\n<table border=\"1\" class=\"dataframe\">\n  <thead>\n    <tr style=\"text-align: right;\">\n      <th></th>\n      <th>시간</th>\n      <th>예측기온</th>\n      <th>예측습도</th>\n      <th>예측풍속</th>\n      <th>예측풍향</th>\n      <th>날씨코드</th>\n      <th>관측기온</th>\n      <th>관측풍속</th>\n      <th>관측풍향</th>\n      <th>관측습도</th>\n      <th>전운량</th>\n      <th>울산발전량</th>\n    </tr>\n  </thead>\n  <tbody>\n    <tr>\n      <th>0</th>\n      <td>2018-03-01 15:00</td>\n      <td>8.0</td>\n      <td>20.0</td>\n      <td>14.0</td>\n      <td>298.0</td>\n      <td>2.0</td>\n      <td>9.9</td>\n      <td>7.2</td>\n      <td>290.0</td>\n      <td>19.0</td>\n      <td>5.0</td>\n      <td>318.0</td>\n    </tr>\n    <tr>\n      <th>1</th>\n      <td>2018-03-01 18:00</td>\n      <td>4.0</td>\n      <td>20.0</td>\n      <td>4.3</td>\n      <td>298.0</td>\n      <td>2.0</td>\n      <td>6.6</td>\n      <td>2.3</td>\n      <td>360.0</td>\n      <td>19.0</td>\n      <td>2.0</td>\n      <td>30.0</td>\n    </tr>\n    <tr>\n      <th>6</th>\n      <td>2018-03-02 09:00</td>\n      <td>0.0</td>\n      <td>35.0</td>\n      <td>1.9</td>\n      <td>321.0</td>\n      <td>1.0</td>\n      <td>-0.1</td>\n      <td>2.7</td>\n      <td>340.0</td>\n      <td>46.0</td>\n      <td>1.0</td>\n      <td>102.0</td>\n    </tr>\n    <tr>\n      <th>7</th>\n      <td>2018-03-02 12:00</td>\n      <td>6.0</td>\n      <td>30.0</td>\n      <td>1.4</td>\n      <td>324.0</td>\n      <td>1.0</td>\n      <td>6.2</td>\n      <td>3.0</td>\n      <td>230.0</td>\n      <td>28.0</td>\n      <td>0.0</td>\n      <td>278.0</td>\n    </tr>\n    <tr>\n      <th>8</th>\n      <td>2018-03-02 15:00</td>\n      <td>9.0</td>\n      <td>30.0</td>\n      <td>0.8</td>\n      <td>40.0</td>\n      <td>1.0</td>\n      <td>8.7</td>\n      <td>3.8</td>\n      <td>180.0</td>\n      <td>50.0</td>\n      <td>0.0</td>\n      <td>319.0</td>\n    </tr>\n    <tr>\n      <th>...</th>\n      <td>...</td>\n      <td>...</td>\n      <td>...</td>\n      <td>...</td>\n      <td>...</td>\n      <td>...</td>\n      <td>...</td>\n      <td>...</td>\n      <td>...</td>\n      <td>...</td>\n      <td>...</td>\n      <td>...</td>\n    </tr>\n    <tr>\n      <th>157756</th>\n      <td>2021-01-31 15:00</td>\n      <td>12.0</td>\n      <td>30.0</td>\n      <td>3.7</td>\n      <td>175.0</td>\n      <td>3.0</td>\n      <td>10.6</td>\n      <td>3.9</td>\n      <td>140.0</td>\n      <td>39.0</td>\n      <td>0.0</td>\n      <td>259.0</td>\n    </tr>\n    <tr>\n      <th>157757</th>\n      <td>2021-01-31 18:00</td>\n      <td>9.0</td>\n      <td>50.0</td>\n      <td>2.5</td>\n      <td>191.0</td>\n      <td>3.0</td>\n      <td>9.3</td>\n      <td>3.4</td>\n      <td>180.0</td>\n      <td>43.0</td>\n      <td>0.0</td>\n      <td>8.0</td>\n    </tr>\n    <tr>\n      <th>157759</th>\n      <td>2021-01-31 15:00</td>\n      <td>12.0</td>\n      <td>30.0</td>\n      <td>3.7</td>\n      <td>175.0</td>\n      <td>3.0</td>\n      <td>10.6</td>\n      <td>3.9</td>\n      <td>140.0</td>\n      <td>39.0</td>\n      <td>0.0</td>\n      <td>259.0</td>\n    </tr>\n    <tr>\n      <th>157760</th>\n      <td>2021-01-31 18:00</td>\n      <td>9.0</td>\n      <td>50.0</td>\n      <td>2.5</td>\n      <td>191.0</td>\n      <td>3.0</td>\n      <td>9.3</td>\n      <td>3.4</td>\n      <td>180.0</td>\n      <td>43.0</td>\n      <td>0.0</td>\n      <td>8.0</td>\n    </tr>\n    <tr>\n      <th>157762</th>\n      <td>2021-01-31 18:00</td>\n      <td>9.0</td>\n      <td>50.0</td>\n      <td>2.5</td>\n      <td>191.0</td>\n      <td>3.0</td>\n      <td>9.3</td>\n      <td>3.4</td>\n      <td>180.0</td>\n      <td>43.0</td>\n      <td>0.0</td>\n      <td>8.0</td>\n    </tr>\n  </tbody>\n</table>\n<p>73129 rows × 12 columns</p>\n</div>"
     },
     "metadata": {},
     "execution_count": 62
    }
   ],
   "source": [
    "# NaN 값 삭제\n",
    "wheather_energy = wheather_energy.dropna(axis=0)\n",
    "wheather_energy"
   ]
  },
  {
   "cell_type": "code",
   "execution_count": 63,
   "metadata": {},
   "outputs": [],
   "source": [
    "wheather_energy.to_csv('날씨별발전량_울산.csv', mode='w', encoding='utf-8-sig', index=False)"
   ]
  },
  {
   "cell_type": "code",
   "execution_count": null,
   "metadata": {},
   "outputs": [],
   "source": []
  }
 ]
}