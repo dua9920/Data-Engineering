{
 "metadata": {
  "language_info": {
   "codemirror_mode": {
    "name": "ipython",
    "version": 3
   },
   "file_extension": ".py",
   "mimetype": "text/x-python",
   "name": "python",
   "nbconvert_exporter": "python",
   "pygments_lexer": "ipython3",
   "version": "3.8.5"
  },
  "orig_nbformat": 2,
  "kernelspec": {
   "name": "python3",
   "display_name": "Python 3.8.5 64-bit ('base': conda)"
  },
  "metadata": {
   "interpreter": {
    "hash": "8a86e1213f422856c706c8d60d3bedc39c2736e916fe56d504190f85925a1987"
   }
  },
  "interpreter": {
   "hash": "7b4b4feff2f24a0f0a34464dbe537a36fda679851528fb8735cb41fa49dffb2d"
  }
 },
 "nbformat": 4,
 "nbformat_minor": 2,
 "cells": [
  {
   "cell_type": "code",
   "execution_count": 1,
   "metadata": {},
   "outputs": [],
   "source": [
    "import pandas as pd"
   ]
  },
  {
   "cell_type": "code",
   "execution_count": 5,
   "metadata": {},
   "outputs": [
    {
     "output_type": "execute_result",
     "data": {
      "text/plain": [
       "    지점                일시  기온(°C)  누적강수량(mm)  풍향(deg)  풍속(m/s)  현지기압(hPa)  \\\n",
       "0  152  2018-03-01 00:01     8.2        0.0    347.8      3.8      982.2   \n",
       "1  152  2018-03-01 00:02     8.2        0.0    346.4      3.1      982.1   \n",
       "2  152  2018-03-01 00:03     8.1        0.0    341.2      2.7      982.1   \n",
       "3  152  2018-03-01 00:04     8.1        0.0    356.9      4.6      982.1   \n",
       "4  152  2018-03-01 00:05     8.1        0.0    351.1      4.3      982.1   \n",
       "\n",
       "   해면기압(hPa)  습도(%)  일사(MJ/m^2)  일조(Sec)  \n",
       "0      992.1   97.9         NaN        0  \n",
       "1      992.0   97.9         NaN        0  \n",
       "2      992.0   97.9         NaN        0  \n",
       "3      992.0   97.9         NaN        0  \n",
       "4      992.0   97.9         NaN        0  "
      ],
      "text/html": "<div>\n<style scoped>\n    .dataframe tbody tr th:only-of-type {\n        vertical-align: middle;\n    }\n\n    .dataframe tbody tr th {\n        vertical-align: top;\n    }\n\n    .dataframe thead th {\n        text-align: right;\n    }\n</style>\n<table border=\"1\" class=\"dataframe\">\n  <thead>\n    <tr style=\"text-align: right;\">\n      <th></th>\n      <th>지점</th>\n      <th>일시</th>\n      <th>기온(°C)</th>\n      <th>누적강수량(mm)</th>\n      <th>풍향(deg)</th>\n      <th>풍속(m/s)</th>\n      <th>현지기압(hPa)</th>\n      <th>해면기압(hPa)</th>\n      <th>습도(%)</th>\n      <th>일사(MJ/m^2)</th>\n      <th>일조(Sec)</th>\n    </tr>\n  </thead>\n  <tbody>\n    <tr>\n      <th>0</th>\n      <td>152</td>\n      <td>2018-03-01 00:01</td>\n      <td>8.2</td>\n      <td>0.0</td>\n      <td>347.8</td>\n      <td>3.8</td>\n      <td>982.2</td>\n      <td>992.1</td>\n      <td>97.9</td>\n      <td>NaN</td>\n      <td>0</td>\n    </tr>\n    <tr>\n      <th>1</th>\n      <td>152</td>\n      <td>2018-03-01 00:02</td>\n      <td>8.2</td>\n      <td>0.0</td>\n      <td>346.4</td>\n      <td>3.1</td>\n      <td>982.1</td>\n      <td>992.0</td>\n      <td>97.9</td>\n      <td>NaN</td>\n      <td>0</td>\n    </tr>\n    <tr>\n      <th>2</th>\n      <td>152</td>\n      <td>2018-03-01 00:03</td>\n      <td>8.1</td>\n      <td>0.0</td>\n      <td>341.2</td>\n      <td>2.7</td>\n      <td>982.1</td>\n      <td>992.0</td>\n      <td>97.9</td>\n      <td>NaN</td>\n      <td>0</td>\n    </tr>\n    <tr>\n      <th>3</th>\n      <td>152</td>\n      <td>2018-03-01 00:04</td>\n      <td>8.1</td>\n      <td>0.0</td>\n      <td>356.9</td>\n      <td>4.6</td>\n      <td>982.1</td>\n      <td>992.0</td>\n      <td>97.9</td>\n      <td>NaN</td>\n      <td>0</td>\n    </tr>\n    <tr>\n      <th>4</th>\n      <td>152</td>\n      <td>2018-03-01 00:05</td>\n      <td>8.1</td>\n      <td>0.0</td>\n      <td>351.1</td>\n      <td>4.3</td>\n      <td>982.1</td>\n      <td>992.0</td>\n      <td>97.9</td>\n      <td>NaN</td>\n      <td>0</td>\n    </tr>\n  </tbody>\n</table>\n</div>"
     },
     "metadata": {},
     "execution_count": 5
    }
   ],
   "source": [
    "us_data = pd.read_csv(\"./us_data/us_2018_03.csv\", encoding=\"euc-kr\")\n",
    "us_data.head()"
   ]
  },
  {
   "cell_type": "code",
   "execution_count": 6,
   "metadata": {},
   "outputs": [
    {
     "output_type": "stream",
     "name": "stdout",
     "text": [
      "2018-03-01 00:01\n2018-03-02 00:00\n"
     ]
    }
   ],
   "source": [
    "print(us_data.loc[0][\"일시\"])\n",
    "print(us_data.loc[1439][\"일시\"])"
   ]
  },
  {
   "cell_type": "code",
   "execution_count": 7,
   "metadata": {},
   "outputs": [
    {
     "output_type": "execute_result",
     "data": {
      "text/plain": [
       "44635"
      ]
     },
     "metadata": {},
     "execution_count": 7
    }
   ],
   "source": [
    "us_data[\"일시\"].count\n",
    "len(dj_data)"
   ]
  },
  {
   "cell_type": "code",
   "execution_count": 8,
   "metadata": {},
   "outputs": [
    {
     "output_type": "execute_result",
     "data": {
      "text/plain": [
       "    지점                일시  기온(°C)  누적강수량(mm)  풍향(deg)  풍속(m/s)  현지기압(hPa)  \\\n",
       "0  152  2018-03-01 00:01     8.2        0.0    347.8      3.8      982.2   \n",
       "1  152  2018-03-01 00:02     8.2        0.0    346.4      3.1      982.1   \n",
       "2  152  2018-03-01 00:03     8.1        0.0    341.2      2.7      982.1   \n",
       "3  152  2018-03-01 00:04     8.1        0.0    356.9      4.6      982.1   \n",
       "4  152  2018-03-01 00:05     8.1        0.0    351.1      4.3      982.1   \n",
       "\n",
       "   해면기압(hPa)  습도(%)  일사  일조  \n",
       "0      992.1   97.9 NaN   0  \n",
       "1      992.0   97.9 NaN   0  \n",
       "2      992.0   97.9 NaN   0  \n",
       "3      992.0   97.9 NaN   0  \n",
       "4      992.0   97.9 NaN   0  "
      ],
      "text/html": "<div>\n<style scoped>\n    .dataframe tbody tr th:only-of-type {\n        vertical-align: middle;\n    }\n\n    .dataframe tbody tr th {\n        vertical-align: top;\n    }\n\n    .dataframe thead th {\n        text-align: right;\n    }\n</style>\n<table border=\"1\" class=\"dataframe\">\n  <thead>\n    <tr style=\"text-align: right;\">\n      <th></th>\n      <th>지점</th>\n      <th>일시</th>\n      <th>기온(°C)</th>\n      <th>누적강수량(mm)</th>\n      <th>풍향(deg)</th>\n      <th>풍속(m/s)</th>\n      <th>현지기압(hPa)</th>\n      <th>해면기압(hPa)</th>\n      <th>습도(%)</th>\n      <th>일사</th>\n      <th>일조</th>\n    </tr>\n  </thead>\n  <tbody>\n    <tr>\n      <th>0</th>\n      <td>152</td>\n      <td>2018-03-01 00:01</td>\n      <td>8.2</td>\n      <td>0.0</td>\n      <td>347.8</td>\n      <td>3.8</td>\n      <td>982.2</td>\n      <td>992.1</td>\n      <td>97.9</td>\n      <td>NaN</td>\n      <td>0</td>\n    </tr>\n    <tr>\n      <th>1</th>\n      <td>152</td>\n      <td>2018-03-01 00:02</td>\n      <td>8.2</td>\n      <td>0.0</td>\n      <td>346.4</td>\n      <td>3.1</td>\n      <td>982.1</td>\n      <td>992.0</td>\n      <td>97.9</td>\n      <td>NaN</td>\n      <td>0</td>\n    </tr>\n    <tr>\n      <th>2</th>\n      <td>152</td>\n      <td>2018-03-01 00:03</td>\n      <td>8.1</td>\n      <td>0.0</td>\n      <td>341.2</td>\n      <td>2.7</td>\n      <td>982.1</td>\n      <td>992.0</td>\n      <td>97.9</td>\n      <td>NaN</td>\n      <td>0</td>\n    </tr>\n    <tr>\n      <th>3</th>\n      <td>152</td>\n      <td>2018-03-01 00:04</td>\n      <td>8.1</td>\n      <td>0.0</td>\n      <td>356.9</td>\n      <td>4.6</td>\n      <td>982.1</td>\n      <td>992.0</td>\n      <td>97.9</td>\n      <td>NaN</td>\n      <td>0</td>\n    </tr>\n    <tr>\n      <th>4</th>\n      <td>152</td>\n      <td>2018-03-01 00:05</td>\n      <td>8.1</td>\n      <td>0.0</td>\n      <td>351.1</td>\n      <td>4.3</td>\n      <td>982.1</td>\n      <td>992.0</td>\n      <td>97.9</td>\n      <td>NaN</td>\n      <td>0</td>\n    </tr>\n  </tbody>\n</table>\n</div>"
     },
     "metadata": {},
     "execution_count": 8
    }
   ],
   "source": [
    "us_data = us_data.rename(columns={us_data.columns[9]:\"일사\", us_data.columns[10]:\"일조\"})\n",
    "us_data.head()"
   ]
  },
  {
   "cell_type": "code",
   "execution_count": 9,
   "metadata": {},
   "outputs": [
    {
     "output_type": "execute_result",
     "data": {
      "text/plain": [
       "지점                        152\n",
       "일시           2018-03-01 00:01\n",
       "기온(°C)                    8.2\n",
       "누적강수량(mm)                   0\n",
       "풍향(deg)                 347.8\n",
       "풍속(m/s)                   3.8\n",
       "현지기압(hPa)               982.2\n",
       "해면기압(hPa)               992.1\n",
       "습도(%)                    97.9\n",
       "일사                        NaN\n",
       "일조                          0\n",
       "Name: 0, dtype: object"
      ]
     },
     "metadata": {},
     "execution_count": 9
    }
   ],
   "source": [
    "us_data.loc[0]"
   ]
  },
  {
   "cell_type": "code",
   "execution_count": 12,
   "metadata": {},
   "outputs": [
    {
     "output_type": "execute_result",
     "data": {
      "text/plain": [
       "        지점                  일시  기온(°C)  누적강수량(mm)  풍향(deg)  풍속(m/s)  \\\n",
       "0      152 2018-03-01 00:01:00     8.2        0.0    347.8      3.8   \n",
       "1      152 2018-03-01 00:02:00     8.2        0.0    346.4      3.1   \n",
       "2      152 2018-03-01 00:03:00     8.1        0.0    341.2      2.7   \n",
       "3      152 2018-03-01 00:04:00     8.1        0.0    356.9      4.6   \n",
       "4      152 2018-03-01 00:05:00     8.1        0.0    351.1      4.3   \n",
       "...    ...                 ...     ...        ...      ...      ...   \n",
       "44630  152 2018-03-31 23:56:00    14.7        0.0    233.1      0.9   \n",
       "44631  152 2018-03-31 23:57:00    14.6        0.0    221.0      1.0   \n",
       "44632  152 2018-03-31 23:58:00    14.6        0.0    242.3      0.9   \n",
       "44633  152 2018-03-31 23:59:00    14.6        0.0    249.1      0.9   \n",
       "44634  152 2018-04-01 00:00:00    14.8        0.0    241.6      0.4   \n",
       "\n",
       "       현지기압(hPa)  해면기압(hPa)  습도(%)  일사     일조  \n",
       "0          982.2      992.1   97.9 NaN      0  \n",
       "1          982.1      992.0   97.9 NaN      0  \n",
       "2          982.1      992.0   97.9 NaN      0  \n",
       "3          982.1      992.0   97.9 NaN      0  \n",
       "4          982.1      992.0   97.9 NaN      0  \n",
       "...          ...        ...    ...  ..    ...  \n",
       "44630     1007.7     1017.6   45.8 NaN  37260  \n",
       "44631     1007.7     1017.6   46.0 NaN  37260  \n",
       "44632     1007.7     1017.6   46.4 NaN  37260  \n",
       "44633     1007.7     1017.6   46.2 NaN  37260  \n",
       "44634     1007.7     1017.6   46.2 NaN  37260  \n",
       "\n",
       "[44635 rows x 11 columns]"
      ],
      "text/html": "<div>\n<style scoped>\n    .dataframe tbody tr th:only-of-type {\n        vertical-align: middle;\n    }\n\n    .dataframe tbody tr th {\n        vertical-align: top;\n    }\n\n    .dataframe thead th {\n        text-align: right;\n    }\n</style>\n<table border=\"1\" class=\"dataframe\">\n  <thead>\n    <tr style=\"text-align: right;\">\n      <th></th>\n      <th>지점</th>\n      <th>일시</th>\n      <th>기온(°C)</th>\n      <th>누적강수량(mm)</th>\n      <th>풍향(deg)</th>\n      <th>풍속(m/s)</th>\n      <th>현지기압(hPa)</th>\n      <th>해면기압(hPa)</th>\n      <th>습도(%)</th>\n      <th>일사</th>\n      <th>일조</th>\n    </tr>\n  </thead>\n  <tbody>\n    <tr>\n      <th>0</th>\n      <td>152</td>\n      <td>2018-03-01 00:01:00</td>\n      <td>8.2</td>\n      <td>0.0</td>\n      <td>347.8</td>\n      <td>3.8</td>\n      <td>982.2</td>\n      <td>992.1</td>\n      <td>97.9</td>\n      <td>NaN</td>\n      <td>0</td>\n    </tr>\n    <tr>\n      <th>1</th>\n      <td>152</td>\n      <td>2018-03-01 00:02:00</td>\n      <td>8.2</td>\n      <td>0.0</td>\n      <td>346.4</td>\n      <td>3.1</td>\n      <td>982.1</td>\n      <td>992.0</td>\n      <td>97.9</td>\n      <td>NaN</td>\n      <td>0</td>\n    </tr>\n    <tr>\n      <th>2</th>\n      <td>152</td>\n      <td>2018-03-01 00:03:00</td>\n      <td>8.1</td>\n      <td>0.0</td>\n      <td>341.2</td>\n      <td>2.7</td>\n      <td>982.1</td>\n      <td>992.0</td>\n      <td>97.9</td>\n      <td>NaN</td>\n      <td>0</td>\n    </tr>\n    <tr>\n      <th>3</th>\n      <td>152</td>\n      <td>2018-03-01 00:04:00</td>\n      <td>8.1</td>\n      <td>0.0</td>\n      <td>356.9</td>\n      <td>4.6</td>\n      <td>982.1</td>\n      <td>992.0</td>\n      <td>97.9</td>\n      <td>NaN</td>\n      <td>0</td>\n    </tr>\n    <tr>\n      <th>4</th>\n      <td>152</td>\n      <td>2018-03-01 00:05:00</td>\n      <td>8.1</td>\n      <td>0.0</td>\n      <td>351.1</td>\n      <td>4.3</td>\n      <td>982.1</td>\n      <td>992.0</td>\n      <td>97.9</td>\n      <td>NaN</td>\n      <td>0</td>\n    </tr>\n    <tr>\n      <th>...</th>\n      <td>...</td>\n      <td>...</td>\n      <td>...</td>\n      <td>...</td>\n      <td>...</td>\n      <td>...</td>\n      <td>...</td>\n      <td>...</td>\n      <td>...</td>\n      <td>...</td>\n      <td>...</td>\n    </tr>\n    <tr>\n      <th>44630</th>\n      <td>152</td>\n      <td>2018-03-31 23:56:00</td>\n      <td>14.7</td>\n      <td>0.0</td>\n      <td>233.1</td>\n      <td>0.9</td>\n      <td>1007.7</td>\n      <td>1017.6</td>\n      <td>45.8</td>\n      <td>NaN</td>\n      <td>37260</td>\n    </tr>\n    <tr>\n      <th>44631</th>\n      <td>152</td>\n      <td>2018-03-31 23:57:00</td>\n      <td>14.6</td>\n      <td>0.0</td>\n      <td>221.0</td>\n      <td>1.0</td>\n      <td>1007.7</td>\n      <td>1017.6</td>\n      <td>46.0</td>\n      <td>NaN</td>\n      <td>37260</td>\n    </tr>\n    <tr>\n      <th>44632</th>\n      <td>152</td>\n      <td>2018-03-31 23:58:00</td>\n      <td>14.6</td>\n      <td>0.0</td>\n      <td>242.3</td>\n      <td>0.9</td>\n      <td>1007.7</td>\n      <td>1017.6</td>\n      <td>46.4</td>\n      <td>NaN</td>\n      <td>37260</td>\n    </tr>\n    <tr>\n      <th>44633</th>\n      <td>152</td>\n      <td>2018-03-31 23:59:00</td>\n      <td>14.6</td>\n      <td>0.0</td>\n      <td>249.1</td>\n      <td>0.9</td>\n      <td>1007.7</td>\n      <td>1017.6</td>\n      <td>46.2</td>\n      <td>NaN</td>\n      <td>37260</td>\n    </tr>\n    <tr>\n      <th>44634</th>\n      <td>152</td>\n      <td>2018-04-01 00:00:00</td>\n      <td>14.8</td>\n      <td>0.0</td>\n      <td>241.6</td>\n      <td>0.4</td>\n      <td>1007.7</td>\n      <td>1017.6</td>\n      <td>46.2</td>\n      <td>NaN</td>\n      <td>37260</td>\n    </tr>\n  </tbody>\n</table>\n<p>44635 rows × 11 columns</p>\n</div>"
     },
     "metadata": {},
     "execution_count": 12
    }
   ],
   "source": [
    "us_data['일시'] = pd.to_datetime(us_data['일시'])\n",
    "us_data\n"
   ]
  },
  {
   "cell_type": "code",
   "execution_count": 13,
   "metadata": {
    "tags": []
   },
   "outputs": [],
   "source": [
    "jo = []\n",
    "for i in range(len(us_data)-1):\n",
    "    tmp = us_data['일시'].loc[i]\n",
    "    if(tmp.minute == 1):\n",
    "        jo_start = us_data['일조'].loc[i]\n",
    "    if(tmp.minute == 58):\n",
    "        jo_end = us_data['일조'].loc[i]\n",
    "        jo.append(jo_end - jo_start)"
   ]
  },
  {
   "cell_type": "code",
   "execution_count": 14,
   "metadata": {},
   "outputs": [
    {
     "output_type": "stream",
     "name": "stdout",
     "text": [
      "744\n"
     ]
    }
   ],
   "source": [
    "print(len(jo))"
   ]
  },
  {
   "cell_type": "code",
   "execution_count": 15,
   "metadata": {},
   "outputs": [
    {
     "output_type": "execute_result",
     "data": {
      "text/plain": [
       "     일조\n",
       "0     0\n",
       "1     0\n",
       "2     0\n",
       "3     0\n",
       "4     0\n",
       "..   ..\n",
       "739   0\n",
       "740   0\n",
       "741   0\n",
       "742   0\n",
       "743   0\n",
       "\n",
       "[744 rows x 1 columns]"
      ],
      "text/html": "<div>\n<style scoped>\n    .dataframe tbody tr th:only-of-type {\n        vertical-align: middle;\n    }\n\n    .dataframe tbody tr th {\n        vertical-align: top;\n    }\n\n    .dataframe thead th {\n        text-align: right;\n    }\n</style>\n<table border=\"1\" class=\"dataframe\">\n  <thead>\n    <tr style=\"text-align: right;\">\n      <th></th>\n      <th>일조</th>\n    </tr>\n  </thead>\n  <tbody>\n    <tr>\n      <th>0</th>\n      <td>0</td>\n    </tr>\n    <tr>\n      <th>1</th>\n      <td>0</td>\n    </tr>\n    <tr>\n      <th>2</th>\n      <td>0</td>\n    </tr>\n    <tr>\n      <th>3</th>\n      <td>0</td>\n    </tr>\n    <tr>\n      <th>4</th>\n      <td>0</td>\n    </tr>\n    <tr>\n      <th>...</th>\n      <td>...</td>\n    </tr>\n    <tr>\n      <th>739</th>\n      <td>0</td>\n    </tr>\n    <tr>\n      <th>740</th>\n      <td>0</td>\n    </tr>\n    <tr>\n      <th>741</th>\n      <td>0</td>\n    </tr>\n    <tr>\n      <th>742</th>\n      <td>0</td>\n    </tr>\n    <tr>\n      <th>743</th>\n      <td>0</td>\n    </tr>\n  </tbody>\n</table>\n<p>744 rows × 1 columns</p>\n</div>"
     },
     "metadata": {},
     "execution_count": 15
    }
   ],
   "source": [
    "jo_df = pd.DataFrame({'일조': jo})\n",
    "jo_df"
   ]
  },
  {
   "cell_type": "code",
   "execution_count": 16,
   "metadata": {},
   "outputs": [
    {
     "output_type": "execute_result",
     "data": {
      "text/plain": [
       "          Forecast_time\n",
       "0   2018-03-01 00:00:00\n",
       "1   2018-03-01 01:00:00\n",
       "2   2018-03-01 02:00:00\n",
       "3   2018-03-01 03:00:00\n",
       "4   2018-03-01 04:00:00\n",
       "..                  ...\n",
       "739 2018-03-31 19:00:00\n",
       "740 2018-03-31 20:00:00\n",
       "741 2018-03-31 21:00:00\n",
       "742 2018-03-31 22:00:00\n",
       "743 2018-03-31 23:00:00\n",
       "\n",
       "[744 rows x 1 columns]"
      ],
      "text/html": "<div>\n<style scoped>\n    .dataframe tbody tr th:only-of-type {\n        vertical-align: middle;\n    }\n\n    .dataframe tbody tr th {\n        vertical-align: top;\n    }\n\n    .dataframe thead th {\n        text-align: right;\n    }\n</style>\n<table border=\"1\" class=\"dataframe\">\n  <thead>\n    <tr style=\"text-align: right;\">\n      <th></th>\n      <th>Forecast_time</th>\n    </tr>\n  </thead>\n  <tbody>\n    <tr>\n      <th>0</th>\n      <td>2018-03-01 00:00:00</td>\n    </tr>\n    <tr>\n      <th>1</th>\n      <td>2018-03-01 01:00:00</td>\n    </tr>\n    <tr>\n      <th>2</th>\n      <td>2018-03-01 02:00:00</td>\n    </tr>\n    <tr>\n      <th>3</th>\n      <td>2018-03-01 03:00:00</td>\n    </tr>\n    <tr>\n      <th>4</th>\n      <td>2018-03-01 04:00:00</td>\n    </tr>\n    <tr>\n      <th>...</th>\n      <td>...</td>\n    </tr>\n    <tr>\n      <th>739</th>\n      <td>2018-03-31 19:00:00</td>\n    </tr>\n    <tr>\n      <th>740</th>\n      <td>2018-03-31 20:00:00</td>\n    </tr>\n    <tr>\n      <th>741</th>\n      <td>2018-03-31 21:00:00</td>\n    </tr>\n    <tr>\n      <th>742</th>\n      <td>2018-03-31 22:00:00</td>\n    </tr>\n    <tr>\n      <th>743</th>\n      <td>2018-03-31 23:00:00</td>\n    </tr>\n  </tbody>\n</table>\n<p>744 rows × 1 columns</p>\n</div>"
     },
     "metadata": {},
     "execution_count": 16
    }
   ],
   "source": [
    "us_03 = pd.DataFrame()\n",
    "us_03['Forecast_time'] = pd.date_range(start='2018-03-01 00:00:00', end='2018-03-31 23:00:00', freq='H')\n",
    "us_03"
   ]
  },
  {
   "cell_type": "code",
   "execution_count": 17,
   "metadata": {},
   "outputs": [
    {
     "output_type": "execute_result",
     "data": {
      "text/plain": [
       "          Forecast_time  일조\n",
       "0   2018-03-01 00:00:00   0\n",
       "1   2018-03-01 01:00:00   0\n",
       "2   2018-03-01 02:00:00   0\n",
       "3   2018-03-01 03:00:00   0\n",
       "4   2018-03-01 04:00:00   0\n",
       "..                  ...  ..\n",
       "739 2018-03-31 19:00:00   0\n",
       "740 2018-03-31 20:00:00   0\n",
       "741 2018-03-31 21:00:00   0\n",
       "742 2018-03-31 22:00:00   0\n",
       "743 2018-03-31 23:00:00   0\n",
       "\n",
       "[744 rows x 2 columns]"
      ],
      "text/html": "<div>\n<style scoped>\n    .dataframe tbody tr th:only-of-type {\n        vertical-align: middle;\n    }\n\n    .dataframe tbody tr th {\n        vertical-align: top;\n    }\n\n    .dataframe thead th {\n        text-align: right;\n    }\n</style>\n<table border=\"1\" class=\"dataframe\">\n  <thead>\n    <tr style=\"text-align: right;\">\n      <th></th>\n      <th>Forecast_time</th>\n      <th>일조</th>\n    </tr>\n  </thead>\n  <tbody>\n    <tr>\n      <th>0</th>\n      <td>2018-03-01 00:00:00</td>\n      <td>0</td>\n    </tr>\n    <tr>\n      <th>1</th>\n      <td>2018-03-01 01:00:00</td>\n      <td>0</td>\n    </tr>\n    <tr>\n      <th>2</th>\n      <td>2018-03-01 02:00:00</td>\n      <td>0</td>\n    </tr>\n    <tr>\n      <th>3</th>\n      <td>2018-03-01 03:00:00</td>\n      <td>0</td>\n    </tr>\n    <tr>\n      <th>4</th>\n      <td>2018-03-01 04:00:00</td>\n      <td>0</td>\n    </tr>\n    <tr>\n      <th>...</th>\n      <td>...</td>\n      <td>...</td>\n    </tr>\n    <tr>\n      <th>739</th>\n      <td>2018-03-31 19:00:00</td>\n      <td>0</td>\n    </tr>\n    <tr>\n      <th>740</th>\n      <td>2018-03-31 20:00:00</td>\n      <td>0</td>\n    </tr>\n    <tr>\n      <th>741</th>\n      <td>2018-03-31 21:00:00</td>\n      <td>0</td>\n    </tr>\n    <tr>\n      <th>742</th>\n      <td>2018-03-31 22:00:00</td>\n      <td>0</td>\n    </tr>\n    <tr>\n      <th>743</th>\n      <td>2018-03-31 23:00:00</td>\n      <td>0</td>\n    </tr>\n  </tbody>\n</table>\n<p>744 rows × 2 columns</p>\n</div>"
     },
     "metadata": {},
     "execution_count": 17
    }
   ],
   "source": [
    "us_03_df = pd.concat([us_03, jo_df], axis=1)\n",
    "us_03_df"
   ]
  },
  {
   "cell_type": "code",
   "execution_count": null,
   "metadata": {},
   "outputs": [],
   "source": []
  }
 ]
}