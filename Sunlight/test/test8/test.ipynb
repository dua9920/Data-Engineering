{
 "metadata": {
  "language_info": {
   "codemirror_mode": {
    "name": "ipython",
    "version": 3
   },
   "file_extension": ".py",
   "mimetype": "text/x-python",
   "name": "python",
   "nbconvert_exporter": "python",
   "pygments_lexer": "ipython3",
   "version": "3.8.5"
  },
  "orig_nbformat": 2,
  "kernelspec": {
   "name": "python3",
   "display_name": "Python 3.8.5 64-bit ('base': conda)"
  },
  "metadata": {
   "interpreter": {
    "hash": "8a86e1213f422856c706c8d60d3bedc39c2736e916fe56d504190f85925a1987"
   }
  },
  "interpreter": {
   "hash": "7b4b4feff2f24a0f0a34464dbe537a36fda679851528fb8735cb41fa49dffb2d"
  }
 },
 "nbformat": 4,
 "nbformat_minor": 2,
 "cells": [
  {
   "cell_type": "code",
   "execution_count": 1,
   "metadata": {},
   "outputs": [],
   "source": [
    "import pandas as pd"
   ]
  },
  {
   "cell_type": "code",
   "execution_count": 5,
   "metadata": {},
   "outputs": [
    {
     "output_type": "execute_result",
     "data": {
      "text/plain": [
       "              Forecast time  forecast  Temperature  Humidity  WindSpeed  \\\n",
       "0       2018-03-01 11:00:00       4.0          0.0      60.0        7.3   \n",
       "1       2018-03-01 11:00:00       7.0         -2.0      60.0        7.1   \n",
       "2       2018-03-01 11:00:00      10.0         -2.0      60.0        6.7   \n",
       "3       2018-03-01 11:00:00      13.0         -2.0      55.0        6.7   \n",
       "4       2018-03-01 11:00:00      16.0         -4.0      55.0        5.5   \n",
       "...                     ...       ...          ...       ...        ...   \n",
       "162203  2021-03-01 08:00:00      52.0          7.0      40.0        3.2   \n",
       "162204  2021-03-01 08:00:00      55.0          8.0      40.0        4.5   \n",
       "162205  2021-03-01 08:00:00      58.0          5.0      55.0        2.2   \n",
       "162206  2021-03-01 08:00:00      61.0          1.0      80.0        1.9   \n",
       "162207  2021-03-01 08:00:00      64.0          1.0      80.0        2.1   \n",
       "\n",
       "        WindDirection  Cloud  \n",
       "0               309.0    2.0  \n",
       "1               314.0    1.0  \n",
       "2               323.0    1.0  \n",
       "3               336.0    1.0  \n",
       "4               339.0    1.0  \n",
       "...               ...    ...  \n",
       "162203          187.0    1.0  \n",
       "162204          217.0    1.0  \n",
       "162205          210.0    1.0  \n",
       "162206          164.0    1.0  \n",
       "162207          152.0    1.0  \n",
       "\n",
       "[162208 rows x 7 columns]"
      ],
      "text/html": "<div>\n<style scoped>\n    .dataframe tbody tr th:only-of-type {\n        vertical-align: middle;\n    }\n\n    .dataframe tbody tr th {\n        vertical-align: top;\n    }\n\n    .dataframe thead th {\n        text-align: right;\n    }\n</style>\n<table border=\"1\" class=\"dataframe\">\n  <thead>\n    <tr style=\"text-align: right;\">\n      <th></th>\n      <th>Forecast time</th>\n      <th>forecast</th>\n      <th>Temperature</th>\n      <th>Humidity</th>\n      <th>WindSpeed</th>\n      <th>WindDirection</th>\n      <th>Cloud</th>\n    </tr>\n  </thead>\n  <tbody>\n    <tr>\n      <th>0</th>\n      <td>2018-03-01 11:00:00</td>\n      <td>4.0</td>\n      <td>0.0</td>\n      <td>60.0</td>\n      <td>7.3</td>\n      <td>309.0</td>\n      <td>2.0</td>\n    </tr>\n    <tr>\n      <th>1</th>\n      <td>2018-03-01 11:00:00</td>\n      <td>7.0</td>\n      <td>-2.0</td>\n      <td>60.0</td>\n      <td>7.1</td>\n      <td>314.0</td>\n      <td>1.0</td>\n    </tr>\n    <tr>\n      <th>2</th>\n      <td>2018-03-01 11:00:00</td>\n      <td>10.0</td>\n      <td>-2.0</td>\n      <td>60.0</td>\n      <td>6.7</td>\n      <td>323.0</td>\n      <td>1.0</td>\n    </tr>\n    <tr>\n      <th>3</th>\n      <td>2018-03-01 11:00:00</td>\n      <td>13.0</td>\n      <td>-2.0</td>\n      <td>55.0</td>\n      <td>6.7</td>\n      <td>336.0</td>\n      <td>1.0</td>\n    </tr>\n    <tr>\n      <th>4</th>\n      <td>2018-03-01 11:00:00</td>\n      <td>16.0</td>\n      <td>-4.0</td>\n      <td>55.0</td>\n      <td>5.5</td>\n      <td>339.0</td>\n      <td>1.0</td>\n    </tr>\n    <tr>\n      <th>...</th>\n      <td>...</td>\n      <td>...</td>\n      <td>...</td>\n      <td>...</td>\n      <td>...</td>\n      <td>...</td>\n      <td>...</td>\n    </tr>\n    <tr>\n      <th>162203</th>\n      <td>2021-03-01 08:00:00</td>\n      <td>52.0</td>\n      <td>7.0</td>\n      <td>40.0</td>\n      <td>3.2</td>\n      <td>187.0</td>\n      <td>1.0</td>\n    </tr>\n    <tr>\n      <th>162204</th>\n      <td>2021-03-01 08:00:00</td>\n      <td>55.0</td>\n      <td>8.0</td>\n      <td>40.0</td>\n      <td>4.5</td>\n      <td>217.0</td>\n      <td>1.0</td>\n    </tr>\n    <tr>\n      <th>162205</th>\n      <td>2021-03-01 08:00:00</td>\n      <td>58.0</td>\n      <td>5.0</td>\n      <td>55.0</td>\n      <td>2.2</td>\n      <td>210.0</td>\n      <td>1.0</td>\n    </tr>\n    <tr>\n      <th>162206</th>\n      <td>2021-03-01 08:00:00</td>\n      <td>61.0</td>\n      <td>1.0</td>\n      <td>80.0</td>\n      <td>1.9</td>\n      <td>164.0</td>\n      <td>1.0</td>\n    </tr>\n    <tr>\n      <th>162207</th>\n      <td>2021-03-01 08:00:00</td>\n      <td>64.0</td>\n      <td>1.0</td>\n      <td>80.0</td>\n      <td>2.1</td>\n      <td>152.0</td>\n      <td>1.0</td>\n    </tr>\n  </tbody>\n</table>\n<p>162208 rows × 7 columns</p>\n</div>"
     },
     "metadata": {},
     "execution_count": 5
    }
   ],
   "source": [
    "# 당진시 데이터\n",
    "dj_fcst = pd.read_csv(\"./dangjin_fcst_data.csv\")\n",
    "dj_sun = pd.read_csv(\"./dj_sunlight.csv\")\n",
    "dj_fcst"
   ]
  },
  {
   "cell_type": "code",
   "execution_count": 6,
   "metadata": {},
   "outputs": [
    {
     "output_type": "execute_result",
     "data": {
      "text/plain": [
       "              Forecast time  forecast  Temperature  Humidity  WindSpeed  \\\n",
       "0       2018-03-01 11:00:00       4.0          8.0      20.0       14.0   \n",
       "1       2018-03-01 11:00:00       7.0          4.0      20.0        4.3   \n",
       "2       2018-03-01 11:00:00      10.0          3.0      30.0        1.9   \n",
       "3       2018-03-01 11:00:00      13.0          0.0      40.0        1.5   \n",
       "4       2018-03-01 11:00:00      16.0         -1.0      45.0        1.8   \n",
       "...                     ...       ...          ...       ...        ...   \n",
       "162203  2021-03-01 08:00:00      52.0          9.0      45.0        3.1   \n",
       "162204  2021-03-01 08:00:00      55.0          9.0      45.0        3.0   \n",
       "162205  2021-03-01 08:00:00      58.0          8.0      55.0        2.2   \n",
       "162206  2021-03-01 08:00:00      61.0          6.0      65.0        0.9   \n",
       "162207  2021-03-01 08:00:00      64.0          4.0      80.0        0.7   \n",
       "\n",
       "        WindDirection  Cloud  \n",
       "0               298.0    2.0  \n",
       "1               298.0    2.0  \n",
       "2               309.0    2.0  \n",
       "3               318.0    2.0  \n",
       "4               308.0    2.0  \n",
       "...               ...    ...  \n",
       "162203           83.0    3.0  \n",
       "162204          111.0    3.0  \n",
       "162205          122.0    3.0  \n",
       "162206          131.0    3.0  \n",
       "162207          188.0    3.0  \n",
       "\n",
       "[162208 rows x 7 columns]"
      ],
      "text/html": "<div>\n<style scoped>\n    .dataframe tbody tr th:only-of-type {\n        vertical-align: middle;\n    }\n\n    .dataframe tbody tr th {\n        vertical-align: top;\n    }\n\n    .dataframe thead th {\n        text-align: right;\n    }\n</style>\n<table border=\"1\" class=\"dataframe\">\n  <thead>\n    <tr style=\"text-align: right;\">\n      <th></th>\n      <th>Forecast time</th>\n      <th>forecast</th>\n      <th>Temperature</th>\n      <th>Humidity</th>\n      <th>WindSpeed</th>\n      <th>WindDirection</th>\n      <th>Cloud</th>\n    </tr>\n  </thead>\n  <tbody>\n    <tr>\n      <th>0</th>\n      <td>2018-03-01 11:00:00</td>\n      <td>4.0</td>\n      <td>8.0</td>\n      <td>20.0</td>\n      <td>14.0</td>\n      <td>298.0</td>\n      <td>2.0</td>\n    </tr>\n    <tr>\n      <th>1</th>\n      <td>2018-03-01 11:00:00</td>\n      <td>7.0</td>\n      <td>4.0</td>\n      <td>20.0</td>\n      <td>4.3</td>\n      <td>298.0</td>\n      <td>2.0</td>\n    </tr>\n    <tr>\n      <th>2</th>\n      <td>2018-03-01 11:00:00</td>\n      <td>10.0</td>\n      <td>3.0</td>\n      <td>30.0</td>\n      <td>1.9</td>\n      <td>309.0</td>\n      <td>2.0</td>\n    </tr>\n    <tr>\n      <th>3</th>\n      <td>2018-03-01 11:00:00</td>\n      <td>13.0</td>\n      <td>0.0</td>\n      <td>40.0</td>\n      <td>1.5</td>\n      <td>318.0</td>\n      <td>2.0</td>\n    </tr>\n    <tr>\n      <th>4</th>\n      <td>2018-03-01 11:00:00</td>\n      <td>16.0</td>\n      <td>-1.0</td>\n      <td>45.0</td>\n      <td>1.8</td>\n      <td>308.0</td>\n      <td>2.0</td>\n    </tr>\n    <tr>\n      <th>...</th>\n      <td>...</td>\n      <td>...</td>\n      <td>...</td>\n      <td>...</td>\n      <td>...</td>\n      <td>...</td>\n      <td>...</td>\n    </tr>\n    <tr>\n      <th>162203</th>\n      <td>2021-03-01 08:00:00</td>\n      <td>52.0</td>\n      <td>9.0</td>\n      <td>45.0</td>\n      <td>3.1</td>\n      <td>83.0</td>\n      <td>3.0</td>\n    </tr>\n    <tr>\n      <th>162204</th>\n      <td>2021-03-01 08:00:00</td>\n      <td>55.0</td>\n      <td>9.0</td>\n      <td>45.0</td>\n      <td>3.0</td>\n      <td>111.0</td>\n      <td>3.0</td>\n    </tr>\n    <tr>\n      <th>162205</th>\n      <td>2021-03-01 08:00:00</td>\n      <td>58.0</td>\n      <td>8.0</td>\n      <td>55.0</td>\n      <td>2.2</td>\n      <td>122.0</td>\n      <td>3.0</td>\n    </tr>\n    <tr>\n      <th>162206</th>\n      <td>2021-03-01 08:00:00</td>\n      <td>61.0</td>\n      <td>6.0</td>\n      <td>65.0</td>\n      <td>0.9</td>\n      <td>131.0</td>\n      <td>3.0</td>\n    </tr>\n    <tr>\n      <th>162207</th>\n      <td>2021-03-01 08:00:00</td>\n      <td>64.0</td>\n      <td>4.0</td>\n      <td>80.0</td>\n      <td>0.7</td>\n      <td>188.0</td>\n      <td>3.0</td>\n    </tr>\n  </tbody>\n</table>\n<p>162208 rows × 7 columns</p>\n</div>"
     },
     "metadata": {},
     "execution_count": 6
    }
   ],
   "source": [
    "# 울산시 데이터\n",
    "us_fcst = pd.read_csv(\"./ulsan_fcst_data.csv\")\n",
    "us_sun = pd.read_csv(\"./us_sunlight.csv\")\n",
    "us_fcst"
   ]
  },
  {
   "cell_type": "code",
   "execution_count": 7,
   "metadata": {},
   "outputs": [
    {
     "output_type": "execute_result",
     "data": {
      "text/plain": [
       "             Forecast time   일사   일조\n",
       "0      2018-03-01 00:00:00  0.0  0.0\n",
       "1      2018-03-01 01:00:00  0.0  0.0\n",
       "2      2018-03-01 02:00:00  0.0  0.0\n",
       "3      2018-03-01 03:00:00  0.0  0.0\n",
       "4      2018-03-01 04:00:00  0.0  0.0\n",
       "...                    ...  ...  ...\n",
       "27043  2021-03-31 19:00:00  0.0  0.0\n",
       "27044  2021-03-31 20:00:00  0.0  0.0\n",
       "27045  2021-03-31 21:00:00  0.0  0.0\n",
       "27046  2021-03-31 22:00:00  0.0  0.0\n",
       "27047  2021-03-31 23:00:00  0.0  0.0\n",
       "\n",
       "[27048 rows x 3 columns]"
      ],
      "text/html": "<div>\n<style scoped>\n    .dataframe tbody tr th:only-of-type {\n        vertical-align: middle;\n    }\n\n    .dataframe tbody tr th {\n        vertical-align: top;\n    }\n\n    .dataframe thead th {\n        text-align: right;\n    }\n</style>\n<table border=\"1\" class=\"dataframe\">\n  <thead>\n    <tr style=\"text-align: right;\">\n      <th></th>\n      <th>Forecast time</th>\n      <th>일사</th>\n      <th>일조</th>\n    </tr>\n  </thead>\n  <tbody>\n    <tr>\n      <th>0</th>\n      <td>2018-03-01 00:00:00</td>\n      <td>0.0</td>\n      <td>0.0</td>\n    </tr>\n    <tr>\n      <th>1</th>\n      <td>2018-03-01 01:00:00</td>\n      <td>0.0</td>\n      <td>0.0</td>\n    </tr>\n    <tr>\n      <th>2</th>\n      <td>2018-03-01 02:00:00</td>\n      <td>0.0</td>\n      <td>0.0</td>\n    </tr>\n    <tr>\n      <th>3</th>\n      <td>2018-03-01 03:00:00</td>\n      <td>0.0</td>\n      <td>0.0</td>\n    </tr>\n    <tr>\n      <th>4</th>\n      <td>2018-03-01 04:00:00</td>\n      <td>0.0</td>\n      <td>0.0</td>\n    </tr>\n    <tr>\n      <th>...</th>\n      <td>...</td>\n      <td>...</td>\n      <td>...</td>\n    </tr>\n    <tr>\n      <th>27043</th>\n      <td>2021-03-31 19:00:00</td>\n      <td>0.0</td>\n      <td>0.0</td>\n    </tr>\n    <tr>\n      <th>27044</th>\n      <td>2021-03-31 20:00:00</td>\n      <td>0.0</td>\n      <td>0.0</td>\n    </tr>\n    <tr>\n      <th>27045</th>\n      <td>2021-03-31 21:00:00</td>\n      <td>0.0</td>\n      <td>0.0</td>\n    </tr>\n    <tr>\n      <th>27046</th>\n      <td>2021-03-31 22:00:00</td>\n      <td>0.0</td>\n      <td>0.0</td>\n    </tr>\n    <tr>\n      <th>27047</th>\n      <td>2021-03-31 23:00:00</td>\n      <td>0.0</td>\n      <td>0.0</td>\n    </tr>\n  </tbody>\n</table>\n<p>27048 rows × 3 columns</p>\n</div>"
     },
     "metadata": {},
     "execution_count": 7
    }
   ],
   "source": [
    "dj_sun = dj_sun.rename(columns={dj_sun.columns[0]:'Forecast time'})\n",
    "us_sun = us_sun.rename(columns={us_sun.columns[0]:'Forecast time'})\n",
    "us_sun"
   ]
  },
  {
   "cell_type": "code",
   "execution_count": 8,
   "metadata": {},
   "outputs": [
    {
     "output_type": "execute_result",
     "data": {
      "text/plain": [
       "              Forecast time  forecast  Temperature  Humidity  WindSpeed  \\\n",
       "0       2018-03-01 11:00:00       4.0          8.0      20.0       14.0   \n",
       "1       2018-03-01 11:00:00       7.0          4.0      20.0        4.3   \n",
       "2       2018-03-01 11:00:00      10.0          3.0      30.0        1.9   \n",
       "3       2018-03-01 11:00:00      13.0          0.0      40.0        1.5   \n",
       "4       2018-03-01 11:00:00      16.0         -1.0      45.0        1.8   \n",
       "...                     ...       ...          ...       ...        ...   \n",
       "180483  2021-03-31 19:00:00       NaN          NaN       NaN        NaN   \n",
       "180484  2021-03-31 20:00:00       NaN          NaN       NaN        NaN   \n",
       "180485  2021-03-31 21:00:00       NaN          NaN       NaN        NaN   \n",
       "180486  2021-03-31 22:00:00       NaN          NaN       NaN        NaN   \n",
       "180487  2021-03-31 23:00:00       NaN          NaN       NaN        NaN   \n",
       "\n",
       "        WindDirection  Cloud   일사        일조  \n",
       "0               298.0    2.0  0.0  0.983333  \n",
       "1               298.0    2.0  0.0  0.983333  \n",
       "2               309.0    2.0  0.0  0.983333  \n",
       "3               318.0    2.0  0.0  0.983333  \n",
       "4               308.0    2.0  0.0  0.983333  \n",
       "...               ...    ...  ...       ...  \n",
       "180483            NaN    NaN  0.0  0.000000  \n",
       "180484            NaN    NaN  0.0  0.000000  \n",
       "180485            NaN    NaN  0.0  0.000000  \n",
       "180486            NaN    NaN  0.0  0.000000  \n",
       "180487            NaN    NaN  0.0  0.000000  \n",
       "\n",
       "[180488 rows x 9 columns]"
      ],
      "text/html": "<div>\n<style scoped>\n    .dataframe tbody tr th:only-of-type {\n        vertical-align: middle;\n    }\n\n    .dataframe tbody tr th {\n        vertical-align: top;\n    }\n\n    .dataframe thead th {\n        text-align: right;\n    }\n</style>\n<table border=\"1\" class=\"dataframe\">\n  <thead>\n    <tr style=\"text-align: right;\">\n      <th></th>\n      <th>Forecast time</th>\n      <th>forecast</th>\n      <th>Temperature</th>\n      <th>Humidity</th>\n      <th>WindSpeed</th>\n      <th>WindDirection</th>\n      <th>Cloud</th>\n      <th>일사</th>\n      <th>일조</th>\n    </tr>\n  </thead>\n  <tbody>\n    <tr>\n      <th>0</th>\n      <td>2018-03-01 11:00:00</td>\n      <td>4.0</td>\n      <td>8.0</td>\n      <td>20.0</td>\n      <td>14.0</td>\n      <td>298.0</td>\n      <td>2.0</td>\n      <td>0.0</td>\n      <td>0.983333</td>\n    </tr>\n    <tr>\n      <th>1</th>\n      <td>2018-03-01 11:00:00</td>\n      <td>7.0</td>\n      <td>4.0</td>\n      <td>20.0</td>\n      <td>4.3</td>\n      <td>298.0</td>\n      <td>2.0</td>\n      <td>0.0</td>\n      <td>0.983333</td>\n    </tr>\n    <tr>\n      <th>2</th>\n      <td>2018-03-01 11:00:00</td>\n      <td>10.0</td>\n      <td>3.0</td>\n      <td>30.0</td>\n      <td>1.9</td>\n      <td>309.0</td>\n      <td>2.0</td>\n      <td>0.0</td>\n      <td>0.983333</td>\n    </tr>\n    <tr>\n      <th>3</th>\n      <td>2018-03-01 11:00:00</td>\n      <td>13.0</td>\n      <td>0.0</td>\n      <td>40.0</td>\n      <td>1.5</td>\n      <td>318.0</td>\n      <td>2.0</td>\n      <td>0.0</td>\n      <td>0.983333</td>\n    </tr>\n    <tr>\n      <th>4</th>\n      <td>2018-03-01 11:00:00</td>\n      <td>16.0</td>\n      <td>-1.0</td>\n      <td>45.0</td>\n      <td>1.8</td>\n      <td>308.0</td>\n      <td>2.0</td>\n      <td>0.0</td>\n      <td>0.983333</td>\n    </tr>\n    <tr>\n      <th>...</th>\n      <td>...</td>\n      <td>...</td>\n      <td>...</td>\n      <td>...</td>\n      <td>...</td>\n      <td>...</td>\n      <td>...</td>\n      <td>...</td>\n      <td>...</td>\n    </tr>\n    <tr>\n      <th>180483</th>\n      <td>2021-03-31 19:00:00</td>\n      <td>NaN</td>\n      <td>NaN</td>\n      <td>NaN</td>\n      <td>NaN</td>\n      <td>NaN</td>\n      <td>NaN</td>\n      <td>0.0</td>\n      <td>0.000000</td>\n    </tr>\n    <tr>\n      <th>180484</th>\n      <td>2021-03-31 20:00:00</td>\n      <td>NaN</td>\n      <td>NaN</td>\n      <td>NaN</td>\n      <td>NaN</td>\n      <td>NaN</td>\n      <td>NaN</td>\n      <td>0.0</td>\n      <td>0.000000</td>\n    </tr>\n    <tr>\n      <th>180485</th>\n      <td>2021-03-31 21:00:00</td>\n      <td>NaN</td>\n      <td>NaN</td>\n      <td>NaN</td>\n      <td>NaN</td>\n      <td>NaN</td>\n      <td>NaN</td>\n      <td>0.0</td>\n      <td>0.000000</td>\n    </tr>\n    <tr>\n      <th>180486</th>\n      <td>2021-03-31 22:00:00</td>\n      <td>NaN</td>\n      <td>NaN</td>\n      <td>NaN</td>\n      <td>NaN</td>\n      <td>NaN</td>\n      <td>NaN</td>\n      <td>0.0</td>\n      <td>0.000000</td>\n    </tr>\n    <tr>\n      <th>180487</th>\n      <td>2021-03-31 23:00:00</td>\n      <td>NaN</td>\n      <td>NaN</td>\n      <td>NaN</td>\n      <td>NaN</td>\n      <td>NaN</td>\n      <td>NaN</td>\n      <td>0.0</td>\n      <td>0.000000</td>\n    </tr>\n  </tbody>\n</table>\n<p>180488 rows × 9 columns</p>\n</div>"
     },
     "metadata": {},
     "execution_count": 8
    }
   ],
   "source": [
    "dj_fcst_ = pd.merge(dj_fcst, dj_sun, how=\"outer\", on=\"Forecast time\")\n",
    "us_fcst_ = pd.merge(us_fcst, us_sun, how=\"outer\", on=\"Forecast time\")\n",
    "us_fcst_"
   ]
  },
  {
   "cell_type": "code",
   "execution_count": 9,
   "metadata": {},
   "outputs": [
    {
     "output_type": "execute_result",
     "data": {
      "text/plain": [
       "              Forecast time  forecast  Temperature  Humidity  WindSpeed  \\\n",
       "0       2018-03-01 11:00:00       4.0          8.0      20.0       14.0   \n",
       "1       2018-03-01 11:00:00       7.0          4.0      20.0        4.3   \n",
       "2       2018-03-01 11:00:00      10.0          3.0      30.0        1.9   \n",
       "3       2018-03-01 11:00:00      13.0          0.0      40.0        1.5   \n",
       "4       2018-03-01 11:00:00      16.0         -1.0      45.0        1.8   \n",
       "...                     ...       ...          ...       ...        ...   \n",
       "162203  2021-03-01 08:00:00      52.0          9.0      45.0        3.1   \n",
       "162204  2021-03-01 08:00:00      55.0          9.0      45.0        3.0   \n",
       "162205  2021-03-01 08:00:00      58.0          8.0      55.0        2.2   \n",
       "162206  2021-03-01 08:00:00      61.0          6.0      65.0        0.9   \n",
       "162207  2021-03-01 08:00:00      64.0          4.0      80.0        0.7   \n",
       "\n",
       "        WindDirection  Cloud   일사        일조  \n",
       "0               298.0    2.0  0.0  0.983333  \n",
       "1               298.0    2.0  0.0  0.983333  \n",
       "2               309.0    2.0  0.0  0.983333  \n",
       "3               318.0    2.0  0.0  0.983333  \n",
       "4               308.0    2.0  0.0  0.983333  \n",
       "...               ...    ...  ...       ...  \n",
       "162203           83.0    3.0  0.0  0.000000  \n",
       "162204          111.0    3.0  0.0  0.000000  \n",
       "162205          122.0    3.0  0.0  0.000000  \n",
       "162206          131.0    3.0  0.0  0.000000  \n",
       "162207          188.0    3.0  0.0  0.000000  \n",
       "\n",
       "[162208 rows x 9 columns]"
      ],
      "text/html": "<div>\n<style scoped>\n    .dataframe tbody tr th:only-of-type {\n        vertical-align: middle;\n    }\n\n    .dataframe tbody tr th {\n        vertical-align: top;\n    }\n\n    .dataframe thead th {\n        text-align: right;\n    }\n</style>\n<table border=\"1\" class=\"dataframe\">\n  <thead>\n    <tr style=\"text-align: right;\">\n      <th></th>\n      <th>Forecast time</th>\n      <th>forecast</th>\n      <th>Temperature</th>\n      <th>Humidity</th>\n      <th>WindSpeed</th>\n      <th>WindDirection</th>\n      <th>Cloud</th>\n      <th>일사</th>\n      <th>일조</th>\n    </tr>\n  </thead>\n  <tbody>\n    <tr>\n      <th>0</th>\n      <td>2018-03-01 11:00:00</td>\n      <td>4.0</td>\n      <td>8.0</td>\n      <td>20.0</td>\n      <td>14.0</td>\n      <td>298.0</td>\n      <td>2.0</td>\n      <td>0.0</td>\n      <td>0.983333</td>\n    </tr>\n    <tr>\n      <th>1</th>\n      <td>2018-03-01 11:00:00</td>\n      <td>7.0</td>\n      <td>4.0</td>\n      <td>20.0</td>\n      <td>4.3</td>\n      <td>298.0</td>\n      <td>2.0</td>\n      <td>0.0</td>\n      <td>0.983333</td>\n    </tr>\n    <tr>\n      <th>2</th>\n      <td>2018-03-01 11:00:00</td>\n      <td>10.0</td>\n      <td>3.0</td>\n      <td>30.0</td>\n      <td>1.9</td>\n      <td>309.0</td>\n      <td>2.0</td>\n      <td>0.0</td>\n      <td>0.983333</td>\n    </tr>\n    <tr>\n      <th>3</th>\n      <td>2018-03-01 11:00:00</td>\n      <td>13.0</td>\n      <td>0.0</td>\n      <td>40.0</td>\n      <td>1.5</td>\n      <td>318.0</td>\n      <td>2.0</td>\n      <td>0.0</td>\n      <td>0.983333</td>\n    </tr>\n    <tr>\n      <th>4</th>\n      <td>2018-03-01 11:00:00</td>\n      <td>16.0</td>\n      <td>-1.0</td>\n      <td>45.0</td>\n      <td>1.8</td>\n      <td>308.0</td>\n      <td>2.0</td>\n      <td>0.0</td>\n      <td>0.983333</td>\n    </tr>\n    <tr>\n      <th>...</th>\n      <td>...</td>\n      <td>...</td>\n      <td>...</td>\n      <td>...</td>\n      <td>...</td>\n      <td>...</td>\n      <td>...</td>\n      <td>...</td>\n      <td>...</td>\n    </tr>\n    <tr>\n      <th>162203</th>\n      <td>2021-03-01 08:00:00</td>\n      <td>52.0</td>\n      <td>9.0</td>\n      <td>45.0</td>\n      <td>3.1</td>\n      <td>83.0</td>\n      <td>3.0</td>\n      <td>0.0</td>\n      <td>0.000000</td>\n    </tr>\n    <tr>\n      <th>162204</th>\n      <td>2021-03-01 08:00:00</td>\n      <td>55.0</td>\n      <td>9.0</td>\n      <td>45.0</td>\n      <td>3.0</td>\n      <td>111.0</td>\n      <td>3.0</td>\n      <td>0.0</td>\n      <td>0.000000</td>\n    </tr>\n    <tr>\n      <th>162205</th>\n      <td>2021-03-01 08:00:00</td>\n      <td>58.0</td>\n      <td>8.0</td>\n      <td>55.0</td>\n      <td>2.2</td>\n      <td>122.0</td>\n      <td>3.0</td>\n      <td>0.0</td>\n      <td>0.000000</td>\n    </tr>\n    <tr>\n      <th>162206</th>\n      <td>2021-03-01 08:00:00</td>\n      <td>61.0</td>\n      <td>6.0</td>\n      <td>65.0</td>\n      <td>0.9</td>\n      <td>131.0</td>\n      <td>3.0</td>\n      <td>0.0</td>\n      <td>0.000000</td>\n    </tr>\n    <tr>\n      <th>162207</th>\n      <td>2021-03-01 08:00:00</td>\n      <td>64.0</td>\n      <td>4.0</td>\n      <td>80.0</td>\n      <td>0.7</td>\n      <td>188.0</td>\n      <td>3.0</td>\n      <td>0.0</td>\n      <td>0.000000</td>\n    </tr>\n  </tbody>\n</table>\n<p>162208 rows × 9 columns</p>\n</div>"
     },
     "metadata": {},
     "execution_count": 9
    }
   ],
   "source": [
    "dj_fcst_ = dj_fcst_.dropna()\n",
    "us_fcst_ = us_fcst_.dropna()\n",
    "us_fcst_"
   ]
  },
  {
   "cell_type": "code",
   "execution_count": 10,
   "metadata": {},
   "outputs": [],
   "source": [
    "dj_fcst_.to_csv('dj_fcst.csv', mode='w', encoding='utf-8-sig', index=False)\n",
    "us_fcst_.to_csv('us_fcst.csv', mode='w', encoding='utf-8-sig', index=False)"
   ]
  },
  {
   "cell_type": "code",
   "execution_count": null,
   "metadata": {},
   "outputs": [],
   "source": []
  }
 ]
}