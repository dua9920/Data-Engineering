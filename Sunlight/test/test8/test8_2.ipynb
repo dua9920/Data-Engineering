{
 "metadata": {
  "language_info": {
   "codemirror_mode": {
    "name": "ipython",
    "version": 3
   },
   "file_extension": ".py",
   "mimetype": "text/x-python",
   "name": "python",
   "nbconvert_exporter": "python",
   "pygments_lexer": "ipython3",
   "version": "3.8.5"
  },
  "orig_nbformat": 2,
  "kernelspec": {
   "name": "python3",
   "display_name": "Python 3.8.5 64-bit ('base': conda)"
  },
  "metadata": {
   "interpreter": {
    "hash": "8a86e1213f422856c706c8d60d3bedc39c2736e916fe56d504190f85925a1987"
   }
  },
  "interpreter": {
   "hash": "7b4b4feff2f24a0f0a34464dbe537a36fda679851528fb8735cb41fa49dffb2d"
  }
 },
 "nbformat": 4,
 "nbformat_minor": 2,
 "cells": [
  {
   "cell_type": "code",
   "execution_count": 1,
   "metadata": {},
   "outputs": [],
   "source": [
    "import pandas as pd\n",
    "import numpy as np\n",
    "from glob import glob"
   ]
  },
  {
   "cell_type": "code",
   "execution_count": 2,
   "metadata": {},
   "outputs": [
    {
     "output_type": "execute_result",
     "data": {
      "text/plain": [
       "['./us_data\\\\us_2018_03.csv',\n",
       " './us_data\\\\us_2018_04.csv',\n",
       " './us_data\\\\us_2018_05.csv',\n",
       " './us_data\\\\us_2018_06.csv',\n",
       " './us_data\\\\us_2018_07.csv',\n",
       " './us_data\\\\us_2018_08.csv',\n",
       " './us_data\\\\us_2018_09.csv',\n",
       " './us_data\\\\us_2018_10.csv',\n",
       " './us_data\\\\us_2018_11.csv',\n",
       " './us_data\\\\us_2018_12.csv',\n",
       " './us_data\\\\us_2019 (1).csv',\n",
       " './us_data\\\\us_2019 (10).csv',\n",
       " './us_data\\\\us_2019 (11).csv',\n",
       " './us_data\\\\us_2019 (12).csv',\n",
       " './us_data\\\\us_2019 (2).csv',\n",
       " './us_data\\\\us_2019 (3).csv',\n",
       " './us_data\\\\us_2019 (4).csv',\n",
       " './us_data\\\\us_2019 (5).csv',\n",
       " './us_data\\\\us_2019 (6).csv',\n",
       " './us_data\\\\us_2019 (7).csv',\n",
       " './us_data\\\\us_2019 (8).csv',\n",
       " './us_data\\\\us_2019 (9).csv',\n",
       " './us_data\\\\us_2020 (1).csv',\n",
       " './us_data\\\\us_2020 (10).csv',\n",
       " './us_data\\\\us_2020 (11).csv',\n",
       " './us_data\\\\us_2020 (12).csv',\n",
       " './us_data\\\\us_2020 (2).csv',\n",
       " './us_data\\\\us_2020 (3).csv',\n",
       " './us_data\\\\us_2020 (4).csv',\n",
       " './us_data\\\\us_2020 (5).csv',\n",
       " './us_data\\\\us_2020 (6).csv',\n",
       " './us_data\\\\us_2020 (7).csv',\n",
       " './us_data\\\\us_2020 (8).csv',\n",
       " './us_data\\\\us_2020 (9).csv',\n",
       " './us_data\\\\us_2021 (1).csv',\n",
       " './us_data\\\\us_2021 (2).csv',\n",
       " './us_data\\\\us_2021 (3).csv']"
      ]
     },
     "metadata": {},
     "execution_count": 2
    }
   ],
   "source": [
    "# 파일 읽어오기\n",
    "path = \"./us_data/\"\n",
    "files = sorted(glob(path+\"*.csv\"))\n",
    "files"
   ]
  },
  {
   "cell_type": "code",
   "execution_count": 33,
   "metadata": {},
   "outputs": [
    {
     "output_type": "execute_result",
     "data": {
      "text/plain": [
       "                       일시   일사       일조\n",
       "0     2018-03-01 00:01:00  0.0      0.0\n",
       "1     2018-03-01 00:02:00  0.0      0.0\n",
       "2     2018-03-01 00:03:00  0.0      0.0\n",
       "3     2018-03-01 00:04:00  0.0      0.0\n",
       "4     2018-03-01 00:05:00  0.0      0.0\n",
       "...                   ...  ...      ...\n",
       "44635 2021-03-31 23:56:00  0.0  38580.0\n",
       "44636 2021-03-31 23:57:00  0.0  38580.0\n",
       "44637 2021-03-31 23:58:00  0.0  38580.0\n",
       "44638 2021-03-31 23:59:00  0.0  38580.0\n",
       "44639 2021-04-01 00:00:00  0.0  38580.0\n",
       "\n",
       "[1620401 rows x 3 columns]"
      ],
      "text/html": "<div>\n<style scoped>\n    .dataframe tbody tr th:only-of-type {\n        vertical-align: middle;\n    }\n\n    .dataframe tbody tr th {\n        vertical-align: top;\n    }\n\n    .dataframe thead th {\n        text-align: right;\n    }\n</style>\n<table border=\"1\" class=\"dataframe\">\n  <thead>\n    <tr style=\"text-align: right;\">\n      <th></th>\n      <th>일시</th>\n      <th>일사</th>\n      <th>일조</th>\n    </tr>\n  </thead>\n  <tbody>\n    <tr>\n      <th>0</th>\n      <td>2018-03-01 00:01:00</td>\n      <td>0.0</td>\n      <td>0.0</td>\n    </tr>\n    <tr>\n      <th>1</th>\n      <td>2018-03-01 00:02:00</td>\n      <td>0.0</td>\n      <td>0.0</td>\n    </tr>\n    <tr>\n      <th>2</th>\n      <td>2018-03-01 00:03:00</td>\n      <td>0.0</td>\n      <td>0.0</td>\n    </tr>\n    <tr>\n      <th>3</th>\n      <td>2018-03-01 00:04:00</td>\n      <td>0.0</td>\n      <td>0.0</td>\n    </tr>\n    <tr>\n      <th>4</th>\n      <td>2018-03-01 00:05:00</td>\n      <td>0.0</td>\n      <td>0.0</td>\n    </tr>\n    <tr>\n      <th>...</th>\n      <td>...</td>\n      <td>...</td>\n      <td>...</td>\n    </tr>\n    <tr>\n      <th>44635</th>\n      <td>2021-03-31 23:56:00</td>\n      <td>0.0</td>\n      <td>38580.0</td>\n    </tr>\n    <tr>\n      <th>44636</th>\n      <td>2021-03-31 23:57:00</td>\n      <td>0.0</td>\n      <td>38580.0</td>\n    </tr>\n    <tr>\n      <th>44637</th>\n      <td>2021-03-31 23:58:00</td>\n      <td>0.0</td>\n      <td>38580.0</td>\n    </tr>\n    <tr>\n      <th>44638</th>\n      <td>2021-03-31 23:59:00</td>\n      <td>0.0</td>\n      <td>38580.0</td>\n    </tr>\n    <tr>\n      <th>44639</th>\n      <td>2021-04-01 00:00:00</td>\n      <td>0.0</td>\n      <td>38580.0</td>\n    </tr>\n  </tbody>\n</table>\n<p>1620401 rows × 3 columns</p>\n</div>"
     },
     "metadata": {},
     "execution_count": 33
    }
   ],
   "source": [
    "# 2018-03 ~ 2021-03 까지 데이터 뽑기 (분 데이터)\n",
    "us_fcst_df = pd.DataFrame()\n",
    "for i in files:\n",
    "    us_fcst_month = pd.read_csv(i, encoding='euc-kr')\n",
    "    us_fcst_month = us_fcst_month[['일시', '일사(MJ/m^2)', '일조(Sec)']]\n",
    "    us_fcst_month['일시'] = pd.to_datetime(us_fcst_month['일시'])\n",
    "    us_fcst_month = us_fcst_month.fillna(0) # NAN 값 0으로 변경\n",
    "    us_fcst_month = us_fcst_month.rename(columns={us_fcst_month.columns[1]:'일사', us_fcst_month.columns[2]:'일조'})\n",
    "    us_fcst_month['일조'] = us_fcst_month['일조']\n",
    "    us_fcst_df = pd.concat([us_fcst_df, us_fcst_month])\n",
    "us_fcst_df"
   ]
  },
  {
   "cell_type": "code",
   "execution_count": 34,
   "metadata": {},
   "outputs": [
    {
     "output_type": "execute_result",
     "data": {
      "text/plain": [
       "                         일시   일사       일조\n",
       "0       2018-03-01 00:01:00  0.0      0.0\n",
       "1       2018-03-01 00:02:00  0.0      0.0\n",
       "2       2018-03-01 00:03:00  0.0      0.0\n",
       "3       2018-03-01 00:04:00  0.0      0.0\n",
       "4       2018-03-01 00:05:00  0.0      0.0\n",
       "...                     ...  ...      ...\n",
       "1620396 2021-03-31 23:56:00  0.0  38580.0\n",
       "1620397 2021-03-31 23:57:00  0.0  38580.0\n",
       "1620398 2021-03-31 23:58:00  0.0  38580.0\n",
       "1620399 2021-03-31 23:59:00  0.0  38580.0\n",
       "1620400 2021-04-01 00:00:00  0.0  38580.0\n",
       "\n",
       "[1620401 rows x 3 columns]"
      ],
      "text/html": "<div>\n<style scoped>\n    .dataframe tbody tr th:only-of-type {\n        vertical-align: middle;\n    }\n\n    .dataframe tbody tr th {\n        vertical-align: top;\n    }\n\n    .dataframe thead th {\n        text-align: right;\n    }\n</style>\n<table border=\"1\" class=\"dataframe\">\n  <thead>\n    <tr style=\"text-align: right;\">\n      <th></th>\n      <th>일시</th>\n      <th>일사</th>\n      <th>일조</th>\n    </tr>\n  </thead>\n  <tbody>\n    <tr>\n      <th>0</th>\n      <td>2018-03-01 00:01:00</td>\n      <td>0.0</td>\n      <td>0.0</td>\n    </tr>\n    <tr>\n      <th>1</th>\n      <td>2018-03-01 00:02:00</td>\n      <td>0.0</td>\n      <td>0.0</td>\n    </tr>\n    <tr>\n      <th>2</th>\n      <td>2018-03-01 00:03:00</td>\n      <td>0.0</td>\n      <td>0.0</td>\n    </tr>\n    <tr>\n      <th>3</th>\n      <td>2018-03-01 00:04:00</td>\n      <td>0.0</td>\n      <td>0.0</td>\n    </tr>\n    <tr>\n      <th>4</th>\n      <td>2018-03-01 00:05:00</td>\n      <td>0.0</td>\n      <td>0.0</td>\n    </tr>\n    <tr>\n      <th>...</th>\n      <td>...</td>\n      <td>...</td>\n      <td>...</td>\n    </tr>\n    <tr>\n      <th>1620396</th>\n      <td>2021-03-31 23:56:00</td>\n      <td>0.0</td>\n      <td>38580.0</td>\n    </tr>\n    <tr>\n      <th>1620397</th>\n      <td>2021-03-31 23:57:00</td>\n      <td>0.0</td>\n      <td>38580.0</td>\n    </tr>\n    <tr>\n      <th>1620398</th>\n      <td>2021-03-31 23:58:00</td>\n      <td>0.0</td>\n      <td>38580.0</td>\n    </tr>\n    <tr>\n      <th>1620399</th>\n      <td>2021-03-31 23:59:00</td>\n      <td>0.0</td>\n      <td>38580.0</td>\n    </tr>\n    <tr>\n      <th>1620400</th>\n      <td>2021-04-01 00:00:00</td>\n      <td>0.0</td>\n      <td>38580.0</td>\n    </tr>\n  </tbody>\n</table>\n<p>1620401 rows × 3 columns</p>\n</div>"
     },
     "metadata": {},
     "execution_count": 34
    }
   ],
   "source": [
    "#  us_fcst_df 데이터 새로운 인덱스 주기기\n",
    "us_fcst_df.reset_index(drop=True, inplace=True)\n",
    "us_fcst_df"
   ]
  },
  {
   "cell_type": "code",
   "execution_count": 35,
   "metadata": {},
   "outputs": [
    {
     "output_type": "execute_result",
     "data": {
      "text/plain": [
       "                         일시\n",
       "0       2018-03-01 00:01:00\n",
       "1       2018-03-01 00:02:00\n",
       "2       2018-03-01 00:03:00\n",
       "3       2018-03-01 00:04:00\n",
       "4       2018-03-01 00:05:00\n",
       "...                     ...\n",
       "1622874 2021-03-31 23:55:00\n",
       "1622875 2021-03-31 23:56:00\n",
       "1622876 2021-03-31 23:57:00\n",
       "1622877 2021-03-31 23:58:00\n",
       "1622878 2021-03-31 23:59:00\n",
       "\n",
       "[1622879 rows x 1 columns]"
      ],
      "text/html": "<div>\n<style scoped>\n    .dataframe tbody tr th:only-of-type {\n        vertical-align: middle;\n    }\n\n    .dataframe tbody tr th {\n        vertical-align: top;\n    }\n\n    .dataframe thead th {\n        text-align: right;\n    }\n</style>\n<table border=\"1\" class=\"dataframe\">\n  <thead>\n    <tr style=\"text-align: right;\">\n      <th></th>\n      <th>일시</th>\n    </tr>\n  </thead>\n  <tbody>\n    <tr>\n      <th>0</th>\n      <td>2018-03-01 00:01:00</td>\n    </tr>\n    <tr>\n      <th>1</th>\n      <td>2018-03-01 00:02:00</td>\n    </tr>\n    <tr>\n      <th>2</th>\n      <td>2018-03-01 00:03:00</td>\n    </tr>\n    <tr>\n      <th>3</th>\n      <td>2018-03-01 00:04:00</td>\n    </tr>\n    <tr>\n      <th>4</th>\n      <td>2018-03-01 00:05:00</td>\n    </tr>\n    <tr>\n      <th>...</th>\n      <td>...</td>\n    </tr>\n    <tr>\n      <th>1622874</th>\n      <td>2021-03-31 23:55:00</td>\n    </tr>\n    <tr>\n      <th>1622875</th>\n      <td>2021-03-31 23:56:00</td>\n    </tr>\n    <tr>\n      <th>1622876</th>\n      <td>2021-03-31 23:57:00</td>\n    </tr>\n    <tr>\n      <th>1622877</th>\n      <td>2021-03-31 23:58:00</td>\n    </tr>\n    <tr>\n      <th>1622878</th>\n      <td>2021-03-31 23:59:00</td>\n    </tr>\n  </tbody>\n</table>\n<p>1622879 rows × 1 columns</p>\n</div>"
     },
     "metadata": {},
     "execution_count": 35
    }
   ],
   "source": [
    "# 일시 데이터 만들기\n",
    "us_fcst_ = pd.DataFrame()\n",
    "us_fcst_['일시'] = pd.date_range(start=\"2018-03-01 00:01:00\", end='2021-03-31 23:59:00', freq=\"1min\")\n",
    "us_fcst_"
   ]
  },
  {
   "cell_type": "code",
   "execution_count": 41,
   "metadata": {},
   "outputs": [
    {
     "output_type": "execute_result",
     "data": {
      "text/plain": [
       "                         일시   일사   일조\n",
       "0       2018-03-01 00:01:00  0.0  0.0\n",
       "1       2018-03-01 00:02:00  0.0  0.0\n",
       "2       2018-03-01 00:03:00  0.0  0.0\n",
       "3       2018-03-01 00:04:00  0.0  0.0\n",
       "4       2018-03-01 00:05:00  0.0  0.0\n",
       "...                     ...  ...  ...\n",
       "1623155 2020-12-31 23:56:00  NaN  NaN\n",
       "1623156 2020-12-31 23:57:00  NaN  NaN\n",
       "1623157 2020-12-31 23:58:00  NaN  NaN\n",
       "1623158 2020-12-31 23:59:00  NaN  NaN\n",
       "1623159 2021-01-01 00:00:00  NaN  NaN\n",
       "\n",
       "[1623160 rows x 3 columns]"
      ],
      "text/html": "<div>\n<style scoped>\n    .dataframe tbody tr th:only-of-type {\n        vertical-align: middle;\n    }\n\n    .dataframe tbody tr th {\n        vertical-align: top;\n    }\n\n    .dataframe thead th {\n        text-align: right;\n    }\n</style>\n<table border=\"1\" class=\"dataframe\">\n  <thead>\n    <tr style=\"text-align: right;\">\n      <th></th>\n      <th>일시</th>\n      <th>일사</th>\n      <th>일조</th>\n    </tr>\n  </thead>\n  <tbody>\n    <tr>\n      <th>0</th>\n      <td>2018-03-01 00:01:00</td>\n      <td>0.0</td>\n      <td>0.0</td>\n    </tr>\n    <tr>\n      <th>1</th>\n      <td>2018-03-01 00:02:00</td>\n      <td>0.0</td>\n      <td>0.0</td>\n    </tr>\n    <tr>\n      <th>2</th>\n      <td>2018-03-01 00:03:00</td>\n      <td>0.0</td>\n      <td>0.0</td>\n    </tr>\n    <tr>\n      <th>3</th>\n      <td>2018-03-01 00:04:00</td>\n      <td>0.0</td>\n      <td>0.0</td>\n    </tr>\n    <tr>\n      <th>4</th>\n      <td>2018-03-01 00:05:00</td>\n      <td>0.0</td>\n      <td>0.0</td>\n    </tr>\n    <tr>\n      <th>...</th>\n      <td>...</td>\n      <td>...</td>\n      <td>...</td>\n    </tr>\n    <tr>\n      <th>1623155</th>\n      <td>2020-12-31 23:56:00</td>\n      <td>NaN</td>\n      <td>NaN</td>\n    </tr>\n    <tr>\n      <th>1623156</th>\n      <td>2020-12-31 23:57:00</td>\n      <td>NaN</td>\n      <td>NaN</td>\n    </tr>\n    <tr>\n      <th>1623157</th>\n      <td>2020-12-31 23:58:00</td>\n      <td>NaN</td>\n      <td>NaN</td>\n    </tr>\n    <tr>\n      <th>1623158</th>\n      <td>2020-12-31 23:59:00</td>\n      <td>NaN</td>\n      <td>NaN</td>\n    </tr>\n    <tr>\n      <th>1623159</th>\n      <td>2021-01-01 00:00:00</td>\n      <td>NaN</td>\n      <td>NaN</td>\n    </tr>\n  </tbody>\n</table>\n<p>1623160 rows × 3 columns</p>\n</div>"
     },
     "metadata": {},
     "execution_count": 41
    }
   ],
   "source": [
    "# 일시데이터 결측값 확인하기\n",
    "test = pd.merge(us_fcst_df, us_fcst_, how='outer', on=\"일시\")\n",
    "test"
   ]
  },
  {
   "cell_type": "code",
   "execution_count": 42,
   "metadata": {},
   "outputs": [
    {
     "output_type": "stream",
     "name": "stdout",
     "text": [
      "1623160 1622879\n281\n"
     ]
    }
   ],
   "source": [
    "# 결측값 갯수 확인 : 총 280개\n",
    "print(len(test), len(us_fcst_))\n",
    "print(len(test)-len(us_fcst_))"
   ]
  },
  {
   "cell_type": "code",
   "execution_count": 43,
   "metadata": {},
   "outputs": [
    {
     "output_type": "execute_result",
     "data": {
      "text/plain": [
       "                         일시   일사       일조\n",
       "0       2018-03-01 00:01:00  0.0      0.0\n",
       "1       2018-03-01 00:02:00  0.0      0.0\n",
       "2       2018-03-01 00:03:00  0.0      0.0\n",
       "3       2018-03-01 00:04:00  0.0      0.0\n",
       "4       2018-03-01 00:05:00  0.0      0.0\n",
       "...                     ...  ...      ...\n",
       "1620396 2021-03-31 23:56:00  0.0  38580.0\n",
       "1620397 2021-03-31 23:57:00  0.0  38580.0\n",
       "1620398 2021-03-31 23:58:00  0.0  38580.0\n",
       "1620399 2021-03-31 23:59:00  0.0  38580.0\n",
       "1620400 2021-04-01 00:00:00  0.0  38580.0\n",
       "\n",
       "[1623160 rows x 3 columns]"
      ],
      "text/html": "<div>\n<style scoped>\n    .dataframe tbody tr th:only-of-type {\n        vertical-align: middle;\n    }\n\n    .dataframe tbody tr th {\n        vertical-align: top;\n    }\n\n    .dataframe thead th {\n        text-align: right;\n    }\n</style>\n<table border=\"1\" class=\"dataframe\">\n  <thead>\n    <tr style=\"text-align: right;\">\n      <th></th>\n      <th>일시</th>\n      <th>일사</th>\n      <th>일조</th>\n    </tr>\n  </thead>\n  <tbody>\n    <tr>\n      <th>0</th>\n      <td>2018-03-01 00:01:00</td>\n      <td>0.0</td>\n      <td>0.0</td>\n    </tr>\n    <tr>\n      <th>1</th>\n      <td>2018-03-01 00:02:00</td>\n      <td>0.0</td>\n      <td>0.0</td>\n    </tr>\n    <tr>\n      <th>2</th>\n      <td>2018-03-01 00:03:00</td>\n      <td>0.0</td>\n      <td>0.0</td>\n    </tr>\n    <tr>\n      <th>3</th>\n      <td>2018-03-01 00:04:00</td>\n      <td>0.0</td>\n      <td>0.0</td>\n    </tr>\n    <tr>\n      <th>4</th>\n      <td>2018-03-01 00:05:00</td>\n      <td>0.0</td>\n      <td>0.0</td>\n    </tr>\n    <tr>\n      <th>...</th>\n      <td>...</td>\n      <td>...</td>\n      <td>...</td>\n    </tr>\n    <tr>\n      <th>1620396</th>\n      <td>2021-03-31 23:56:00</td>\n      <td>0.0</td>\n      <td>38580.0</td>\n    </tr>\n    <tr>\n      <th>1620397</th>\n      <td>2021-03-31 23:57:00</td>\n      <td>0.0</td>\n      <td>38580.0</td>\n    </tr>\n    <tr>\n      <th>1620398</th>\n      <td>2021-03-31 23:58:00</td>\n      <td>0.0</td>\n      <td>38580.0</td>\n    </tr>\n    <tr>\n      <th>1620399</th>\n      <td>2021-03-31 23:59:00</td>\n      <td>0.0</td>\n      <td>38580.0</td>\n    </tr>\n    <tr>\n      <th>1620400</th>\n      <td>2021-04-01 00:00:00</td>\n      <td>0.0</td>\n      <td>38580.0</td>\n    </tr>\n  </tbody>\n</table>\n<p>1623160 rows × 3 columns</p>\n</div>"
     },
     "metadata": {},
     "execution_count": 43
    }
   ],
   "source": [
    "# 결측값 보간하기\n",
    "test2 = test.sort_values(by=\"일시\")\n",
    "test2['일사'] = test2['일사'].interpolate()\n",
    "test2['일조'] = test2['일조'].interpolate()\n",
    "test2"
   ]
  },
  {
   "cell_type": "code",
   "execution_count": 44,
   "metadata": {},
   "outputs": [
    {
     "output_type": "execute_result",
     "data": {
      "text/plain": [
       "0"
      ]
     },
     "metadata": {},
     "execution_count": 44
    }
   ],
   "source": [
    "# 결측값 보간 잘 되었는지 확인\n",
    "test2.isna().sum().sum()"
   ]
  },
  {
   "cell_type": "code",
   "execution_count": 46,
   "metadata": {},
   "outputs": [
    {
     "output_type": "execute_result",
     "data": {
      "text/plain": [
       "                         일시   일사       일조\n",
       "0       2018-03-01 00:01:00  0.0      0.0\n",
       "1       2018-03-01 00:02:00  0.0      0.0\n",
       "2       2018-03-01 00:03:00  0.0      0.0\n",
       "3       2018-03-01 00:04:00  0.0      0.0\n",
       "4       2018-03-01 00:05:00  0.0      0.0\n",
       "...                     ...  ...      ...\n",
       "1620396 2021-03-31 23:56:00  0.0  38580.0\n",
       "1620397 2021-03-31 23:57:00  0.0  38580.0\n",
       "1620398 2021-03-31 23:58:00  0.0  38580.0\n",
       "1620399 2021-03-31 23:59:00  0.0  38580.0\n",
       "1620400 2021-04-01 00:00:00  0.0  38580.0\n",
       "\n",
       "[1623160 rows x 3 columns]"
      ],
      "text/html": "<div>\n<style scoped>\n    .dataframe tbody tr th:only-of-type {\n        vertical-align: middle;\n    }\n\n    .dataframe tbody tr th {\n        vertical-align: top;\n    }\n\n    .dataframe thead th {\n        text-align: right;\n    }\n</style>\n<table border=\"1\" class=\"dataframe\">\n  <thead>\n    <tr style=\"text-align: right;\">\n      <th></th>\n      <th>일시</th>\n      <th>일사</th>\n      <th>일조</th>\n    </tr>\n  </thead>\n  <tbody>\n    <tr>\n      <th>0</th>\n      <td>2018-03-01 00:01:00</td>\n      <td>0.0</td>\n      <td>0.0</td>\n    </tr>\n    <tr>\n      <th>1</th>\n      <td>2018-03-01 00:02:00</td>\n      <td>0.0</td>\n      <td>0.0</td>\n    </tr>\n    <tr>\n      <th>2</th>\n      <td>2018-03-01 00:03:00</td>\n      <td>0.0</td>\n      <td>0.0</td>\n    </tr>\n    <tr>\n      <th>3</th>\n      <td>2018-03-01 00:04:00</td>\n      <td>0.0</td>\n      <td>0.0</td>\n    </tr>\n    <tr>\n      <th>4</th>\n      <td>2018-03-01 00:05:00</td>\n      <td>0.0</td>\n      <td>0.0</td>\n    </tr>\n    <tr>\n      <th>...</th>\n      <td>...</td>\n      <td>...</td>\n      <td>...</td>\n    </tr>\n    <tr>\n      <th>1620396</th>\n      <td>2021-03-31 23:56:00</td>\n      <td>0.0</td>\n      <td>38580.0</td>\n    </tr>\n    <tr>\n      <th>1620397</th>\n      <td>2021-03-31 23:57:00</td>\n      <td>0.0</td>\n      <td>38580.0</td>\n    </tr>\n    <tr>\n      <th>1620398</th>\n      <td>2021-03-31 23:58:00</td>\n      <td>0.0</td>\n      <td>38580.0</td>\n    </tr>\n    <tr>\n      <th>1620399</th>\n      <td>2021-03-31 23:59:00</td>\n      <td>0.0</td>\n      <td>38580.0</td>\n    </tr>\n    <tr>\n      <th>1620400</th>\n      <td>2021-04-01 00:00:00</td>\n      <td>0.0</td>\n      <td>38580.0</td>\n    </tr>\n  </tbody>\n</table>\n<p>1623160 rows × 3 columns</p>\n</div>"
     },
     "metadata": {},
     "execution_count": 46
    }
   ],
   "source": [
    "# temp 값 넣기\n",
    "us_fcst_df_ = test2\n",
    "us_fcst_df_"
   ]
  },
  {
   "cell_type": "code",
   "execution_count": 47,
   "metadata": {},
   "outputs": [
    {
     "output_type": "stream",
     "name": "stdout",
     "text": [
      "1622880\n"
     ]
    },
    {
     "output_type": "execute_result",
     "data": {
      "text/plain": [
       "                         일시   일사       일조\n",
       "0       2018-03-01 00:01:00  0.0      0.0\n",
       "1       2018-03-01 00:02:00  0.0      0.0\n",
       "2       2018-03-01 00:03:00  0.0      0.0\n",
       "3       2018-03-01 00:04:00  0.0      0.0\n",
       "4       2018-03-01 00:05:00  0.0      0.0\n",
       "...                     ...  ...      ...\n",
       "1620396 2021-03-31 23:56:00  0.0  38580.0\n",
       "1620397 2021-03-31 23:57:00  0.0  38580.0\n",
       "1620398 2021-03-31 23:58:00  0.0  38580.0\n",
       "1620399 2021-03-31 23:59:00  0.0  38580.0\n",
       "1620400 2021-04-01 00:00:00  0.0  38580.0\n",
       "\n",
       "[1622880 rows x 3 columns]"
      ],
      "text/html": "<div>\n<style scoped>\n    .dataframe tbody tr th:only-of-type {\n        vertical-align: middle;\n    }\n\n    .dataframe tbody tr th {\n        vertical-align: top;\n    }\n\n    .dataframe thead th {\n        text-align: right;\n    }\n</style>\n<table border=\"1\" class=\"dataframe\">\n  <thead>\n    <tr style=\"text-align: right;\">\n      <th></th>\n      <th>일시</th>\n      <th>일사</th>\n      <th>일조</th>\n    </tr>\n  </thead>\n  <tbody>\n    <tr>\n      <th>0</th>\n      <td>2018-03-01 00:01:00</td>\n      <td>0.0</td>\n      <td>0.0</td>\n    </tr>\n    <tr>\n      <th>1</th>\n      <td>2018-03-01 00:02:00</td>\n      <td>0.0</td>\n      <td>0.0</td>\n    </tr>\n    <tr>\n      <th>2</th>\n      <td>2018-03-01 00:03:00</td>\n      <td>0.0</td>\n      <td>0.0</td>\n    </tr>\n    <tr>\n      <th>3</th>\n      <td>2018-03-01 00:04:00</td>\n      <td>0.0</td>\n      <td>0.0</td>\n    </tr>\n    <tr>\n      <th>4</th>\n      <td>2018-03-01 00:05:00</td>\n      <td>0.0</td>\n      <td>0.0</td>\n    </tr>\n    <tr>\n      <th>...</th>\n      <td>...</td>\n      <td>...</td>\n      <td>...</td>\n    </tr>\n    <tr>\n      <th>1620396</th>\n      <td>2021-03-31 23:56:00</td>\n      <td>0.0</td>\n      <td>38580.0</td>\n    </tr>\n    <tr>\n      <th>1620397</th>\n      <td>2021-03-31 23:57:00</td>\n      <td>0.0</td>\n      <td>38580.0</td>\n    </tr>\n    <tr>\n      <th>1620398</th>\n      <td>2021-03-31 23:58:00</td>\n      <td>0.0</td>\n      <td>38580.0</td>\n    </tr>\n    <tr>\n      <th>1620399</th>\n      <td>2021-03-31 23:59:00</td>\n      <td>0.0</td>\n      <td>38580.0</td>\n    </tr>\n    <tr>\n      <th>1620400</th>\n      <td>2021-04-01 00:00:00</td>\n      <td>0.0</td>\n      <td>38580.0</td>\n    </tr>\n  </tbody>\n</table>\n<p>1622880 rows × 3 columns</p>\n</div>"
     },
     "metadata": {},
     "execution_count": 47
    }
   ],
   "source": [
    "# 중복 있는지 확인\n",
    "us_fcst_df_ = us_fcst_df_.drop_duplicates(['일시'], keep='first')\n",
    "print(len(us_fcst_df_))\n",
    "us_fcst_df_"
   ]
  },
  {
   "cell_type": "code",
   "execution_count": 48,
   "metadata": {},
   "outputs": [
    {
     "output_type": "execute_result",
     "data": {
      "text/plain": [
       "                         일시   일사       일조\n",
       "0       2018-03-01 00:01:00  0.0      0.0\n",
       "1       2018-03-01 00:02:00  0.0      0.0\n",
       "2       2018-03-01 00:03:00  0.0      0.0\n",
       "3       2018-03-01 00:04:00  0.0      0.0\n",
       "4       2018-03-01 00:05:00  0.0      0.0\n",
       "...                     ...  ...      ...\n",
       "1622875 2021-03-31 23:56:00  0.0  38580.0\n",
       "1622876 2021-03-31 23:57:00  0.0  38580.0\n",
       "1622877 2021-03-31 23:58:00  0.0  38580.0\n",
       "1622878 2021-03-31 23:59:00  0.0  38580.0\n",
       "1622879 2021-04-01 00:00:00  0.0  38580.0\n",
       "\n",
       "[1622880 rows x 3 columns]"
      ],
      "text/html": "<div>\n<style scoped>\n    .dataframe tbody tr th:only-of-type {\n        vertical-align: middle;\n    }\n\n    .dataframe tbody tr th {\n        vertical-align: top;\n    }\n\n    .dataframe thead th {\n        text-align: right;\n    }\n</style>\n<table border=\"1\" class=\"dataframe\">\n  <thead>\n    <tr style=\"text-align: right;\">\n      <th></th>\n      <th>일시</th>\n      <th>일사</th>\n      <th>일조</th>\n    </tr>\n  </thead>\n  <tbody>\n    <tr>\n      <th>0</th>\n      <td>2018-03-01 00:01:00</td>\n      <td>0.0</td>\n      <td>0.0</td>\n    </tr>\n    <tr>\n      <th>1</th>\n      <td>2018-03-01 00:02:00</td>\n      <td>0.0</td>\n      <td>0.0</td>\n    </tr>\n    <tr>\n      <th>2</th>\n      <td>2018-03-01 00:03:00</td>\n      <td>0.0</td>\n      <td>0.0</td>\n    </tr>\n    <tr>\n      <th>3</th>\n      <td>2018-03-01 00:04:00</td>\n      <td>0.0</td>\n      <td>0.0</td>\n    </tr>\n    <tr>\n      <th>4</th>\n      <td>2018-03-01 00:05:00</td>\n      <td>0.0</td>\n      <td>0.0</td>\n    </tr>\n    <tr>\n      <th>...</th>\n      <td>...</td>\n      <td>...</td>\n      <td>...</td>\n    </tr>\n    <tr>\n      <th>1622875</th>\n      <td>2021-03-31 23:56:00</td>\n      <td>0.0</td>\n      <td>38580.0</td>\n    </tr>\n    <tr>\n      <th>1622876</th>\n      <td>2021-03-31 23:57:00</td>\n      <td>0.0</td>\n      <td>38580.0</td>\n    </tr>\n    <tr>\n      <th>1622877</th>\n      <td>2021-03-31 23:58:00</td>\n      <td>0.0</td>\n      <td>38580.0</td>\n    </tr>\n    <tr>\n      <th>1622878</th>\n      <td>2021-03-31 23:59:00</td>\n      <td>0.0</td>\n      <td>38580.0</td>\n    </tr>\n    <tr>\n      <th>1622879</th>\n      <td>2021-04-01 00:00:00</td>\n      <td>0.0</td>\n      <td>38580.0</td>\n    </tr>\n  </tbody>\n</table>\n<p>1622880 rows × 3 columns</p>\n</div>"
     },
     "metadata": {},
     "execution_count": 48
    }
   ],
   "source": [
    "#  us_fcst_df_ 데이터 새로운 인덱스 주기기\n",
    "us_fcst_df_.reset_index(drop=True, inplace=True)\n",
    "us_fcst_df_"
   ]
  },
  {
   "cell_type": "code",
   "execution_count": 49,
   "metadata": {},
   "outputs": [
    {
     "output_type": "stream",
     "name": "stderr",
     "text": [
      "<ipython-input-49-dda30e232924>:2: SettingWithCopyWarning: \nA value is trying to be set on a copy of a slice from a DataFrame.\nTry using .loc[row_indexer,col_indexer] = value instead\n\nSee the caveats in the documentation: https://pandas.pydata.org/pandas-docs/stable/user_guide/indexing.html#returning-a-view-versus-a-copy\n  us_fcst_df_['일시'] = pd.to_datetime(us_fcst_df_['일시'])\n"
     ]
    },
    {
     "output_type": "execute_result",
     "data": {
      "text/plain": [
       "3"
      ]
     },
     "metadata": {},
     "execution_count": 49
    }
   ],
   "source": [
    "# us_fcst_df_ 데이터 to DateTime\n",
    "us_fcst_df_['일시'] = pd.to_datetime(us_fcst_df_['일시'])\n",
    "us_fcst_df_['일시'][0].month"
   ]
  },
  {
   "cell_type": "code",
   "execution_count": 50,
   "metadata": {
    "tags": []
   },
   "outputs": [],
   "source": [
    "# 일시, 일조 차량 구하기\n",
    "sa = []\n",
    "jo = []\n",
    "for i in range(len(us_fcst_df_)):\n",
    "    tmp = us_fcst_df_['일시'].loc[i]\n",
    "    if(tmp.minute == 1):\n",
    "        sa_start = us_fcst_df_['일사'].loc[i]\n",
    "        jo_start = us_fcst_df_['일조'].loc[i]\n",
    "        # print(tmp)\n",
    "    if(tmp.minute == 00):\n",
    "        sa_end = us_fcst_df_['일사'].loc[i]\n",
    "        jo_end = us_fcst_df_['일조'].loc[i]\n",
    "        # print(tmp)\n",
    "        sa.append(sa_end - sa_start)\n",
    "        jo.append(jo_end - jo_start)\n",
    "        # print(jo_end - jo_start)"
   ]
  },
  {
   "cell_type": "code",
   "execution_count": 51,
   "metadata": {},
   "outputs": [
    {
     "output_type": "stream",
     "name": "stdout",
     "text": [
      "일사: 27048\n일조: 27048\n"
     ]
    }
   ],
   "source": [
    "print(\"일사:\", len(sa))\n",
    "print(\"일조:\", len(jo))"
   ]
  },
  {
   "cell_type": "code",
   "execution_count": 52,
   "metadata": {},
   "outputs": [
    {
     "output_type": "execute_result",
     "data": {
      "text/plain": [
       "        일사\n",
       "0      0.0\n",
       "1      0.0\n",
       "2      0.0\n",
       "3      0.0\n",
       "4      0.0\n",
       "...    ...\n",
       "27043  0.0\n",
       "27044  0.0\n",
       "27045  0.0\n",
       "27046  0.0\n",
       "27047  0.0\n",
       "\n",
       "[27048 rows x 1 columns]"
      ],
      "text/html": "<div>\n<style scoped>\n    .dataframe tbody tr th:only-of-type {\n        vertical-align: middle;\n    }\n\n    .dataframe tbody tr th {\n        vertical-align: top;\n    }\n\n    .dataframe thead th {\n        text-align: right;\n    }\n</style>\n<table border=\"1\" class=\"dataframe\">\n  <thead>\n    <tr style=\"text-align: right;\">\n      <th></th>\n      <th>일사</th>\n    </tr>\n  </thead>\n  <tbody>\n    <tr>\n      <th>0</th>\n      <td>0.0</td>\n    </tr>\n    <tr>\n      <th>1</th>\n      <td>0.0</td>\n    </tr>\n    <tr>\n      <th>2</th>\n      <td>0.0</td>\n    </tr>\n    <tr>\n      <th>3</th>\n      <td>0.0</td>\n    </tr>\n    <tr>\n      <th>4</th>\n      <td>0.0</td>\n    </tr>\n    <tr>\n      <th>...</th>\n      <td>...</td>\n    </tr>\n    <tr>\n      <th>27043</th>\n      <td>0.0</td>\n    </tr>\n    <tr>\n      <th>27044</th>\n      <td>0.0</td>\n    </tr>\n    <tr>\n      <th>27045</th>\n      <td>0.0</td>\n    </tr>\n    <tr>\n      <th>27046</th>\n      <td>0.0</td>\n    </tr>\n    <tr>\n      <th>27047</th>\n      <td>0.0</td>\n    </tr>\n  </tbody>\n</table>\n<p>27048 rows × 1 columns</p>\n</div>"
     },
     "metadata": {},
     "execution_count": 52
    }
   ],
   "source": [
    "# 일조/일사 데이터프레임 만들기\n",
    "sa_df = pd.DataFrame({'일사': sa})\n",
    "jo_df = pd.DataFrame({'일조': jo})\n",
    "sa_df"
   ]
  },
  {
   "cell_type": "code",
   "execution_count": 53,
   "metadata": {},
   "outputs": [
    {
     "output_type": "execute_result",
     "data": {
      "text/plain": [
       "                       일시\n",
       "0     2018-03-01 00:00:00\n",
       "1     2018-03-01 01:00:00\n",
       "2     2018-03-01 02:00:00\n",
       "3     2018-03-01 03:00:00\n",
       "4     2018-03-01 04:00:00\n",
       "...                   ...\n",
       "27043 2021-03-31 19:00:00\n",
       "27044 2021-03-31 20:00:00\n",
       "27045 2021-03-31 21:00:00\n",
       "27046 2021-03-31 22:00:00\n",
       "27047 2021-03-31 23:00:00\n",
       "\n",
       "[27048 rows x 1 columns]"
      ],
      "text/html": "<div>\n<style scoped>\n    .dataframe tbody tr th:only-of-type {\n        vertical-align: middle;\n    }\n\n    .dataframe tbody tr th {\n        vertical-align: top;\n    }\n\n    .dataframe thead th {\n        text-align: right;\n    }\n</style>\n<table border=\"1\" class=\"dataframe\">\n  <thead>\n    <tr style=\"text-align: right;\">\n      <th></th>\n      <th>일시</th>\n    </tr>\n  </thead>\n  <tbody>\n    <tr>\n      <th>0</th>\n      <td>2018-03-01 00:00:00</td>\n    </tr>\n    <tr>\n      <th>1</th>\n      <td>2018-03-01 01:00:00</td>\n    </tr>\n    <tr>\n      <th>2</th>\n      <td>2018-03-01 02:00:00</td>\n    </tr>\n    <tr>\n      <th>3</th>\n      <td>2018-03-01 03:00:00</td>\n    </tr>\n    <tr>\n      <th>4</th>\n      <td>2018-03-01 04:00:00</td>\n    </tr>\n    <tr>\n      <th>...</th>\n      <td>...</td>\n    </tr>\n    <tr>\n      <th>27043</th>\n      <td>2021-03-31 19:00:00</td>\n    </tr>\n    <tr>\n      <th>27044</th>\n      <td>2021-03-31 20:00:00</td>\n    </tr>\n    <tr>\n      <th>27045</th>\n      <td>2021-03-31 21:00:00</td>\n    </tr>\n    <tr>\n      <th>27046</th>\n      <td>2021-03-31 22:00:00</td>\n    </tr>\n    <tr>\n      <th>27047</th>\n      <td>2021-03-31 23:00:00</td>\n    </tr>\n  </tbody>\n</table>\n<p>27048 rows × 1 columns</p>\n</div>"
     },
     "metadata": {},
     "execution_count": 53
    }
   ],
   "source": [
    "# 일시 데이터 만들기, 1시간 기준\n",
    "us_fcst_ = pd.DataFrame()\n",
    "us_fcst_['일시'] = pd.date_range(start=\"2018-03-01 00:00:00\", end='2021-03-31 23:00:00', freq=\"H\")\n",
    "us_fcst_"
   ]
  },
  {
   "cell_type": "code",
   "execution_count": 54,
   "metadata": {},
   "outputs": [
    {
     "output_type": "stream",
     "name": "stdout",
     "text": [
      "27048\n27048\n"
     ]
    }
   ],
   "source": [
    "print(len(us_fcst_))\n",
    "print(len(jo))"
   ]
  },
  {
   "cell_type": "code",
   "execution_count": 55,
   "metadata": {},
   "outputs": [
    {
     "output_type": "execute_result",
     "data": {
      "text/plain": [
       "                       일시   일사   일조\n",
       "0     2018-03-01 00:00:00  0.0  0.0\n",
       "1     2018-03-01 01:00:00  0.0  0.0\n",
       "2     2018-03-01 02:00:00  0.0  0.0\n",
       "3     2018-03-01 03:00:00  0.0  0.0\n",
       "4     2018-03-01 04:00:00  0.0  0.0\n",
       "...                   ...  ...  ...\n",
       "27043 2021-03-31 19:00:00  0.0  0.0\n",
       "27044 2021-03-31 20:00:00  0.0  0.0\n",
       "27045 2021-03-31 21:00:00  0.0  0.0\n",
       "27046 2021-03-31 22:00:00  0.0  0.0\n",
       "27047 2021-03-31 23:00:00  0.0  0.0\n",
       "\n",
       "[27048 rows x 3 columns]"
      ],
      "text/html": "<div>\n<style scoped>\n    .dataframe tbody tr th:only-of-type {\n        vertical-align: middle;\n    }\n\n    .dataframe tbody tr th {\n        vertical-align: top;\n    }\n\n    .dataframe thead th {\n        text-align: right;\n    }\n</style>\n<table border=\"1\" class=\"dataframe\">\n  <thead>\n    <tr style=\"text-align: right;\">\n      <th></th>\n      <th>일시</th>\n      <th>일사</th>\n      <th>일조</th>\n    </tr>\n  </thead>\n  <tbody>\n    <tr>\n      <th>0</th>\n      <td>2018-03-01 00:00:00</td>\n      <td>0.0</td>\n      <td>0.0</td>\n    </tr>\n    <tr>\n      <th>1</th>\n      <td>2018-03-01 01:00:00</td>\n      <td>0.0</td>\n      <td>0.0</td>\n    </tr>\n    <tr>\n      <th>2</th>\n      <td>2018-03-01 02:00:00</td>\n      <td>0.0</td>\n      <td>0.0</td>\n    </tr>\n    <tr>\n      <th>3</th>\n      <td>2018-03-01 03:00:00</td>\n      <td>0.0</td>\n      <td>0.0</td>\n    </tr>\n    <tr>\n      <th>4</th>\n      <td>2018-03-01 04:00:00</td>\n      <td>0.0</td>\n      <td>0.0</td>\n    </tr>\n    <tr>\n      <th>...</th>\n      <td>...</td>\n      <td>...</td>\n      <td>...</td>\n    </tr>\n    <tr>\n      <th>27043</th>\n      <td>2021-03-31 19:00:00</td>\n      <td>0.0</td>\n      <td>0.0</td>\n    </tr>\n    <tr>\n      <th>27044</th>\n      <td>2021-03-31 20:00:00</td>\n      <td>0.0</td>\n      <td>0.0</td>\n    </tr>\n    <tr>\n      <th>27045</th>\n      <td>2021-03-31 21:00:00</td>\n      <td>0.0</td>\n      <td>0.0</td>\n    </tr>\n    <tr>\n      <th>27046</th>\n      <td>2021-03-31 22:00:00</td>\n      <td>0.0</td>\n      <td>0.0</td>\n    </tr>\n    <tr>\n      <th>27047</th>\n      <td>2021-03-31 23:00:00</td>\n      <td>0.0</td>\n      <td>0.0</td>\n    </tr>\n  </tbody>\n</table>\n<p>27048 rows × 3 columns</p>\n</div>"
     },
     "metadata": {},
     "execution_count": 55
    }
   ],
   "source": [
    "# 일조 데이터 concat\n",
    "us_fcst_ = pd.concat([us_fcst_, sa_df, jo_df], axis=1)\n",
    "us_fcst_"
   ]
  },
  {
   "cell_type": "code",
   "execution_count": 56,
   "metadata": {},
   "outputs": [
    {
     "output_type": "execute_result",
     "data": {
      "text/plain": [
       "일시    2018-04-11 16:00:00\n",
       "일사                      0\n",
       "일조                   3540\n",
       "Name: 1000, dtype: object"
      ]
     },
     "metadata": {},
     "execution_count": 56
    }
   ],
   "source": [
    "us_fcst_.loc[1000]"
   ]
  },
  {
   "cell_type": "code",
   "execution_count": 57,
   "metadata": {},
   "outputs": [
    {
     "output_type": "execute_result",
     "data": {
      "text/plain": [
       "일시    2018-04-11 16:00:00\n",
       "일사                      0\n",
       "일조               0.983333\n",
       "Name: 1000, dtype: object"
      ]
     },
     "metadata": {},
     "execution_count": 57
    }
   ],
   "source": [
    "# 일조 데이터 분 -> 시 로 변경\n",
    "us_fcst_['일조'] = us_fcst_['일조'] / (60*60)\n",
    "us_fcst_.loc[1000]"
   ]
  },
  {
   "cell_type": "code",
   "execution_count": 66,
   "metadata": {},
   "outputs": [
    {
     "output_type": "execute_result",
     "data": {
      "text/plain": [
       "                       일시   일사        일조\n",
       "3300  2018-07-16 12:00:00  0.0  0.983333\n",
       "3301  2018-07-16 13:00:00  0.0  0.983333\n",
       "3302  2018-07-16 14:00:00  0.0  0.950000\n",
       "3303  2018-07-16 15:00:00  0.0  0.966667\n",
       "3304  2018-07-16 16:00:00  0.0  0.983333\n",
       "...                   ...  ...       ...\n",
       "27043 2021-03-31 19:00:00  0.0  0.000000\n",
       "27044 2021-03-31 20:00:00  0.0  0.000000\n",
       "27045 2021-03-31 21:00:00  0.0  0.000000\n",
       "27046 2021-03-31 22:00:00  0.0  0.000000\n",
       "27047 2021-03-31 23:00:00  0.0  0.000000\n",
       "\n",
       "[23748 rows x 3 columns]"
      ],
      "text/html": "<div>\n<style scoped>\n    .dataframe tbody tr th:only-of-type {\n        vertical-align: middle;\n    }\n\n    .dataframe tbody tr th {\n        vertical-align: top;\n    }\n\n    .dataframe thead th {\n        text-align: right;\n    }\n</style>\n<table border=\"1\" class=\"dataframe\">\n  <thead>\n    <tr style=\"text-align: right;\">\n      <th></th>\n      <th>일시</th>\n      <th>일사</th>\n      <th>일조</th>\n    </tr>\n  </thead>\n  <tbody>\n    <tr>\n      <th>3300</th>\n      <td>2018-07-16 12:00:00</td>\n      <td>0.0</td>\n      <td>0.983333</td>\n    </tr>\n    <tr>\n      <th>3301</th>\n      <td>2018-07-16 13:00:00</td>\n      <td>0.0</td>\n      <td>0.983333</td>\n    </tr>\n    <tr>\n      <th>3302</th>\n      <td>2018-07-16 14:00:00</td>\n      <td>0.0</td>\n      <td>0.950000</td>\n    </tr>\n    <tr>\n      <th>3303</th>\n      <td>2018-07-16 15:00:00</td>\n      <td>0.0</td>\n      <td>0.966667</td>\n    </tr>\n    <tr>\n      <th>3304</th>\n      <td>2018-07-16 16:00:00</td>\n      <td>0.0</td>\n      <td>0.983333</td>\n    </tr>\n    <tr>\n      <th>...</th>\n      <td>...</td>\n      <td>...</td>\n      <td>...</td>\n    </tr>\n    <tr>\n      <th>27043</th>\n      <td>2021-03-31 19:00:00</td>\n      <td>0.0</td>\n      <td>0.000000</td>\n    </tr>\n    <tr>\n      <th>27044</th>\n      <td>2021-03-31 20:00:00</td>\n      <td>0.0</td>\n      <td>0.000000</td>\n    </tr>\n    <tr>\n      <th>27045</th>\n      <td>2021-03-31 21:00:00</td>\n      <td>0.0</td>\n      <td>0.000000</td>\n    </tr>\n    <tr>\n      <th>27046</th>\n      <td>2021-03-31 22:00:00</td>\n      <td>0.0</td>\n      <td>0.000000</td>\n    </tr>\n    <tr>\n      <th>27047</th>\n      <td>2021-03-31 23:00:00</td>\n      <td>0.0</td>\n      <td>0.000000</td>\n    </tr>\n  </tbody>\n</table>\n<p>23748 rows × 3 columns</p>\n</div>"
     },
     "metadata": {},
     "execution_count": 66
    }
   ],
   "source": [
    "us_fcst_.loc[3300:]"
   ]
  },
  {
   "cell_type": "code",
   "execution_count": 67,
   "metadata": {},
   "outputs": [],
   "source": [
    "us_fcst_.to_csv('us_sunlight.csv', mode='w', encoding='utf-8-sig', index=False)"
   ]
  }
 ]
}