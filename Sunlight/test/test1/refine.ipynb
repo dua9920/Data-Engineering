{
 "cells": [
  {
   "cell_type": "code",
   "execution_count": null,
   "metadata": {},
   "outputs": [],
   "source": [
    "import pandas as pd\n",
    "import calendar as cal\n",
    "import datetime\n",
    "import re\n",
    "from glob import glob\n",
    "\n",
    "import matplotlib.pyplot as plt\n",
    "import seaborn as sns\n",
    "\n",
    "%matplotlib inline\n",
    "\n",
    "from matplotlib import font_manager, rc\n",
    "\n",
    "font_path = \"C:/Windows/Fonts/malgun.ttf\"\n",
    "font_name= font_manager.FontProperties(fname=font_path).get_name()\n",
    "rc('font', family=font_name)"
   ]
  },
  {
   "cell_type": "code",
   "execution_count": null,
   "metadata": {},
   "outputs": [],
   "source": [
    "path = \"../data/\"\n",
    "files = sorted(glob(path+\"*.csv\"))\n",
    "files"
   ]
  },
  {
   "cell_type": "code",
   "execution_count": null,
   "metadata": {},
   "outputs": [],
   "source": [
    "# 3. 발전소별 발전량\n",
    "energy = pd.read_csv(files[2])\n",
    "# 6. 울산 발전소 동네 날씨 정보\n",
    "us_fcst = pd.read_csv(files[5])\n",
    "# 7. 울산 발전소 인근 기상 관측 정보\n",
    "us_obs = pd.read_csv(files[6])"
   ]
  },
  {
   "cell_type": "code",
   "execution_count": null,
   "metadata": {},
   "outputs": [],
   "source": [
    "print(\"동서발전 에너지 발전량 정보\")\n",
    "print(energy.info())\n",
    "print()\n",
    "print(\"울산광역시 날씨 관측 정보\")\n",
    "print(us_obs.info())"
   ]
  },
  {
   "cell_type": "code",
   "execution_count": null,
   "metadata": {},
   "outputs": [],
   "source": [
    "# 동서발전 발전소별 발전량 데이터 energy\n",
    "# 울산 데이터만 뽑기\n",
    "energy_us = energy.drop(['dangjin_floating', 'dangjin_warehouse', 'dangjin'], axis=1)\n",
    "energy_us = energy_us.rename(columns={energy_us.columns[0]:'시간',energy_us.columns[1]:'발전량'}, )\n",
    "# energy_us.head()\n",
    "\n",
    "# 에너지 데이터 시간 변경\n",
    "# 타임스탬프 변경\n",
    "# 24:00:00 시 변경해야함 그러려면\n",
    "for i in range(len(energy_us)):\n",
    "    energy_us['시간'][i] = re.sub(\"24:00:00\", \"00:00:00\", energy_us['시간'][i])\n",
    "    time = pd.Timestamp(energy_us['시간'][i])\n",
    "    time = datetime.datetime.strftime(time, '%Y-%m-%d %H:%M')\n",
    "    energy_us['시간'][i] = time\n",
    "\n",
    "# 데이터 확인\n",
    "print(energy_us.loc[22:26])\n",
    "\n",
    "# 발전량이 0인 데이터 삭제\n",
    "# energy_us = energy_us[energy_us['발전량'] != 0]\n",
    "# energy_us.head()\n",
    "\n",
    "# 파일로 변환하기\n",
    "energy_us.to_csv('ulsan_energy_df.csv', mode='w', encoding='utf-8-sig', index=False)\n"
   ]
  },
  {
   "cell_type": "code",
   "execution_count": null,
   "metadata": {},
   "outputs": [],
   "source": [
    "us_energy = pd.read_csv('./ulsan_energy_df.csv')\n",
    "# us_energy = us_energy[us_energy['발전량'] != 0]\n",
    "# us_energy.reset_index(inplace=True)/\n",
    "# us_energy.describe()\\\n",
    "us_energy"
   ]
  },
  {
   "cell_type": "code",
   "execution_count": null,
   "metadata": {},
   "outputs": [],
   "source": [
    "# res = us_energy.groupby(['시간']).apply(lambda x: pd.Series({'집계': len(x['시간'])}))\n",
    "# # res\n",
    "# res = us_energy.groupby(['시간'][10:])\n",
    "# res"
   ]
  },
  {
   "cell_type": "code",
   "execution_count": null,
   "metadata": {},
   "outputs": [],
   "source": [
    "# # 공항 당 항공편 수 확인하기\n",
    "# result = (\n",
    "#   flights_df\n",
    "#   # ORIGIN_AIRPORT 열을 기준으로 데이터를 그룹화한다.\n",
    "#   # 즉, BOS, SFO, LAX, JFK 의 데이터를 모으는 것이다.\n",
    "#   .groupby(['ORIGIN_AIRPORT'])\n",
    "#   # 그룹화 한 것들을 집계한다. (행의 갯수를 계산)\n",
    "#   .apply(lambda x: pd.Series({\n",
    "#       'nb_flights': len(x['ORIGIN_AIRPORT'])\n",
    "#   }))\n",
    "#   .reset_index()\n",
    "# )\n",
    "# result.head()"
   ]
  },
  {
   "cell_type": "code",
   "execution_count": null,
   "metadata": {},
   "outputs": [],
   "source": [
    "us_obs"
   ]
  },
  {
   "cell_type": "code",
   "execution_count": null,
   "metadata": {},
   "outputs": [],
   "source": [
    "us_obs_drop = us_obs.drop(['지점'], axis=1)\n",
    "us_obs = us_obs_drop.rename(columns={us_obs_drop.columns[1]:\"시간\"})\n",
    "us_obs"
   ]
  },
  {
   "cell_type": "code",
   "execution_count": null,
   "metadata": {},
   "outputs": [],
   "source": [
    "# us_obs_energy = pd.merge(us_obs, us_energy, how=\"left\", left_on='시간', right_on='시간')\n",
    "# us_obs_energy.to_csv('ulsan_obs_energy.csv', mode='w', encoding='utf-8-sig', index=False)\n",
    "us_obs_energy = pd.read_csv('./ulsan_obs_energy.csv')\n",
    "us_obs_energy = us_obs_energy[us_obs_energy['발전량'] != 0]\n",
    "us_obs_energy"
   ]
  },
  {
   "cell_type": "code",
   "execution_count": null,
   "metadata": {},
   "outputs": [],
   "source": [
    "# res = us_obs_energy.groupby(us_obs_energy['시간'].str.contains(\"18:00\")).apply(lambda x: pd.Series({'집계': len(x['시간'].str.contains(\"00:00\"))}))\n",
    "# res\n",
    "us_obs_energy.reset_index(inplace=True, drop=True)\n",
    "us_obs_energy"
   ]
  },
  {
   "cell_type": "code",
   "execution_count": null,
   "metadata": {},
   "outputs": [],
   "source": [
    "us_obs_energy['시간대코드'] = -1\n",
    "for i in range(len(us_obs_energy)):\n",
    "    if(us_obs_energy['시간'][i][11:] == ('06:00') or us_obs_energy['시간'][i][11:] == ('07:00') or us_obs_energy['시간'][i][11:] == ('08:00')):\n",
    "        us_obs_energy['시간대코드'][i] = '6 - 8시'\n",
    "    elif (us_obs_energy['시간'][i][11:] == ('09:00') or us_obs_energy['시간'][i][11:] == ('10:00') or us_obs_energy['시간'][i][11:] == ('11:00')):\n",
    "        us_obs_energy['시간대코드'][i] = '9 - 11시'\n",
    "    elif (us_obs_energy['시간'][i][11:] == ('12:00') or us_obs_energy['시간'][i][11:] == ('13:00') or us_obs_energy['시간'][i][11:] == ('14:00')):\n",
    "        us_obs_energy['시간대코드'][i] = '12 - 14시'\n",
    "    elif (us_obs_energy['시간'][i][11:] == ('15:00') or us_obs_energy['시간'][i][11:] == ('16:00') or us_obs_energy['시간'][i][11:] == ('17:00')):\n",
    "        us_obs_energy['시간대코드'][i] = '15 - 17시'\n",
    "    elif (us_obs_energy['시간'][i][11:] == ('18:00') or us_obs_energy['시간'][i][11:] == ('19:00') or us_obs_energy['시간'][i][11:] == ('20:00')):\n",
    "        us_obs_energy['시간대코드'][i] = '18 - 20시'\n",
    "    else:\n",
    "        us_obs_energy['시간대코드'] = -1\n",
    "        print(us_energy[i])   \n"
   ]
  },
  {
   "cell_type": "code",
   "execution_count": null,
   "metadata": {},
   "outputs": [],
   "source": [
    "us_obs_energy"
   ]
  },
  {
   "cell_type": "code",
   "execution_count": null,
   "metadata": {},
   "outputs": [],
   "source": [
    "# res = us_obs_energy.groupby(['시간대코드']).apply(lambda x: pd.Series({'집계': len(x['시간대코드']), '총발전량': sum(x['발전량']), '총발전량': sum(x['발전량'])}))\n",
    "res = us_obs_energy.groupby(['시간대코드']).apply(lambda x: pd.Series({'평균': x['발전량'].mean(), '총발전량': sum(x['발전량'])}))\n",
    "res = us_obs_energy.groupby(['시간대코드']).apply(lambda x: pd.Series({'집계': len(x['시간대코드']), '총발전량': sum(x['발전량']), '총발전량': sum(x['발전량'])}))\n",
    "res = us_obs_energy.groupby(['시간대코드']).apply(lambda x: pd.Series({'평균': x['발전량'].mean(), '총발전량': sum(x['발전량'])}))\n",
    "# res.set_index('시간대코드')\n",
    "# res = res.reset_index()\n",
    "# res.sort_values(by='시간대코드')\n",
    "res"
   ]
  },
  {
   "cell_type": "code",
   "execution_count": null,
   "metadata": {},
   "outputs": [],
   "source": [
    "us_obs_energy.describe()"
   ]
  },
  {
   "cell_type": "code",
   "execution_count": null,
   "metadata": {},
   "outputs": [],
   "source": [
    "plt.figure()\n",
    "res['총발전량'].plot(kind='barh', grid=True, figsize=(5, 5))\n",
    "plt.show()"
   ]
  },
  {
   "cell_type": "code",
   "execution_count": null,
   "metadata": {},
   "outputs": [],
   "source": [
    "us_obs_energy_test = us_obs_energy.drop(['지점명', '시간'], axis=1)\n",
    "us_obs_energy_test"
   ]
  },
  {
   "cell_type": "code",
   "execution_count": null,
   "metadata": {},
   "outputs": [],
   "source": [
    "sns.pairplot(us_obs_energy_test, kind=\"hist\", hue=\"시간대코드\")\n",
    "plt.show()"
   ]
  },
  {
   "cell_type": "code",
   "execution_count": null,
   "metadata": {},
   "outputs": [],
   "source": [
    "plt.rc('font', family=\"Malgun Gothic\")\n",
    "sns.countplot(x=\"기온(°C)\", hue=\"시간대코드\", data=us_obs_energy)\n",
    "plt.show()"
   ]
  },
  {
   "cell_type": "code",
   "execution_count": null,
   "metadata": {},
   "outputs": [],
   "source": [
    "sns.heatmap(us_obs_energy_test, annot=True, fmt=\"d\", linewidths=1)\n",
    "plt.show()"
   ]
  },
  {
   "cell_type": "code",
   "execution_count": null,
   "metadata": {},
   "outputs": [],
   "source": []
  }
 ],
 "metadata": {
  "kernelspec": {
   "display_name": "Python 3.8.5 64-bit ('base': conda)",
   "name": "python385jvsc74a57bd07b4b4feff2f24a0f0a34464dbe537a36fda679851528fb8735cb41fa49dffb2d"
  },
  "language_info": {
   "codemirror_mode": {
    "name": "ipython",
    "version": 3
   },
   "file_extension": ".py",
   "mimetype": "text/x-python",
   "name": "python",
   "nbconvert_exporter": "python",
   "pygments_lexer": "ipython3",
   "version": "3.8.5"
  },
  "orig_nbformat": 2
 },
 "nbformat": 4,
 "nbformat_minor": 2
}
