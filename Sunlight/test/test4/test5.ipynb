{
 "metadata": {
  "language_info": {
   "codemirror_mode": {
    "name": "ipython",
    "version": 3
   },
   "file_extension": ".py",
   "mimetype": "text/x-python",
   "name": "python",
   "nbconvert_exporter": "python",
   "pygments_lexer": "ipython3",
   "version": "3.8.5"
  },
  "orig_nbformat": 2,
  "kernelspec": {
   "name": "python385jvsc74a57bd07b4b4feff2f24a0f0a34464dbe537a36fda679851528fb8735cb41fa49dffb2d",
   "display_name": "Python 3.8.5 64-bit ('base': conda)"
  }
 },
 "nbformat": 4,
 "nbformat_minor": 2,
 "cells": [
  {
   "cell_type": "code",
   "execution_count": 30,
   "metadata": {},
   "outputs": [],
   "source": [
    "import pandas as pd\n",
    "import numpy as np\n",
    "from glob import glob"
   ]
  },
  {
   "cell_type": "code",
   "execution_count": 42,
   "metadata": {},
   "outputs": [
    {
     "output_type": "stream",
     "name": "stdout",
     "text": [
      "./data\\us_2018_03.csv\n./data\\us_2018_04.csv\n./data\\us_2018_05.csv\n./data\\us_2018_06.csv\n./data\\us_2018_07.csv\n./data\\us_2018_08.csv\n./data\\us_2018_09.csv\n./data\\us_2018_10.csv\n./data\\us_2018_11.csv\n./data\\us_2018_12.csv\n./data\\us_2019 (1).csv\n./data\\us_2019 (10).csv\n./data\\us_2019 (11).csv\n./data\\us_2019 (12).csv\n./data\\us_2019 (2).csv\n./data\\us_2019 (3).csv\n./data\\us_2019 (4).csv\n./data\\us_2019 (5).csv\n./data\\us_2019 (6).csv\n./data\\us_2019 (7).csv\n./data\\us_2019 (8).csv\n./data\\us_2019 (9).csv\n./data\\us_2020 (1).csv\n./data\\us_2020 (10).csv\n./data\\us_2020 (11).csv\n./data\\us_2020 (12).csv\n./data\\us_2020 (2).csv\n./data\\us_2020 (3).csv\n./data\\us_2020 (4).csv\n./data\\us_2020 (5).csv\n./data\\us_2020 (6).csv\n./data\\us_2020 (7).csv\n./data\\us_2020 (8).csv\n./data\\us_2020 (9).csv\n./data\\us_2021 (1).csv\n./data\\us_2021 (2).csv\n./data\\us_2021 (3).csv\n"
     ]
    }
   ],
   "source": [
    "path = \"./data/\"\n",
    "files = sorted(glob(path+\"*.csv\"))"
   ]
  },
  {
   "cell_type": "code",
   "execution_count": 38,
   "metadata": {},
   "outputs": [
    {
     "output_type": "execute_result",
     "data": {
      "text/plain": [
       "                   일시   일조\n",
       "0 2018-03-02 00:00:00  9.0\n",
       "1 2018-03-02 01:00:00  0.0\n",
       "2 2018-03-02 02:00:00  0.0\n",
       "3 2018-03-02 03:00:00  0.0\n",
       "4 2018-03-02 04:00:00  0.0"
      ],
      "text/html": "<div>\n<style scoped>\n    .dataframe tbody tr th:only-of-type {\n        vertical-align: middle;\n    }\n\n    .dataframe tbody tr th {\n        vertical-align: top;\n    }\n\n    .dataframe thead th {\n        text-align: right;\n    }\n</style>\n<table border=\"1\" class=\"dataframe\">\n  <thead>\n    <tr style=\"text-align: right;\">\n      <th></th>\n      <th>일시</th>\n      <th>일조</th>\n    </tr>\n  </thead>\n  <tbody>\n    <tr>\n      <th>0</th>\n      <td>2018-03-02 00:00:00</td>\n      <td>9.0</td>\n    </tr>\n    <tr>\n      <th>1</th>\n      <td>2018-03-02 01:00:00</td>\n      <td>0.0</td>\n    </tr>\n    <tr>\n      <th>2</th>\n      <td>2018-03-02 02:00:00</td>\n      <td>0.0</td>\n    </tr>\n    <tr>\n      <th>3</th>\n      <td>2018-03-02 03:00:00</td>\n      <td>0.0</td>\n    </tr>\n    <tr>\n      <th>4</th>\n      <td>2018-03-02 04:00:00</td>\n      <td>0.0</td>\n    </tr>\n  </tbody>\n</table>\n</div>"
     },
     "metadata": {},
     "execution_count": 38
    }
   ],
   "source": [
    "us_201803 = pd.read_csv(\"data/us_2018_03.csv\", encoding='euc-kr')\n",
    "us_201803 = us_201803[['일시', '일조(Sec)']]\n",
    "us_201803['일시'] = pd.to_datetime(us_201803['일시'])\n",
    "us_201803 = us_201803.rename(columns={us_201803.columns[1]:'일조'})\n",
    "us_201803['일조'] = us_201803['일조']/(60*60)\n",
    "us_fcst = pd.merge(us_201803, us_fcst_, on=\"일시\", how=\"inner\")\n",
    "us_fcst.head()"
   ]
  },
  {
   "cell_type": "code",
   "execution_count": 56,
   "metadata": {},
   "outputs": [
    {
     "output_type": "execute_result",
     "data": {
      "text/plain": [
       "                   일시\n",
       "0 2018-03-02 00:00:00\n",
       "1 2018-03-02 01:00:00\n",
       "2 2018-03-02 02:00:00\n",
       "3 2018-03-02 03:00:00\n",
       "4 2018-03-02 04:00:00"
      ],
      "text/html": "<div>\n<style scoped>\n    .dataframe tbody tr th:only-of-type {\n        vertical-align: middle;\n    }\n\n    .dataframe tbody tr th {\n        vertical-align: top;\n    }\n\n    .dataframe thead th {\n        text-align: right;\n    }\n</style>\n<table border=\"1\" class=\"dataframe\">\n  <thead>\n    <tr style=\"text-align: right;\">\n      <th></th>\n      <th>일시</th>\n    </tr>\n  </thead>\n  <tbody>\n    <tr>\n      <th>0</th>\n      <td>2018-03-02 00:00:00</td>\n    </tr>\n    <tr>\n      <th>1</th>\n      <td>2018-03-02 01:00:00</td>\n    </tr>\n    <tr>\n      <th>2</th>\n      <td>2018-03-02 02:00:00</td>\n    </tr>\n    <tr>\n      <th>3</th>\n      <td>2018-03-02 03:00:00</td>\n    </tr>\n    <tr>\n      <th>4</th>\n      <td>2018-03-02 04:00:00</td>\n    </tr>\n  </tbody>\n</table>\n</div>"
     },
     "metadata": {},
     "execution_count": 56
    }
   ],
   "source": [
    "us_fcst_ = pd.DataFrame()\n",
    "us_fcst_['일시'] = pd.date_range(start=\"2018-03-02 00:00:00\", end='2021-03-01 23:00:00', freq='H')\n",
    "us_fcst_.head()"
   ]
  },
  {
   "cell_type": "code",
   "execution_count": 54,
   "metadata": {},
   "outputs": [
    {
     "output_type": "execute_result",
     "data": {
      "text/plain": [
       "                       일시         일조\n",
       "0     2018-03-01 00:01:00   0.000000\n",
       "1     2018-03-01 00:02:00   0.000000\n",
       "2     2018-03-01 00:03:00   0.000000\n",
       "3     2018-03-01 00:04:00   0.000000\n",
       "4     2018-03-01 00:05:00   0.000000\n",
       "...                   ...        ...\n",
       "44635 2021-03-31 23:56:00  10.716667\n",
       "44636 2021-03-31 23:57:00  10.716667\n",
       "44637 2021-03-31 23:58:00  10.716667\n",
       "44638 2021-03-31 23:59:00  10.716667\n",
       "44639 2021-04-01 00:00:00  10.716667\n",
       "\n",
       "[1620401 rows x 2 columns]"
      ],
      "text/html": "<div>\n<style scoped>\n    .dataframe tbody tr th:only-of-type {\n        vertical-align: middle;\n    }\n\n    .dataframe tbody tr th {\n        vertical-align: top;\n    }\n\n    .dataframe thead th {\n        text-align: right;\n    }\n</style>\n<table border=\"1\" class=\"dataframe\">\n  <thead>\n    <tr style=\"text-align: right;\">\n      <th></th>\n      <th>일시</th>\n      <th>일조</th>\n    </tr>\n  </thead>\n  <tbody>\n    <tr>\n      <th>0</th>\n      <td>2018-03-01 00:01:00</td>\n      <td>0.000000</td>\n    </tr>\n    <tr>\n      <th>1</th>\n      <td>2018-03-01 00:02:00</td>\n      <td>0.000000</td>\n    </tr>\n    <tr>\n      <th>2</th>\n      <td>2018-03-01 00:03:00</td>\n      <td>0.000000</td>\n    </tr>\n    <tr>\n      <th>3</th>\n      <td>2018-03-01 00:04:00</td>\n      <td>0.000000</td>\n    </tr>\n    <tr>\n      <th>4</th>\n      <td>2018-03-01 00:05:00</td>\n      <td>0.000000</td>\n    </tr>\n    <tr>\n      <th>...</th>\n      <td>...</td>\n      <td>...</td>\n    </tr>\n    <tr>\n      <th>44635</th>\n      <td>2021-03-31 23:56:00</td>\n      <td>10.716667</td>\n    </tr>\n    <tr>\n      <th>44636</th>\n      <td>2021-03-31 23:57:00</td>\n      <td>10.716667</td>\n    </tr>\n    <tr>\n      <th>44637</th>\n      <td>2021-03-31 23:58:00</td>\n      <td>10.716667</td>\n    </tr>\n    <tr>\n      <th>44638</th>\n      <td>2021-03-31 23:59:00</td>\n      <td>10.716667</td>\n    </tr>\n    <tr>\n      <th>44639</th>\n      <td>2021-04-01 00:00:00</td>\n      <td>10.716667</td>\n    </tr>\n  </tbody>\n</table>\n<p>1620401 rows × 2 columns</p>\n</div>"
     },
     "metadata": {},
     "execution_count": 54
    }
   ],
   "source": [
    "us_fcst_df = pd.DataFrame()\n",
    "for i in files:\n",
    "    us_fcst_month = pd.read_csv(i, encoding='euc-kr')\n",
    "    us_fcst_month = us_fcst_month[['일시', '일조(Sec)']]\n",
    "    us_fcst_month['일시'] = pd.to_datetime(us_fcst_month['일시'])\n",
    "    us_fcst_month = us_fcst_month.rename(columns={us_fcst_month.columns[1]:'일조'})\n",
    "    us_fcst_month['일조'] = us_fcst_month['일조']/(60*60)\n",
    "    us_fcst_df = pd.concat([us_fcst_df, us_fcst_month])\n",
    "us_fcst_df"
   ]
  },
  {
   "cell_type": "code",
   "execution_count": 57,
   "metadata": {},
   "outputs": [
    {
     "output_type": "execute_result",
     "data": {
      "text/plain": [
       "                       일시   일조\n",
       "0     2018-03-02 00:00:00  9.0\n",
       "1     2018-03-02 01:00:00  0.0\n",
       "2     2018-03-02 02:00:00  0.0\n",
       "3     2018-03-02 03:00:00  0.0\n",
       "4     2018-03-02 04:00:00  0.0\n",
       "...                   ...  ...\n",
       "26258 2021-03-01 19:00:00  0.0\n",
       "26259 2021-03-01 20:00:00  0.0\n",
       "26260 2021-03-01 21:00:00  0.0\n",
       "26261 2021-03-01 22:00:00  0.0\n",
       "26262 2021-03-01 23:00:00  0.0\n",
       "\n",
       "[26263 rows x 2 columns]"
      ],
      "text/html": "<div>\n<style scoped>\n    .dataframe tbody tr th:only-of-type {\n        vertical-align: middle;\n    }\n\n    .dataframe tbody tr th {\n        vertical-align: top;\n    }\n\n    .dataframe thead th {\n        text-align: right;\n    }\n</style>\n<table border=\"1\" class=\"dataframe\">\n  <thead>\n    <tr style=\"text-align: right;\">\n      <th></th>\n      <th>일시</th>\n      <th>일조</th>\n    </tr>\n  </thead>\n  <tbody>\n    <tr>\n      <th>0</th>\n      <td>2018-03-02 00:00:00</td>\n      <td>9.0</td>\n    </tr>\n    <tr>\n      <th>1</th>\n      <td>2018-03-02 01:00:00</td>\n      <td>0.0</td>\n    </tr>\n    <tr>\n      <th>2</th>\n      <td>2018-03-02 02:00:00</td>\n      <td>0.0</td>\n    </tr>\n    <tr>\n      <th>3</th>\n      <td>2018-03-02 03:00:00</td>\n      <td>0.0</td>\n    </tr>\n    <tr>\n      <th>4</th>\n      <td>2018-03-02 04:00:00</td>\n      <td>0.0</td>\n    </tr>\n    <tr>\n      <th>...</th>\n      <td>...</td>\n      <td>...</td>\n    </tr>\n    <tr>\n      <th>26258</th>\n      <td>2021-03-01 19:00:00</td>\n      <td>0.0</td>\n    </tr>\n    <tr>\n      <th>26259</th>\n      <td>2021-03-01 20:00:00</td>\n      <td>0.0</td>\n    </tr>\n    <tr>\n      <th>26260</th>\n      <td>2021-03-01 21:00:00</td>\n      <td>0.0</td>\n    </tr>\n    <tr>\n      <th>26261</th>\n      <td>2021-03-01 22:00:00</td>\n      <td>0.0</td>\n    </tr>\n    <tr>\n      <th>26262</th>\n      <td>2021-03-01 23:00:00</td>\n      <td>0.0</td>\n    </tr>\n  </tbody>\n</table>\n<p>26263 rows × 2 columns</p>\n</div>"
     },
     "metadata": {},
     "execution_count": 57
    }
   ],
   "source": [
    "us_fcst = pd.merge(us_fcst_df, us_fcst_, on=\"일시\", how=\"inner\")\n",
    "us_fcst\n"
   ]
  },
  {
   "cell_type": "code",
   "execution_count": 58,
   "metadata": {},
   "outputs": [],
   "source": [
    "us_fcst.to_csv('us_sunlight.csv', mode='w', encoding='utf-8-sig', index=False)"
   ]
  }
 ]
}