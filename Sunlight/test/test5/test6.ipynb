{
 "metadata": {
  "language_info": {
   "codemirror_mode": {
    "name": "ipython",
    "version": 3
   },
   "file_extension": ".py",
   "mimetype": "text/x-python",
   "name": "python",
   "nbconvert_exporter": "python",
   "pygments_lexer": "ipython3",
   "version": "3.8.5"
  },
  "orig_nbformat": 2,
  "kernelspec": {
   "name": "python385jvsc74a57bd07b4b4feff2f24a0f0a34464dbe537a36fda679851528fb8735cb41fa49dffb2d",
   "display_name": "Python 3.8.5 64-bit ('base': conda)"
  }
 },
 "nbformat": 4,
 "nbformat_minor": 2,
 "cells": [
  {
   "cell_type": "code",
   "execution_count": 1,
   "metadata": {},
   "outputs": [],
   "source": [
    "import pandas as pd\n",
    "import numpy as np\n",
    "from glob import glob"
   ]
  },
  {
   "cell_type": "code",
   "execution_count": 2,
   "metadata": {},
   "outputs": [
    {
     "output_type": "execute_result",
     "data": {
      "text/plain": [
       "['./data\\\\dj_2018 (1).csv',\n",
       " './data\\\\dj_2018 (2).csv',\n",
       " './data\\\\dj_2018 (3).csv',\n",
       " './data\\\\dj_2018 (4).csv',\n",
       " './data\\\\dj_2018 (5).csv',\n",
       " './data\\\\dj_2018 (6).csv',\n",
       " './data\\\\dj_2018 (7).csv',\n",
       " './data\\\\dj_2018 (8).csv',\n",
       " './data\\\\dj_2018 (9).csv',\n",
       " './data\\\\dj_2018_ (10).csv',\n",
       " './data\\\\dj_2019 (1).csv',\n",
       " './data\\\\dj_2019 (2).csv',\n",
       " './data\\\\dj_2019 (3).csv',\n",
       " './data\\\\dj_2019 (4).csv',\n",
       " './data\\\\dj_2019 (5).csv',\n",
       " './data\\\\dj_2019 (6).csv',\n",
       " './data\\\\dj_2019 (7).csv',\n",
       " './data\\\\dj_2019 (8).csv',\n",
       " './data\\\\dj_2019 (9).csv',\n",
       " './data\\\\dj_2019_ (10).csv',\n",
       " './data\\\\dj_2019_ (11).csv',\n",
       " './data\\\\dj_2019_ (12).csv',\n",
       " './data\\\\dj_2020 (1).csv',\n",
       " './data\\\\dj_2020 (2).csv',\n",
       " './data\\\\dj_2020 (3).csv',\n",
       " './data\\\\dj_2020 (4).csv',\n",
       " './data\\\\dj_2020 (5).csv',\n",
       " './data\\\\dj_2020 (6).csv',\n",
       " './data\\\\dj_2020 (7).csv',\n",
       " './data\\\\dj_2020 (8).csv',\n",
       " './data\\\\dj_2020 (9).csv',\n",
       " './data\\\\dj_2020_ (10).csv',\n",
       " './data\\\\dj_2020_ (11).csv',\n",
       " './data\\\\dj_2020_ (12).csv',\n",
       " './data\\\\dj_2021 (1).csv',\n",
       " './data\\\\dj_2021 (2).csv',\n",
       " './data\\\\dj_2021 (3).csv']"
      ]
     },
     "metadata": {},
     "execution_count": 2
    }
   ],
   "source": [
    "path = \"./data/\"\n",
    "files = sorted(glob(path+\"*.csv\"))\n",
    "files"
   ]
  },
  {
   "cell_type": "code",
   "execution_count": 3,
   "metadata": {},
   "outputs": [
    {
     "output_type": "execute_result",
     "data": {
      "text/plain": [
       "                   일시\n",
       "0 2018-03-02 00:00:00\n",
       "1 2018-03-02 01:00:00\n",
       "2 2018-03-02 02:00:00\n",
       "3 2018-03-02 03:00:00\n",
       "4 2018-03-02 04:00:00"
      ],
      "text/html": "<div>\n<style scoped>\n    .dataframe tbody tr th:only-of-type {\n        vertical-align: middle;\n    }\n\n    .dataframe tbody tr th {\n        vertical-align: top;\n    }\n\n    .dataframe thead th {\n        text-align: right;\n    }\n</style>\n<table border=\"1\" class=\"dataframe\">\n  <thead>\n    <tr style=\"text-align: right;\">\n      <th></th>\n      <th>일시</th>\n    </tr>\n  </thead>\n  <tbody>\n    <tr>\n      <th>0</th>\n      <td>2018-03-02 00:00:00</td>\n    </tr>\n    <tr>\n      <th>1</th>\n      <td>2018-03-02 01:00:00</td>\n    </tr>\n    <tr>\n      <th>2</th>\n      <td>2018-03-02 02:00:00</td>\n    </tr>\n    <tr>\n      <th>3</th>\n      <td>2018-03-02 03:00:00</td>\n    </tr>\n    <tr>\n      <th>4</th>\n      <td>2018-03-02 04:00:00</td>\n    </tr>\n  </tbody>\n</table>\n</div>"
     },
     "metadata": {},
     "execution_count": 3
    }
   ],
   "source": [
    "dj_fcst_ = pd.DataFrame()\n",
    "dj_fcst_['일시'] = pd.date_range(start=\"2018-03-02 00:00:00\", end='2021-03-01 23:00:00', freq='H')\n",
    "dj_fcst_.head()"
   ]
  },
  {
   "cell_type": "code",
   "execution_count": 4,
   "metadata": {},
   "outputs": [
    {
     "output_type": "execute_result",
     "data": {
      "text/plain": [
       "                       일시     일사         일조\n",
       "0     2018-03-01 00:01:00   0.00   0.000000\n",
       "1     2018-03-01 00:02:00   0.00   0.000000\n",
       "2     2018-03-01 00:03:00   0.00   0.000000\n",
       "3     2018-03-01 00:04:00   0.00   0.000000\n",
       "4     2018-03-01 00:05:00   0.00   0.000000\n",
       "...                   ...    ...        ...\n",
       "44616 2021-03-31 23:56:00  23.04  10.883333\n",
       "44617 2021-03-31 23:57:00  23.04  10.883333\n",
       "44618 2021-03-31 23:58:00  23.04  10.883333\n",
       "44619 2021-03-31 23:59:00  23.04  10.883333\n",
       "44620 2021-04-01 00:00:00  23.04  10.883333\n",
       "\n",
       "[1617481 rows x 3 columns]"
      ],
      "text/html": "<div>\n<style scoped>\n    .dataframe tbody tr th:only-of-type {\n        vertical-align: middle;\n    }\n\n    .dataframe tbody tr th {\n        vertical-align: top;\n    }\n\n    .dataframe thead th {\n        text-align: right;\n    }\n</style>\n<table border=\"1\" class=\"dataframe\">\n  <thead>\n    <tr style=\"text-align: right;\">\n      <th></th>\n      <th>일시</th>\n      <th>일사</th>\n      <th>일조</th>\n    </tr>\n  </thead>\n  <tbody>\n    <tr>\n      <th>0</th>\n      <td>2018-03-01 00:01:00</td>\n      <td>0.00</td>\n      <td>0.000000</td>\n    </tr>\n    <tr>\n      <th>1</th>\n      <td>2018-03-01 00:02:00</td>\n      <td>0.00</td>\n      <td>0.000000</td>\n    </tr>\n    <tr>\n      <th>2</th>\n      <td>2018-03-01 00:03:00</td>\n      <td>0.00</td>\n      <td>0.000000</td>\n    </tr>\n    <tr>\n      <th>3</th>\n      <td>2018-03-01 00:04:00</td>\n      <td>0.00</td>\n      <td>0.000000</td>\n    </tr>\n    <tr>\n      <th>4</th>\n      <td>2018-03-01 00:05:00</td>\n      <td>0.00</td>\n      <td>0.000000</td>\n    </tr>\n    <tr>\n      <th>...</th>\n      <td>...</td>\n      <td>...</td>\n      <td>...</td>\n    </tr>\n    <tr>\n      <th>44616</th>\n      <td>2021-03-31 23:56:00</td>\n      <td>23.04</td>\n      <td>10.883333</td>\n    </tr>\n    <tr>\n      <th>44617</th>\n      <td>2021-03-31 23:57:00</td>\n      <td>23.04</td>\n      <td>10.883333</td>\n    </tr>\n    <tr>\n      <th>44618</th>\n      <td>2021-03-31 23:58:00</td>\n      <td>23.04</td>\n      <td>10.883333</td>\n    </tr>\n    <tr>\n      <th>44619</th>\n      <td>2021-03-31 23:59:00</td>\n      <td>23.04</td>\n      <td>10.883333</td>\n    </tr>\n    <tr>\n      <th>44620</th>\n      <td>2021-04-01 00:00:00</td>\n      <td>23.04</td>\n      <td>10.883333</td>\n    </tr>\n  </tbody>\n</table>\n<p>1617481 rows × 3 columns</p>\n</div>"
     },
     "metadata": {},
     "execution_count": 4
    }
   ],
   "source": [
    "dj_fcst_df = pd.DataFrame()\n",
    "for i in files:\n",
    "    dj_fcst_month = pd.read_csv(i, encoding='euc-kr')\n",
    "    dj_fcst_month = dj_fcst_month[['일시', '일사(MJ/m^2)', '일조(Sec)']]\n",
    "    dj_fcst_month['일시'] = pd.to_datetime(dj_fcst_month['일시'])\n",
    "    dj_fcst_month = dj_fcst_month.rename(columns={dj_fcst_month.columns[1]:'일사', dj_fcst_month.columns[2]:'일조'})\n",
    "    dj_fcst_month['일조'] = dj_fcst_month['일조']/(60*60)\n",
    "    dj_fcst_df = pd.concat([dj_fcst_df, dj_fcst_month])\n",
    "dj_fcst_df"
   ]
  },
  {
   "cell_type": "code",
   "execution_count": 5,
   "metadata": {},
   "outputs": [
    {
     "output_type": "execute_result",
     "data": {
      "text/plain": [
       "                       일시     일사   일조\n",
       "0     2018-03-02 00:00:00  17.11  9.4\n",
       "1     2018-03-02 01:00:00   0.00  0.0\n",
       "2     2018-03-02 02:00:00   0.00  0.0\n",
       "3     2018-03-02 03:00:00   0.00  0.0\n",
       "4     2018-03-02 04:00:00   0.00  0.0\n",
       "...                   ...    ...  ...\n",
       "26200 2021-03-01 19:00:00   1.41  0.0\n",
       "26201 2021-03-01 20:00:00   1.41  0.0\n",
       "26202 2021-03-01 21:00:00   1.41  0.0\n",
       "26203 2021-03-01 22:00:00   1.41  0.0\n",
       "26204 2021-03-01 23:00:00   1.41  0.0\n",
       "\n",
       "[26205 rows x 3 columns]"
      ],
      "text/html": "<div>\n<style scoped>\n    .dataframe tbody tr th:only-of-type {\n        vertical-align: middle;\n    }\n\n    .dataframe tbody tr th {\n        vertical-align: top;\n    }\n\n    .dataframe thead th {\n        text-align: right;\n    }\n</style>\n<table border=\"1\" class=\"dataframe\">\n  <thead>\n    <tr style=\"text-align: right;\">\n      <th></th>\n      <th>일시</th>\n      <th>일사</th>\n      <th>일조</th>\n    </tr>\n  </thead>\n  <tbody>\n    <tr>\n      <th>0</th>\n      <td>2018-03-02 00:00:00</td>\n      <td>17.11</td>\n      <td>9.4</td>\n    </tr>\n    <tr>\n      <th>1</th>\n      <td>2018-03-02 01:00:00</td>\n      <td>0.00</td>\n      <td>0.0</td>\n    </tr>\n    <tr>\n      <th>2</th>\n      <td>2018-03-02 02:00:00</td>\n      <td>0.00</td>\n      <td>0.0</td>\n    </tr>\n    <tr>\n      <th>3</th>\n      <td>2018-03-02 03:00:00</td>\n      <td>0.00</td>\n      <td>0.0</td>\n    </tr>\n    <tr>\n      <th>4</th>\n      <td>2018-03-02 04:00:00</td>\n      <td>0.00</td>\n      <td>0.0</td>\n    </tr>\n    <tr>\n      <th>...</th>\n      <td>...</td>\n      <td>...</td>\n      <td>...</td>\n    </tr>\n    <tr>\n      <th>26200</th>\n      <td>2021-03-01 19:00:00</td>\n      <td>1.41</td>\n      <td>0.0</td>\n    </tr>\n    <tr>\n      <th>26201</th>\n      <td>2021-03-01 20:00:00</td>\n      <td>1.41</td>\n      <td>0.0</td>\n    </tr>\n    <tr>\n      <th>26202</th>\n      <td>2021-03-01 21:00:00</td>\n      <td>1.41</td>\n      <td>0.0</td>\n    </tr>\n    <tr>\n      <th>26203</th>\n      <td>2021-03-01 22:00:00</td>\n      <td>1.41</td>\n      <td>0.0</td>\n    </tr>\n    <tr>\n      <th>26204</th>\n      <td>2021-03-01 23:00:00</td>\n      <td>1.41</td>\n      <td>0.0</td>\n    </tr>\n  </tbody>\n</table>\n<p>26205 rows × 3 columns</p>\n</div>"
     },
     "metadata": {},
     "execution_count": 5
    }
   ],
   "source": [
    "dj_fcst = pd.merge(dj_fcst_df, dj_fcst_, on=\"일시\", how=\"inner\")\n",
    "dj_fcst\n"
   ]
  },
  {
   "cell_type": "code",
   "execution_count": 6,
   "metadata": {},
   "outputs": [],
   "source": [
    "dj_fcst.to_csv('dj_sunlight.csv', mode='w', encoding='utf-8-sig', index=False)"
   ]
  },
  {
   "cell_type": "code",
   "execution_count": null,
   "metadata": {},
   "outputs": [],
   "source": []
  }
 ]
}