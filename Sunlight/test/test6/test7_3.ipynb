{
 "metadata": {
  "language_info": {
   "codemirror_mode": {
    "name": "ipython",
    "version": 3
   },
   "file_extension": ".py",
   "mimetype": "text/x-python",
   "name": "python",
   "nbconvert_exporter": "python",
   "pygments_lexer": "ipython3",
   "version": "3.8.5"
  },
  "orig_nbformat": 2,
  "kernelspec": {
   "name": "python3",
   "display_name": "Python 3.8.5 64-bit ('base': conda)"
  },
  "metadata": {
   "interpreter": {
    "hash": "8a86e1213f422856c706c8d60d3bedc39c2736e916fe56d504190f85925a1987"
   }
  },
  "interpreter": {
   "hash": "7b4b4feff2f24a0f0a34464dbe537a36fda679851528fb8735cb41fa49dffb2d"
  }
 },
 "nbformat": 4,
 "nbformat_minor": 2,
 "cells": [
  {
   "cell_type": "code",
   "execution_count": 1,
   "metadata": {},
   "outputs": [],
   "source": [
    "import pandas as pd\n",
    "import numpy as np\n",
    "from glob import glob"
   ]
  },
  {
   "cell_type": "code",
   "execution_count": 2,
   "metadata": {},
   "outputs": [
    {
     "output_type": "execute_result",
     "data": {
      "text/plain": [
       "['./data\\\\dj_2018 (1).csv',\n",
       " './data\\\\dj_2018 (2).csv',\n",
       " './data\\\\dj_2018 (3).csv',\n",
       " './data\\\\dj_2018 (4).csv',\n",
       " './data\\\\dj_2018 (5).csv',\n",
       " './data\\\\dj_2018 (6).csv',\n",
       " './data\\\\dj_2018 (7).csv',\n",
       " './data\\\\dj_2018 (8).csv',\n",
       " './data\\\\dj_2018 (9).csv',\n",
       " './data\\\\dj_2018_ (10).csv',\n",
       " './data\\\\dj_2019 (1).csv',\n",
       " './data\\\\dj_2019 (2).csv',\n",
       " './data\\\\dj_2019 (3).csv',\n",
       " './data\\\\dj_2019 (4).csv',\n",
       " './data\\\\dj_2019 (5).csv',\n",
       " './data\\\\dj_2019 (6).csv',\n",
       " './data\\\\dj_2019 (7).csv',\n",
       " './data\\\\dj_2019 (8).csv',\n",
       " './data\\\\dj_2019 (9).csv',\n",
       " './data\\\\dj_2019_ (10).csv',\n",
       " './data\\\\dj_2019_ (11).csv',\n",
       " './data\\\\dj_2019_ (12).csv',\n",
       " './data\\\\dj_2020 (1).csv',\n",
       " './data\\\\dj_2020 (2).csv',\n",
       " './data\\\\dj_2020 (3).csv',\n",
       " './data\\\\dj_2020 (4).csv',\n",
       " './data\\\\dj_2020 (5).csv',\n",
       " './data\\\\dj_2020 (6).csv',\n",
       " './data\\\\dj_2020 (7).csv',\n",
       " './data\\\\dj_2020 (8).csv',\n",
       " './data\\\\dj_2020 (9).csv',\n",
       " './data\\\\dj_2020_ (10).csv',\n",
       " './data\\\\dj_2020_ (11).csv',\n",
       " './data\\\\dj_2020_ (12).csv',\n",
       " './data\\\\dj_2021 (1).csv',\n",
       " './data\\\\dj_2021 (2).csv',\n",
       " './data\\\\dj_2021 (3).csv']"
      ]
     },
     "metadata": {},
     "execution_count": 2
    }
   ],
   "source": [
    "# 파일 읽어오기\n",
    "path = \"./data/\"\n",
    "files = sorted(glob(path+\"*.csv\"))\n",
    "files"
   ]
  },
  {
   "cell_type": "code",
   "execution_count": 3,
   "metadata": {},
   "outputs": [
    {
     "output_type": "execute_result",
     "data": {
      "text/plain": [
       "                       일시     일사       일조\n",
       "0     2018-03-01 00:01:00   0.00      0.0\n",
       "1     2018-03-01 00:02:00   0.00      0.0\n",
       "2     2018-03-01 00:03:00   0.00      0.0\n",
       "3     2018-03-01 00:04:00   0.00      0.0\n",
       "4     2018-03-01 00:05:00   0.00      0.0\n",
       "...                   ...    ...      ...\n",
       "44616 2021-03-31 23:56:00  23.04  39180.0\n",
       "44617 2021-03-31 23:57:00  23.04  39180.0\n",
       "44618 2021-03-31 23:58:00  23.04  39180.0\n",
       "44619 2021-03-31 23:59:00  23.04  39180.0\n",
       "44620 2021-04-01 00:00:00  23.04  39180.0\n",
       "\n",
       "[1617481 rows x 3 columns]"
      ],
      "text/html": "<div>\n<style scoped>\n    .dataframe tbody tr th:only-of-type {\n        vertical-align: middle;\n    }\n\n    .dataframe tbody tr th {\n        vertical-align: top;\n    }\n\n    .dataframe thead th {\n        text-align: right;\n    }\n</style>\n<table border=\"1\" class=\"dataframe\">\n  <thead>\n    <tr style=\"text-align: right;\">\n      <th></th>\n      <th>일시</th>\n      <th>일사</th>\n      <th>일조</th>\n    </tr>\n  </thead>\n  <tbody>\n    <tr>\n      <th>0</th>\n      <td>2018-03-01 00:01:00</td>\n      <td>0.00</td>\n      <td>0.0</td>\n    </tr>\n    <tr>\n      <th>1</th>\n      <td>2018-03-01 00:02:00</td>\n      <td>0.00</td>\n      <td>0.0</td>\n    </tr>\n    <tr>\n      <th>2</th>\n      <td>2018-03-01 00:03:00</td>\n      <td>0.00</td>\n      <td>0.0</td>\n    </tr>\n    <tr>\n      <th>3</th>\n      <td>2018-03-01 00:04:00</td>\n      <td>0.00</td>\n      <td>0.0</td>\n    </tr>\n    <tr>\n      <th>4</th>\n      <td>2018-03-01 00:05:00</td>\n      <td>0.00</td>\n      <td>0.0</td>\n    </tr>\n    <tr>\n      <th>...</th>\n      <td>...</td>\n      <td>...</td>\n      <td>...</td>\n    </tr>\n    <tr>\n      <th>44616</th>\n      <td>2021-03-31 23:56:00</td>\n      <td>23.04</td>\n      <td>39180.0</td>\n    </tr>\n    <tr>\n      <th>44617</th>\n      <td>2021-03-31 23:57:00</td>\n      <td>23.04</td>\n      <td>39180.0</td>\n    </tr>\n    <tr>\n      <th>44618</th>\n      <td>2021-03-31 23:58:00</td>\n      <td>23.04</td>\n      <td>39180.0</td>\n    </tr>\n    <tr>\n      <th>44619</th>\n      <td>2021-03-31 23:59:00</td>\n      <td>23.04</td>\n      <td>39180.0</td>\n    </tr>\n    <tr>\n      <th>44620</th>\n      <td>2021-04-01 00:00:00</td>\n      <td>23.04</td>\n      <td>39180.0</td>\n    </tr>\n  </tbody>\n</table>\n<p>1617481 rows × 3 columns</p>\n</div>"
     },
     "metadata": {},
     "execution_count": 3
    }
   ],
   "source": [
    "# 2018-03 ~ 2021-03 까지 데이터 뽑기 (분 데이터)\n",
    "dj_fcst_df = pd.DataFrame()\n",
    "for i in files:\n",
    "    dj_fcst_month = pd.read_csv(i, encoding='euc-kr')\n",
    "    dj_fcst_month = dj_fcst_month[['일시', '일사(MJ/m^2)', '일조(Sec)']]\n",
    "    dj_fcst_month['일시'] = pd.to_datetime(dj_fcst_month['일시'])\n",
    "    dj_fcst_month = dj_fcst_month.rename(columns={dj_fcst_month.columns[1]:'일사', dj_fcst_month.columns[2]:'일조'})\n",
    "    dj_fcst_month['일조'] = dj_fcst_month['일조']\n",
    "    dj_fcst_df = pd.concat([dj_fcst_df, dj_fcst_month])\n",
    "dj_fcst_df"
   ]
  },
  {
   "cell_type": "code",
   "execution_count": 4,
   "metadata": {},
   "outputs": [
    {
     "output_type": "execute_result",
     "data": {
      "text/plain": [
       "                         일시     일사       일조\n",
       "0       2018-03-01 00:01:00   0.00      0.0\n",
       "1       2018-03-01 00:02:00   0.00      0.0\n",
       "2       2018-03-01 00:03:00   0.00      0.0\n",
       "3       2018-03-01 00:04:00   0.00      0.0\n",
       "4       2018-03-01 00:05:00   0.00      0.0\n",
       "...                     ...    ...      ...\n",
       "1617476 2021-03-31 23:56:00  23.04  39180.0\n",
       "1617477 2021-03-31 23:57:00  23.04  39180.0\n",
       "1617478 2021-03-31 23:58:00  23.04  39180.0\n",
       "1617479 2021-03-31 23:59:00  23.04  39180.0\n",
       "1617480 2021-04-01 00:00:00  23.04  39180.0\n",
       "\n",
       "[1617481 rows x 3 columns]"
      ],
      "text/html": "<div>\n<style scoped>\n    .dataframe tbody tr th:only-of-type {\n        vertical-align: middle;\n    }\n\n    .dataframe tbody tr th {\n        vertical-align: top;\n    }\n\n    .dataframe thead th {\n        text-align: right;\n    }\n</style>\n<table border=\"1\" class=\"dataframe\">\n  <thead>\n    <tr style=\"text-align: right;\">\n      <th></th>\n      <th>일시</th>\n      <th>일사</th>\n      <th>일조</th>\n    </tr>\n  </thead>\n  <tbody>\n    <tr>\n      <th>0</th>\n      <td>2018-03-01 00:01:00</td>\n      <td>0.00</td>\n      <td>0.0</td>\n    </tr>\n    <tr>\n      <th>1</th>\n      <td>2018-03-01 00:02:00</td>\n      <td>0.00</td>\n      <td>0.0</td>\n    </tr>\n    <tr>\n      <th>2</th>\n      <td>2018-03-01 00:03:00</td>\n      <td>0.00</td>\n      <td>0.0</td>\n    </tr>\n    <tr>\n      <th>3</th>\n      <td>2018-03-01 00:04:00</td>\n      <td>0.00</td>\n      <td>0.0</td>\n    </tr>\n    <tr>\n      <th>4</th>\n      <td>2018-03-01 00:05:00</td>\n      <td>0.00</td>\n      <td>0.0</td>\n    </tr>\n    <tr>\n      <th>...</th>\n      <td>...</td>\n      <td>...</td>\n      <td>...</td>\n    </tr>\n    <tr>\n      <th>1617476</th>\n      <td>2021-03-31 23:56:00</td>\n      <td>23.04</td>\n      <td>39180.0</td>\n    </tr>\n    <tr>\n      <th>1617477</th>\n      <td>2021-03-31 23:57:00</td>\n      <td>23.04</td>\n      <td>39180.0</td>\n    </tr>\n    <tr>\n      <th>1617478</th>\n      <td>2021-03-31 23:58:00</td>\n      <td>23.04</td>\n      <td>39180.0</td>\n    </tr>\n    <tr>\n      <th>1617479</th>\n      <td>2021-03-31 23:59:00</td>\n      <td>23.04</td>\n      <td>39180.0</td>\n    </tr>\n    <tr>\n      <th>1617480</th>\n      <td>2021-04-01 00:00:00</td>\n      <td>23.04</td>\n      <td>39180.0</td>\n    </tr>\n  </tbody>\n</table>\n<p>1617481 rows × 3 columns</p>\n</div>"
     },
     "metadata": {},
     "execution_count": 4
    }
   ],
   "source": [
    "#  dj_fcst_df 데이터 새로운 인덱스 주기기\n",
    "dj_fcst_df.reset_index(drop=True, inplace=True)\n",
    "dj_fcst_df"
   ]
  },
  {
   "cell_type": "code",
   "execution_count": 5,
   "metadata": {},
   "outputs": [
    {
     "output_type": "execute_result",
     "data": {
      "text/plain": [
       "                         일시\n",
       "0       2018-03-01 00:01:00\n",
       "1       2018-03-01 00:02:00\n",
       "2       2018-03-01 00:03:00\n",
       "3       2018-03-01 00:04:00\n",
       "4       2018-03-01 00:05:00\n",
       "...                     ...\n",
       "1622874 2021-03-31 23:55:00\n",
       "1622875 2021-03-31 23:56:00\n",
       "1622876 2021-03-31 23:57:00\n",
       "1622877 2021-03-31 23:58:00\n",
       "1622878 2021-03-31 23:59:00\n",
       "\n",
       "[1622879 rows x 1 columns]"
      ],
      "text/html": "<div>\n<style scoped>\n    .dataframe tbody tr th:only-of-type {\n        vertical-align: middle;\n    }\n\n    .dataframe tbody tr th {\n        vertical-align: top;\n    }\n\n    .dataframe thead th {\n        text-align: right;\n    }\n</style>\n<table border=\"1\" class=\"dataframe\">\n  <thead>\n    <tr style=\"text-align: right;\">\n      <th></th>\n      <th>일시</th>\n    </tr>\n  </thead>\n  <tbody>\n    <tr>\n      <th>0</th>\n      <td>2018-03-01 00:01:00</td>\n    </tr>\n    <tr>\n      <th>1</th>\n      <td>2018-03-01 00:02:00</td>\n    </tr>\n    <tr>\n      <th>2</th>\n      <td>2018-03-01 00:03:00</td>\n    </tr>\n    <tr>\n      <th>3</th>\n      <td>2018-03-01 00:04:00</td>\n    </tr>\n    <tr>\n      <th>4</th>\n      <td>2018-03-01 00:05:00</td>\n    </tr>\n    <tr>\n      <th>...</th>\n      <td>...</td>\n    </tr>\n    <tr>\n      <th>1622874</th>\n      <td>2021-03-31 23:55:00</td>\n    </tr>\n    <tr>\n      <th>1622875</th>\n      <td>2021-03-31 23:56:00</td>\n    </tr>\n    <tr>\n      <th>1622876</th>\n      <td>2021-03-31 23:57:00</td>\n    </tr>\n    <tr>\n      <th>1622877</th>\n      <td>2021-03-31 23:58:00</td>\n    </tr>\n    <tr>\n      <th>1622878</th>\n      <td>2021-03-31 23:59:00</td>\n    </tr>\n  </tbody>\n</table>\n<p>1622879 rows × 1 columns</p>\n</div>"
     },
     "metadata": {},
     "execution_count": 5
    }
   ],
   "source": [
    "# 일시 데이터 만들기\n",
    "dj_fcst_ = pd.DataFrame()\n",
    "dj_fcst_['일시'] = pd.date_range(start=\"2018-03-01 00:01:00\", end='2021-03-31 23:59:00', freq=\"1min\")\n",
    "# dj_fcst_['test'] = 0\n",
    "dj_fcst_"
   ]
  },
  {
   "cell_type": "code",
   "execution_count": 6,
   "metadata": {},
   "outputs": [
    {
     "output_type": "execute_result",
     "data": {
      "text/plain": [
       "                         일시   일사   일조\n",
       "0       2018-03-01 00:01:00  0.0  0.0\n",
       "1       2018-03-01 00:02:00  0.0  0.0\n",
       "2       2018-03-01 00:03:00  0.0  0.0\n",
       "3       2018-03-01 00:04:00  0.0  0.0\n",
       "4       2018-03-01 00:05:00  0.0  0.0\n",
       "...                     ...  ...  ...\n",
       "1623154 2021-03-15 11:08:00  NaN  NaN\n",
       "1623155 2021-03-16 14:22:00  NaN  NaN\n",
       "1623156 2021-03-16 14:53:00  NaN  NaN\n",
       "1623157 2021-03-19 15:45:00  NaN  NaN\n",
       "1623158 2021-03-24 16:21:00  NaN  NaN\n",
       "\n",
       "[1623159 rows x 3 columns]"
      ],
      "text/html": "<div>\n<style scoped>\n    .dataframe tbody tr th:only-of-type {\n        vertical-align: middle;\n    }\n\n    .dataframe tbody tr th {\n        vertical-align: top;\n    }\n\n    .dataframe thead th {\n        text-align: right;\n    }\n</style>\n<table border=\"1\" class=\"dataframe\">\n  <thead>\n    <tr style=\"text-align: right;\">\n      <th></th>\n      <th>일시</th>\n      <th>일사</th>\n      <th>일조</th>\n    </tr>\n  </thead>\n  <tbody>\n    <tr>\n      <th>0</th>\n      <td>2018-03-01 00:01:00</td>\n      <td>0.0</td>\n      <td>0.0</td>\n    </tr>\n    <tr>\n      <th>1</th>\n      <td>2018-03-01 00:02:00</td>\n      <td>0.0</td>\n      <td>0.0</td>\n    </tr>\n    <tr>\n      <th>2</th>\n      <td>2018-03-01 00:03:00</td>\n      <td>0.0</td>\n      <td>0.0</td>\n    </tr>\n    <tr>\n      <th>3</th>\n      <td>2018-03-01 00:04:00</td>\n      <td>0.0</td>\n      <td>0.0</td>\n    </tr>\n    <tr>\n      <th>4</th>\n      <td>2018-03-01 00:05:00</td>\n      <td>0.0</td>\n      <td>0.0</td>\n    </tr>\n    <tr>\n      <th>...</th>\n      <td>...</td>\n      <td>...</td>\n      <td>...</td>\n    </tr>\n    <tr>\n      <th>1623154</th>\n      <td>2021-03-15 11:08:00</td>\n      <td>NaN</td>\n      <td>NaN</td>\n    </tr>\n    <tr>\n      <th>1623155</th>\n      <td>2021-03-16 14:22:00</td>\n      <td>NaN</td>\n      <td>NaN</td>\n    </tr>\n    <tr>\n      <th>1623156</th>\n      <td>2021-03-16 14:53:00</td>\n      <td>NaN</td>\n      <td>NaN</td>\n    </tr>\n    <tr>\n      <th>1623157</th>\n      <td>2021-03-19 15:45:00</td>\n      <td>NaN</td>\n      <td>NaN</td>\n    </tr>\n    <tr>\n      <th>1623158</th>\n      <td>2021-03-24 16:21:00</td>\n      <td>NaN</td>\n      <td>NaN</td>\n    </tr>\n  </tbody>\n</table>\n<p>1623159 rows × 3 columns</p>\n</div>"
     },
     "metadata": {},
     "execution_count": 6
    }
   ],
   "source": [
    "# 일시데이터 결측값 확인하기\n",
    "test = pd.merge(dj_fcst_df, dj_fcst_, how='outer', on=\"일시\")\n",
    "test"
   ]
  },
  {
   "cell_type": "code",
   "execution_count": 7,
   "metadata": {},
   "outputs": [
    {
     "output_type": "stream",
     "name": "stdout",
     "text": [
      "1623159 1622879\n280\n"
     ]
    }
   ],
   "source": [
    "# 결측값 갯수 확인 : 총 280개\n",
    "print(len(test), len(dj_fcst_))\n",
    "print(len(test)-len(dj_fcst_))"
   ]
  },
  {
   "cell_type": "code",
   "execution_count": 11,
   "metadata": {},
   "outputs": [
    {
     "output_type": "execute_result",
     "data": {
      "text/plain": [
       "                         일시     일사       일조\n",
       "1444    2018-03-02 00:05:00   0.00      0.0\n",
       "1445    2018-03-02 00:06:00   0.00      0.0\n",
       "1446    2018-03-02 00:07:00   0.00      0.0\n",
       "1447    2018-03-02 00:08:00   0.00      0.0\n",
       "1448    2018-03-02 00:09:00   0.00      0.0\n",
       "...                     ...    ...      ...\n",
       "1617476 2021-03-31 23:56:00  23.04  39180.0\n",
       "1617477 2021-03-31 23:57:00  23.04  39180.0\n",
       "1617478 2021-03-31 23:58:00  23.04  39180.0\n",
       "1617479 2021-03-31 23:59:00  23.04  39180.0\n",
       "1617480 2021-04-01 00:00:00  23.04  39180.0\n",
       "\n",
       "[1621715 rows x 3 columns]"
      ],
      "text/html": "<div>\n<style scoped>\n    .dataframe tbody tr th:only-of-type {\n        vertical-align: middle;\n    }\n\n    .dataframe tbody tr th {\n        vertical-align: top;\n    }\n\n    .dataframe thead th {\n        text-align: right;\n    }\n</style>\n<table border=\"1\" class=\"dataframe\">\n  <thead>\n    <tr style=\"text-align: right;\">\n      <th></th>\n      <th>일시</th>\n      <th>일사</th>\n      <th>일조</th>\n    </tr>\n  </thead>\n  <tbody>\n    <tr>\n      <th>1444</th>\n      <td>2018-03-02 00:05:00</td>\n      <td>0.00</td>\n      <td>0.0</td>\n    </tr>\n    <tr>\n      <th>1445</th>\n      <td>2018-03-02 00:06:00</td>\n      <td>0.00</td>\n      <td>0.0</td>\n    </tr>\n    <tr>\n      <th>1446</th>\n      <td>2018-03-02 00:07:00</td>\n      <td>0.00</td>\n      <td>0.0</td>\n    </tr>\n    <tr>\n      <th>1447</th>\n      <td>2018-03-02 00:08:00</td>\n      <td>0.00</td>\n      <td>0.0</td>\n    </tr>\n    <tr>\n      <th>1448</th>\n      <td>2018-03-02 00:09:00</td>\n      <td>0.00</td>\n      <td>0.0</td>\n    </tr>\n    <tr>\n      <th>...</th>\n      <td>...</td>\n      <td>...</td>\n      <td>...</td>\n    </tr>\n    <tr>\n      <th>1617476</th>\n      <td>2021-03-31 23:56:00</td>\n      <td>23.04</td>\n      <td>39180.0</td>\n    </tr>\n    <tr>\n      <th>1617477</th>\n      <td>2021-03-31 23:57:00</td>\n      <td>23.04</td>\n      <td>39180.0</td>\n    </tr>\n    <tr>\n      <th>1617478</th>\n      <td>2021-03-31 23:58:00</td>\n      <td>23.04</td>\n      <td>39180.0</td>\n    </tr>\n    <tr>\n      <th>1617479</th>\n      <td>2021-03-31 23:59:00</td>\n      <td>23.04</td>\n      <td>39180.0</td>\n    </tr>\n    <tr>\n      <th>1617480</th>\n      <td>2021-04-01 00:00:00</td>\n      <td>23.04</td>\n      <td>39180.0</td>\n    </tr>\n  </tbody>\n</table>\n<p>1621715 rows × 3 columns</p>\n</div>"
     },
     "metadata": {},
     "execution_count": 11
    }
   ],
   "source": [
    "# 결측값 보간하기\n",
    "test2 = test.sort_values(by=\"일시\")\n",
    "test2['일사'] = test2['일사'].interpolate()\n",
    "test2['일조'] = test2['일조'].interpolate()\n",
    "test2.loc[1444:]"
   ]
  },
  {
   "cell_type": "code",
   "execution_count": 9,
   "metadata": {},
   "outputs": [
    {
     "output_type": "execute_result",
     "data": {
      "text/plain": [
       "0"
      ]
     },
     "metadata": {},
     "execution_count": 9
    }
   ],
   "source": [
    "# 결측값 보간 잘 되었는지 확인\n",
    "test2.isna().sum().sum()"
   ]
  },
  {
   "cell_type": "code",
   "execution_count": 118,
   "metadata": {},
   "outputs": [
    {
     "output_type": "execute_result",
     "data": {
      "text/plain": [
       "                         일시     일사       일조\n",
       "0       2018-03-01 00:01:00   0.00      0.0\n",
       "1       2018-03-01 00:02:00   0.00      0.0\n",
       "2       2018-03-01 00:03:00   0.00      0.0\n",
       "3       2018-03-01 00:04:00   0.00      0.0\n",
       "4       2018-03-01 00:05:00   0.00      0.0\n",
       "...                     ...    ...      ...\n",
       "1617476 2021-03-31 23:56:00  23.04  39180.0\n",
       "1617477 2021-03-31 23:57:00  23.04  39180.0\n",
       "1617478 2021-03-31 23:58:00  23.04  39180.0\n",
       "1617479 2021-03-31 23:59:00  23.04  39180.0\n",
       "1617480 2021-04-01 00:00:00  23.04  39180.0\n",
       "\n",
       "[1623159 rows x 3 columns]"
      ],
      "text/html": "<div>\n<style scoped>\n    .dataframe tbody tr th:only-of-type {\n        vertical-align: middle;\n    }\n\n    .dataframe tbody tr th {\n        vertical-align: top;\n    }\n\n    .dataframe thead th {\n        text-align: right;\n    }\n</style>\n<table border=\"1\" class=\"dataframe\">\n  <thead>\n    <tr style=\"text-align: right;\">\n      <th></th>\n      <th>일시</th>\n      <th>일사</th>\n      <th>일조</th>\n    </tr>\n  </thead>\n  <tbody>\n    <tr>\n      <th>0</th>\n      <td>2018-03-01 00:01:00</td>\n      <td>0.00</td>\n      <td>0.0</td>\n    </tr>\n    <tr>\n      <th>1</th>\n      <td>2018-03-01 00:02:00</td>\n      <td>0.00</td>\n      <td>0.0</td>\n    </tr>\n    <tr>\n      <th>2</th>\n      <td>2018-03-01 00:03:00</td>\n      <td>0.00</td>\n      <td>0.0</td>\n    </tr>\n    <tr>\n      <th>3</th>\n      <td>2018-03-01 00:04:00</td>\n      <td>0.00</td>\n      <td>0.0</td>\n    </tr>\n    <tr>\n      <th>4</th>\n      <td>2018-03-01 00:05:00</td>\n      <td>0.00</td>\n      <td>0.0</td>\n    </tr>\n    <tr>\n      <th>...</th>\n      <td>...</td>\n      <td>...</td>\n      <td>...</td>\n    </tr>\n    <tr>\n      <th>1617476</th>\n      <td>2021-03-31 23:56:00</td>\n      <td>23.04</td>\n      <td>39180.0</td>\n    </tr>\n    <tr>\n      <th>1617477</th>\n      <td>2021-03-31 23:57:00</td>\n      <td>23.04</td>\n      <td>39180.0</td>\n    </tr>\n    <tr>\n      <th>1617478</th>\n      <td>2021-03-31 23:58:00</td>\n      <td>23.04</td>\n      <td>39180.0</td>\n    </tr>\n    <tr>\n      <th>1617479</th>\n      <td>2021-03-31 23:59:00</td>\n      <td>23.04</td>\n      <td>39180.0</td>\n    </tr>\n    <tr>\n      <th>1617480</th>\n      <td>2021-04-01 00:00:00</td>\n      <td>23.04</td>\n      <td>39180.0</td>\n    </tr>\n  </tbody>\n</table>\n<p>1623159 rows × 3 columns</p>\n</div>"
     },
     "metadata": {},
     "execution_count": 118
    }
   ],
   "source": [
    "dj_fcst_df_ = test2\n",
    "dj_fcst_df_"
   ]
  },
  {
   "cell_type": "code",
   "execution_count": 119,
   "metadata": {},
   "outputs": [
    {
     "output_type": "stream",
     "name": "stdout",
     "text": [
      "1622880\n"
     ]
    },
    {
     "output_type": "execute_result",
     "data": {
      "text/plain": [
       "                         일시     일사       일조\n",
       "0       2018-03-01 00:01:00   0.00      0.0\n",
       "1       2018-03-01 00:02:00   0.00      0.0\n",
       "2       2018-03-01 00:03:00   0.00      0.0\n",
       "3       2018-03-01 00:04:00   0.00      0.0\n",
       "4       2018-03-01 00:05:00   0.00      0.0\n",
       "...                     ...    ...      ...\n",
       "1617476 2021-03-31 23:56:00  23.04  39180.0\n",
       "1617477 2021-03-31 23:57:00  23.04  39180.0\n",
       "1617478 2021-03-31 23:58:00  23.04  39180.0\n",
       "1617479 2021-03-31 23:59:00  23.04  39180.0\n",
       "1617480 2021-04-01 00:00:00  23.04  39180.0\n",
       "\n",
       "[1622880 rows x 3 columns]"
      ],
      "text/html": "<div>\n<style scoped>\n    .dataframe tbody tr th:only-of-type {\n        vertical-align: middle;\n    }\n\n    .dataframe tbody tr th {\n        vertical-align: top;\n    }\n\n    .dataframe thead th {\n        text-align: right;\n    }\n</style>\n<table border=\"1\" class=\"dataframe\">\n  <thead>\n    <tr style=\"text-align: right;\">\n      <th></th>\n      <th>일시</th>\n      <th>일사</th>\n      <th>일조</th>\n    </tr>\n  </thead>\n  <tbody>\n    <tr>\n      <th>0</th>\n      <td>2018-03-01 00:01:00</td>\n      <td>0.00</td>\n      <td>0.0</td>\n    </tr>\n    <tr>\n      <th>1</th>\n      <td>2018-03-01 00:02:00</td>\n      <td>0.00</td>\n      <td>0.0</td>\n    </tr>\n    <tr>\n      <th>2</th>\n      <td>2018-03-01 00:03:00</td>\n      <td>0.00</td>\n      <td>0.0</td>\n    </tr>\n    <tr>\n      <th>3</th>\n      <td>2018-03-01 00:04:00</td>\n      <td>0.00</td>\n      <td>0.0</td>\n    </tr>\n    <tr>\n      <th>4</th>\n      <td>2018-03-01 00:05:00</td>\n      <td>0.00</td>\n      <td>0.0</td>\n    </tr>\n    <tr>\n      <th>...</th>\n      <td>...</td>\n      <td>...</td>\n      <td>...</td>\n    </tr>\n    <tr>\n      <th>1617476</th>\n      <td>2021-03-31 23:56:00</td>\n      <td>23.04</td>\n      <td>39180.0</td>\n    </tr>\n    <tr>\n      <th>1617477</th>\n      <td>2021-03-31 23:57:00</td>\n      <td>23.04</td>\n      <td>39180.0</td>\n    </tr>\n    <tr>\n      <th>1617478</th>\n      <td>2021-03-31 23:58:00</td>\n      <td>23.04</td>\n      <td>39180.0</td>\n    </tr>\n    <tr>\n      <th>1617479</th>\n      <td>2021-03-31 23:59:00</td>\n      <td>23.04</td>\n      <td>39180.0</td>\n    </tr>\n    <tr>\n      <th>1617480</th>\n      <td>2021-04-01 00:00:00</td>\n      <td>23.04</td>\n      <td>39180.0</td>\n    </tr>\n  </tbody>\n</table>\n<p>1622880 rows × 3 columns</p>\n</div>"
     },
     "metadata": {},
     "execution_count": 119
    }
   ],
   "source": [
    "# 중복 있는지 확인\n",
    "dj_fcst_df_ = dj_fcst_df_.drop_duplicates(['일시'], keep='first')\n",
    "print(len(dj_fcst_df_))\n",
    "dj_fcst_df_"
   ]
  },
  {
   "cell_type": "code",
   "execution_count": 120,
   "metadata": {},
   "outputs": [
    {
     "output_type": "execute_result",
     "data": {
      "text/plain": [
       "                         일시     일사       일조\n",
       "0       2018-03-01 00:01:00   0.00      0.0\n",
       "1       2018-03-01 00:02:00   0.00      0.0\n",
       "2       2018-03-01 00:03:00   0.00      0.0\n",
       "3       2018-03-01 00:04:00   0.00      0.0\n",
       "4       2018-03-01 00:05:00   0.00      0.0\n",
       "...                     ...    ...      ...\n",
       "1622875 2021-03-31 23:56:00  23.04  39180.0\n",
       "1622876 2021-03-31 23:57:00  23.04  39180.0\n",
       "1622877 2021-03-31 23:58:00  23.04  39180.0\n",
       "1622878 2021-03-31 23:59:00  23.04  39180.0\n",
       "1622879 2021-04-01 00:00:00  23.04  39180.0\n",
       "\n",
       "[1622880 rows x 3 columns]"
      ],
      "text/html": "<div>\n<style scoped>\n    .dataframe tbody tr th:only-of-type {\n        vertical-align: middle;\n    }\n\n    .dataframe tbody tr th {\n        vertical-align: top;\n    }\n\n    .dataframe thead th {\n        text-align: right;\n    }\n</style>\n<table border=\"1\" class=\"dataframe\">\n  <thead>\n    <tr style=\"text-align: right;\">\n      <th></th>\n      <th>일시</th>\n      <th>일사</th>\n      <th>일조</th>\n    </tr>\n  </thead>\n  <tbody>\n    <tr>\n      <th>0</th>\n      <td>2018-03-01 00:01:00</td>\n      <td>0.00</td>\n      <td>0.0</td>\n    </tr>\n    <tr>\n      <th>1</th>\n      <td>2018-03-01 00:02:00</td>\n      <td>0.00</td>\n      <td>0.0</td>\n    </tr>\n    <tr>\n      <th>2</th>\n      <td>2018-03-01 00:03:00</td>\n      <td>0.00</td>\n      <td>0.0</td>\n    </tr>\n    <tr>\n      <th>3</th>\n      <td>2018-03-01 00:04:00</td>\n      <td>0.00</td>\n      <td>0.0</td>\n    </tr>\n    <tr>\n      <th>4</th>\n      <td>2018-03-01 00:05:00</td>\n      <td>0.00</td>\n      <td>0.0</td>\n    </tr>\n    <tr>\n      <th>...</th>\n      <td>...</td>\n      <td>...</td>\n      <td>...</td>\n    </tr>\n    <tr>\n      <th>1622875</th>\n      <td>2021-03-31 23:56:00</td>\n      <td>23.04</td>\n      <td>39180.0</td>\n    </tr>\n    <tr>\n      <th>1622876</th>\n      <td>2021-03-31 23:57:00</td>\n      <td>23.04</td>\n      <td>39180.0</td>\n    </tr>\n    <tr>\n      <th>1622877</th>\n      <td>2021-03-31 23:58:00</td>\n      <td>23.04</td>\n      <td>39180.0</td>\n    </tr>\n    <tr>\n      <th>1622878</th>\n      <td>2021-03-31 23:59:00</td>\n      <td>23.04</td>\n      <td>39180.0</td>\n    </tr>\n    <tr>\n      <th>1622879</th>\n      <td>2021-04-01 00:00:00</td>\n      <td>23.04</td>\n      <td>39180.0</td>\n    </tr>\n  </tbody>\n</table>\n<p>1622880 rows × 3 columns</p>\n</div>"
     },
     "metadata": {},
     "execution_count": 120
    }
   ],
   "source": [
    "#  dj_fcst_df_ 데이터 새로운 인덱스 주기기\n",
    "dj_fcst_df_.reset_index(drop=True, inplace=True)\n",
    "dj_fcst_df_"
   ]
  },
  {
   "cell_type": "code",
   "execution_count": 121,
   "metadata": {},
   "outputs": [
    {
     "output_type": "stream",
     "name": "stderr",
     "text": [
      "<ipython-input-121-2dde355607e3>:2: SettingWithCopyWarning: \nA value is trying to be set on a copy of a slice from a DataFrame.\nTry using .loc[row_indexer,col_indexer] = value instead\n\nSee the caveats in the documentation: https://pandas.pydata.org/pandas-docs/stable/user_guide/indexing.html#returning-a-view-versus-a-copy\n  dj_fcst_df_['일시'] = pd.to_datetime(dj_fcst_df_['일시'])\n"
     ]
    },
    {
     "output_type": "execute_result",
     "data": {
      "text/plain": [
       "3"
      ]
     },
     "metadata": {},
     "execution_count": 121
    }
   ],
   "source": [
    "# dj_fcst_df_ 데이터 to DateTime\n",
    "dj_fcst_df_['일시'] = pd.to_datetime(dj_fcst_df_['일시'])\n",
    "dj_fcst_df_['일시'][0].month"
   ]
  },
  {
   "cell_type": "code",
   "execution_count": 122,
   "metadata": {
    "tags": []
   },
   "outputs": [],
   "source": [
    "sa = []\n",
    "jo = []\n",
    "for i in range(len(dj_fcst_df_)):\n",
    "    tmp = dj_fcst_df_['일시'].loc[i]\n",
    "    if(tmp.minute == 1):\n",
    "        sa_start = dj_fcst_df_['일사'].loc[i]\n",
    "        jo_start = dj_fcst_df_['일조'].loc[i]\n",
    "        # print(tmp)\n",
    "    if(tmp.minute == 00):\n",
    "        sa_end = dj_fcst_df_['일사'].loc[i]\n",
    "        jo_end = dj_fcst_df_['일조'].loc[i]\n",
    "        # print(tmp)\n",
    "        sa.append(sa_end - sa_start)\n",
    "        jo.append(jo_end - jo_start)\n",
    "        # print(jo_end - jo_start)"
   ]
  },
  {
   "cell_type": "code",
   "execution_count": 123,
   "metadata": {},
   "outputs": [
    {
     "output_type": "stream",
     "name": "stdout",
     "text": [
      "일사: 27048\n일조: 27048\n"
     ]
    }
   ],
   "source": [
    "print(\"일사:\", len(sa))\n",
    "print(\"일조:\", len(jo))"
   ]
  },
  {
   "cell_type": "code",
   "execution_count": 124,
   "metadata": {},
   "outputs": [
    {
     "output_type": "execute_result",
     "data": {
      "text/plain": [
       "        일사\n",
       "0      0.0\n",
       "1      0.0\n",
       "2      0.0\n",
       "3      0.0\n",
       "4      0.0\n",
       "...    ...\n",
       "27043  0.0\n",
       "27044  0.0\n",
       "27045  0.0\n",
       "27046  0.0\n",
       "27047  0.0\n",
       "\n",
       "[27048 rows x 1 columns]"
      ],
      "text/html": "<div>\n<style scoped>\n    .dataframe tbody tr th:only-of-type {\n        vertical-align: middle;\n    }\n\n    .dataframe tbody tr th {\n        vertical-align: top;\n    }\n\n    .dataframe thead th {\n        text-align: right;\n    }\n</style>\n<table border=\"1\" class=\"dataframe\">\n  <thead>\n    <tr style=\"text-align: right;\">\n      <th></th>\n      <th>일사</th>\n    </tr>\n  </thead>\n  <tbody>\n    <tr>\n      <th>0</th>\n      <td>0.0</td>\n    </tr>\n    <tr>\n      <th>1</th>\n      <td>0.0</td>\n    </tr>\n    <tr>\n      <th>2</th>\n      <td>0.0</td>\n    </tr>\n    <tr>\n      <th>3</th>\n      <td>0.0</td>\n    </tr>\n    <tr>\n      <th>4</th>\n      <td>0.0</td>\n    </tr>\n    <tr>\n      <th>...</th>\n      <td>...</td>\n    </tr>\n    <tr>\n      <th>27043</th>\n      <td>0.0</td>\n    </tr>\n    <tr>\n      <th>27044</th>\n      <td>0.0</td>\n    </tr>\n    <tr>\n      <th>27045</th>\n      <td>0.0</td>\n    </tr>\n    <tr>\n      <th>27046</th>\n      <td>0.0</td>\n    </tr>\n    <tr>\n      <th>27047</th>\n      <td>0.0</td>\n    </tr>\n  </tbody>\n</table>\n<p>27048 rows × 1 columns</p>\n</div>"
     },
     "metadata": {},
     "execution_count": 124
    }
   ],
   "source": [
    "# 일조/일사 데이터프레임 만들기\n",
    "sa_df = pd.DataFrame({'일사': sa})\n",
    "jo_df = pd.DataFrame({'일조': jo})\n",
    "sa_df"
   ]
  },
  {
   "cell_type": "code",
   "execution_count": 125,
   "metadata": {},
   "outputs": [
    {
     "output_type": "execute_result",
     "data": {
      "text/plain": [
       "                       일시\n",
       "0     2018-03-01 00:00:00\n",
       "1     2018-03-01 01:00:00\n",
       "2     2018-03-01 02:00:00\n",
       "3     2018-03-01 03:00:00\n",
       "4     2018-03-01 04:00:00\n",
       "...                   ...\n",
       "27043 2021-03-31 19:00:00\n",
       "27044 2021-03-31 20:00:00\n",
       "27045 2021-03-31 21:00:00\n",
       "27046 2021-03-31 22:00:00\n",
       "27047 2021-03-31 23:00:00\n",
       "\n",
       "[27048 rows x 1 columns]"
      ],
      "text/html": "<div>\n<style scoped>\n    .dataframe tbody tr th:only-of-type {\n        vertical-align: middle;\n    }\n\n    .dataframe tbody tr th {\n        vertical-align: top;\n    }\n\n    .dataframe thead th {\n        text-align: right;\n    }\n</style>\n<table border=\"1\" class=\"dataframe\">\n  <thead>\n    <tr style=\"text-align: right;\">\n      <th></th>\n      <th>일시</th>\n    </tr>\n  </thead>\n  <tbody>\n    <tr>\n      <th>0</th>\n      <td>2018-03-01 00:00:00</td>\n    </tr>\n    <tr>\n      <th>1</th>\n      <td>2018-03-01 01:00:00</td>\n    </tr>\n    <tr>\n      <th>2</th>\n      <td>2018-03-01 02:00:00</td>\n    </tr>\n    <tr>\n      <th>3</th>\n      <td>2018-03-01 03:00:00</td>\n    </tr>\n    <tr>\n      <th>4</th>\n      <td>2018-03-01 04:00:00</td>\n    </tr>\n    <tr>\n      <th>...</th>\n      <td>...</td>\n    </tr>\n    <tr>\n      <th>27043</th>\n      <td>2021-03-31 19:00:00</td>\n    </tr>\n    <tr>\n      <th>27044</th>\n      <td>2021-03-31 20:00:00</td>\n    </tr>\n    <tr>\n      <th>27045</th>\n      <td>2021-03-31 21:00:00</td>\n    </tr>\n    <tr>\n      <th>27046</th>\n      <td>2021-03-31 22:00:00</td>\n    </tr>\n    <tr>\n      <th>27047</th>\n      <td>2021-03-31 23:00:00</td>\n    </tr>\n  </tbody>\n</table>\n<p>27048 rows × 1 columns</p>\n</div>"
     },
     "metadata": {},
     "execution_count": 125
    }
   ],
   "source": [
    "# 일시 데이터 만들기, 1시간 기준\n",
    "dj_fcst_ = pd.DataFrame()\n",
    "dj_fcst_['일시'] = pd.date_range(start=\"2018-03-01 00:00:00\", end='2021-03-31 23:00:00', freq=\"H\")\n",
    "dj_fcst_"
   ]
  },
  {
   "cell_type": "code",
   "execution_count": 126,
   "metadata": {},
   "outputs": [
    {
     "output_type": "stream",
     "name": "stdout",
     "text": [
      "27048\n27048\n"
     ]
    }
   ],
   "source": [
    "print(len(dj_fcst_))\n",
    "print(len(jo))"
   ]
  },
  {
   "cell_type": "code",
   "execution_count": 127,
   "metadata": {},
   "outputs": [
    {
     "output_type": "execute_result",
     "data": {
      "text/plain": [
       "                       일시   일사   일조\n",
       "0     2018-03-01 00:00:00  0.0  0.0\n",
       "1     2018-03-01 01:00:00  0.0  0.0\n",
       "2     2018-03-01 02:00:00  0.0  0.0\n",
       "3     2018-03-01 03:00:00  0.0  0.0\n",
       "4     2018-03-01 04:00:00  0.0  0.0\n",
       "...                   ...  ...  ...\n",
       "27043 2021-03-31 19:00:00  0.0  0.0\n",
       "27044 2021-03-31 20:00:00  0.0  0.0\n",
       "27045 2021-03-31 21:00:00  0.0  0.0\n",
       "27046 2021-03-31 22:00:00  0.0  0.0\n",
       "27047 2021-03-31 23:00:00  0.0  0.0\n",
       "\n",
       "[27048 rows x 3 columns]"
      ],
      "text/html": "<div>\n<style scoped>\n    .dataframe tbody tr th:only-of-type {\n        vertical-align: middle;\n    }\n\n    .dataframe tbody tr th {\n        vertical-align: top;\n    }\n\n    .dataframe thead th {\n        text-align: right;\n    }\n</style>\n<table border=\"1\" class=\"dataframe\">\n  <thead>\n    <tr style=\"text-align: right;\">\n      <th></th>\n      <th>일시</th>\n      <th>일사</th>\n      <th>일조</th>\n    </tr>\n  </thead>\n  <tbody>\n    <tr>\n      <th>0</th>\n      <td>2018-03-01 00:00:00</td>\n      <td>0.0</td>\n      <td>0.0</td>\n    </tr>\n    <tr>\n      <th>1</th>\n      <td>2018-03-01 01:00:00</td>\n      <td>0.0</td>\n      <td>0.0</td>\n    </tr>\n    <tr>\n      <th>2</th>\n      <td>2018-03-01 02:00:00</td>\n      <td>0.0</td>\n      <td>0.0</td>\n    </tr>\n    <tr>\n      <th>3</th>\n      <td>2018-03-01 03:00:00</td>\n      <td>0.0</td>\n      <td>0.0</td>\n    </tr>\n    <tr>\n      <th>4</th>\n      <td>2018-03-01 04:00:00</td>\n      <td>0.0</td>\n      <td>0.0</td>\n    </tr>\n    <tr>\n      <th>...</th>\n      <td>...</td>\n      <td>...</td>\n      <td>...</td>\n    </tr>\n    <tr>\n      <th>27043</th>\n      <td>2021-03-31 19:00:00</td>\n      <td>0.0</td>\n      <td>0.0</td>\n    </tr>\n    <tr>\n      <th>27044</th>\n      <td>2021-03-31 20:00:00</td>\n      <td>0.0</td>\n      <td>0.0</td>\n    </tr>\n    <tr>\n      <th>27045</th>\n      <td>2021-03-31 21:00:00</td>\n      <td>0.0</td>\n      <td>0.0</td>\n    </tr>\n    <tr>\n      <th>27046</th>\n      <td>2021-03-31 22:00:00</td>\n      <td>0.0</td>\n      <td>0.0</td>\n    </tr>\n    <tr>\n      <th>27047</th>\n      <td>2021-03-31 23:00:00</td>\n      <td>0.0</td>\n      <td>0.0</td>\n    </tr>\n  </tbody>\n</table>\n<p>27048 rows × 3 columns</p>\n</div>"
     },
     "metadata": {},
     "execution_count": 127
    }
   ],
   "source": [
    "# 일조 데이터 concat\n",
    "dj_fcst_ = pd.concat([dj_fcst_, sa_df, jo_df], axis=1)\n",
    "dj_fcst_"
   ]
  },
  {
   "cell_type": "code",
   "execution_count": 128,
   "metadata": {},
   "outputs": [
    {
     "output_type": "execute_result",
     "data": {
      "text/plain": [
       "일시    2018-04-11 16:00:00\n",
       "일사                   1.77\n",
       "일조                   3540\n",
       "Name: 1000, dtype: object"
      ]
     },
     "metadata": {},
     "execution_count": 128
    }
   ],
   "source": [
    "dj_fcst_.loc[1000]"
   ]
  },
  {
   "cell_type": "code",
   "execution_count": 129,
   "metadata": {},
   "outputs": [
    {
     "output_type": "execute_result",
     "data": {
      "text/plain": [
       "일시    2018-04-11 16:00:00\n",
       "일사                   1.77\n",
       "일조               0.983333\n",
       "Name: 1000, dtype: object"
      ]
     },
     "metadata": {},
     "execution_count": 129
    }
   ],
   "source": [
    "# 일조 데이터 분 -> 시 로 변경\n",
    "dj_fcst_['일조'] = dj_fcst_['일조'] / (60*60)\n",
    "dj_fcst_.loc[1000]"
   ]
  },
  {
   "cell_type": "code",
   "execution_count": 130,
   "metadata": {},
   "outputs": [
    {
     "output_type": "execute_result",
     "data": {
      "text/plain": [
       "                       일시    일사        일조\n",
       "1000  2018-04-11 16:00:00  1.77  0.983333\n",
       "1001  2018-04-11 17:00:00  0.96  0.983333\n",
       "1002  2018-04-11 18:00:00  0.21  0.666667\n",
       "1003  2018-04-11 19:00:00  0.00  0.000000\n",
       "1004  2018-04-11 20:00:00  0.00  0.000000\n",
       "...                   ...   ...       ...\n",
       "27043 2021-03-31 19:00:00  0.00  0.000000\n",
       "27044 2021-03-31 20:00:00  0.00  0.000000\n",
       "27045 2021-03-31 21:00:00  0.00  0.000000\n",
       "27046 2021-03-31 22:00:00  0.00  0.000000\n",
       "27047 2021-03-31 23:00:00  0.00  0.000000\n",
       "\n",
       "[26048 rows x 3 columns]"
      ],
      "text/html": "<div>\n<style scoped>\n    .dataframe tbody tr th:only-of-type {\n        vertical-align: middle;\n    }\n\n    .dataframe tbody tr th {\n        vertical-align: top;\n    }\n\n    .dataframe thead th {\n        text-align: right;\n    }\n</style>\n<table border=\"1\" class=\"dataframe\">\n  <thead>\n    <tr style=\"text-align: right;\">\n      <th></th>\n      <th>일시</th>\n      <th>일사</th>\n      <th>일조</th>\n    </tr>\n  </thead>\n  <tbody>\n    <tr>\n      <th>1000</th>\n      <td>2018-04-11 16:00:00</td>\n      <td>1.77</td>\n      <td>0.983333</td>\n    </tr>\n    <tr>\n      <th>1001</th>\n      <td>2018-04-11 17:00:00</td>\n      <td>0.96</td>\n      <td>0.983333</td>\n    </tr>\n    <tr>\n      <th>1002</th>\n      <td>2018-04-11 18:00:00</td>\n      <td>0.21</td>\n      <td>0.666667</td>\n    </tr>\n    <tr>\n      <th>1003</th>\n      <td>2018-04-11 19:00:00</td>\n      <td>0.00</td>\n      <td>0.000000</td>\n    </tr>\n    <tr>\n      <th>1004</th>\n      <td>2018-04-11 20:00:00</td>\n      <td>0.00</td>\n      <td>0.000000</td>\n    </tr>\n    <tr>\n      <th>...</th>\n      <td>...</td>\n      <td>...</td>\n      <td>...</td>\n    </tr>\n    <tr>\n      <th>27043</th>\n      <td>2021-03-31 19:00:00</td>\n      <td>0.00</td>\n      <td>0.000000</td>\n    </tr>\n    <tr>\n      <th>27044</th>\n      <td>2021-03-31 20:00:00</td>\n      <td>0.00</td>\n      <td>0.000000</td>\n    </tr>\n    <tr>\n      <th>27045</th>\n      <td>2021-03-31 21:00:00</td>\n      <td>0.00</td>\n      <td>0.000000</td>\n    </tr>\n    <tr>\n      <th>27046</th>\n      <td>2021-03-31 22:00:00</td>\n      <td>0.00</td>\n      <td>0.000000</td>\n    </tr>\n    <tr>\n      <th>27047</th>\n      <td>2021-03-31 23:00:00</td>\n      <td>0.00</td>\n      <td>0.000000</td>\n    </tr>\n  </tbody>\n</table>\n<p>26048 rows × 3 columns</p>\n</div>"
     },
     "metadata": {},
     "execution_count": 130
    }
   ],
   "source": [
    "dj_fcst_.loc[1000:]"
   ]
  },
  {
   "cell_type": "code",
   "execution_count": 131,
   "metadata": {},
   "outputs": [],
   "source": [
    "dj_fcst_.to_csv('dj_sunlight.csv', mode='w', encoding='utf-8-sig', index=False)"
   ]
  },
  {
   "cell_type": "code",
   "execution_count": null,
   "metadata": {},
   "outputs": [],
   "source": []
  }
 ]
}