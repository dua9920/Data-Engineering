{
 "cells": [
  {
   "cell_type": "code",
   "execution_count": null,
   "metadata": {},
   "outputs": [],
   "source": [
    "import pandas as pd\n",
    "import calendar as cal\n",
    "import datetime\n",
    "import re\n",
    "from glob import glob"
   ]
  },
  {
   "cell_type": "markdown",
   "metadata": {},
   "source": [
    "## 0. 데이터 가져오기\n",
    "- 1) 당진시 날씨 예보 데이터\n",
    "- 2) 당진시 날씨 관측 데이터\n",
    "- 3) 동서발전 발전소별 발전량 데이터\n",
    "- 4) sample\n",
    "- 5) 울산광역시 날씨 예보 데이터\n",
    "- 6) 울산광역시 날씨 관측 데이터"
   ]
  },
  {
   "cell_type": "code",
   "execution_count": null,
   "metadata": {},
   "outputs": [],
   "source": [
    "path = \"./data/\"\n",
    "files = sorted(glob(path+\"*.csv\"))\n",
    "files"
   ]
  },
  {
   "cell_type": "code",
   "execution_count": null,
   "metadata": {},
   "outputs": [],
   "source": [
    "# 1. 당진 발전소 동네 날씨 정보\n",
    "dj_fcst = pd.read_csv(files[0])\n",
    "dj_fcst.head()\n",
    "\n",
    "# Forecast time: 예보 발표 시점 2018-03-01 11:00:00\n",
    "# forcast: 예보 시간 11시에 발표해서 forcast 만큼 지난 시간 +4면 15:00:00\n",
    "# Temperature: 온도 (도씨)\n",
    "# Humidity: 습도 (%)\n",
    "# WindSpeed: 풍속 (m/s)\n",
    "# WindDirection: 풍향\n",
    "# Cloud: 하늘 상태\n",
    "# 1-맑음 / 2-구름보통 / 3-구름많음 / 4-흐림\n"
   ]
  },
  {
   "cell_type": "code",
   "execution_count": null,
   "metadata": {},
   "outputs": [],
   "source": [
    "# 2. 당진 발전소 인근 기상 관측 정보\n",
    "dj_obs = pd.read_csv(files[1])\n",
    "dj_obs.head()\n",
    "\n",
    "# 지점: 지점 코드\n",
    "# 지점명: 관측소 지점 (서산)\n",
    "# 일시: 관측 시간 Y-M-D H:M\n",
    "# 기온 , 풍속, 풍향, 습도\n",
    "# 전운량: 낮을수록 구름이 적다."
   ]
  },
  {
   "cell_type": "code",
   "execution_count": null,
   "metadata": {},
   "outputs": [],
   "source": [
    "# 3. 발전소별 발전량\n",
    "energy = pd.read_csv(files[2])\n",
    "energy[8:18]\n",
    "\n",
    "# time: 1시간 단위 계량된 시간 1:00:00 이면 0:00:00 ~ 1:00:00\n",
    "# dangjin_floating: 당진수상태양광 발전량(KW)\n",
    "# dangjin_warehouse: 당진자재창고태양광 발전량(KW)\n",
    "# dangjin: 당진태양광 발전량(KW)\n",
    "# ulsan: 울산태양광 발전량(KW)\n"
   ]
  },
  {
   "cell_type": "code",
   "execution_count": null,
   "metadata": {},
   "outputs": [],
   "source": [
    "# 4. 예측한 발전량 제출 양식\n",
    "sample_sub = pd.read_csv(files[3])\n",
    "sample_sub.head(2)\n",
    "\n",
    "# time: 지난 한시간동안 발전량 예측\n",
    "# dangjin_floating: 당진수상태양광 예측 발전량 (KW)\n",
    "# dangjin_warehouse: 당진자재창고태양광 예측 발전량 (KW)\n",
    "# ulsan: 울산태양광 예측 발전량"
   ]
  },
  {
   "cell_type": "code",
   "execution_count": null,
   "metadata": {},
   "outputs": [],
   "source": [
    "# 5. 발전소 정보\n",
    "site = pd.read_csv(files[4])\n",
    "site\n",
    "\n",
    "# Id: 발전소 식별자\n",
    "# Capacity: 발전소 발전용량(MW)\n",
    "# Address: 주소\n",
    "# InstallationAngle: 설치각\n",
    "# IncidentAngle: 입사각\n",
    "# Latitude: 위도\n",
    "# Longitude: 경도"
   ]
  },
  {
   "cell_type": "code",
   "execution_count": null,
   "metadata": {},
   "outputs": [],
   "source": [
    "# 6. 울산 발전소 동네 날씨 정보\n",
    "us_fcst = pd.read_csv(files[5])\n",
    "us_fcst.head()\n",
    "\n",
    "# Forecast time: 예보 발표 시점 2018-03-01 11:00:00\n",
    "# forcast: 예보 시간 11시에 발표해서 forcast 만큼 지난 시간 +4면 15:00:00\n",
    "# Temperature: 온도 (도씨)\n",
    "# Humidity: 습도 (%)\n",
    "# WindSpeed: 풍속 (m/s)\n",
    "# WindDirection: 풍향\n",
    "# Cloud: 하늘 상태\n",
    "# 1-맑음 / 2-구름보통 / 3-구름많음 / 4-흐림\n"
   ]
  },
  {
   "cell_type": "code",
   "execution_count": null,
   "metadata": {},
   "outputs": [],
   "source": [
    "# 7. 울산 발전소 인근 기상 관측 정보\n",
    "us_obs = pd.read_csv(files[6])\n",
    "us_obs.head()\n",
    "\n",
    "# 지점: 지점 코드\n",
    "# 지점명: 관측소 지점 (울산)\n",
    "# 일시: 관측 시간 Y-M-D H:M\n",
    "# 기온 , 풍속, 풍향, 습도\n",
    "# 전운량: 낮을수록 구름이 적다.\n",
    "\n",
    "# 1. 당진 발전소 동네 날씨 정보\n",
    "# dj_fcst = pd.read_csv(files[0])\n",
    "# 2. 당진 발전소 인근 기상 관측 정보\n",
    "# dj_obs = pd.read_csv(files[1])\n",
    "# 3. 발전소별 발전량\n",
    "# energy = pd.read_csv(files[2])\n",
    "# 4. 예측한 발전량 제출 양식\n",
    "# sample_sub = pd.read_csv(files[3])\n",
    "# 5. 발전소 정보\n",
    "# site = pd.read_csv(files[4])\n",
    "# 6. 울산 발전소 동네 날씨 정보\n",
    "# us_fcst = pd.read_csv(files[5])\n",
    "# 7. 울산 발전소 인근 기상 관측 정보\n",
    "# us_obs = pd.read_csv(files[6])"
   ]
  },
  {
   "cell_type": "markdown",
   "metadata": {},
   "source": [
    "---"
   ]
  },
  {
   "cell_type": "markdown",
   "metadata": {},
   "source": [
    "## 1. 데이터 정제 (울산광역시 데이터)\n",
    "### 1) 날씨 정보 컬럼명 변경"
   ]
  },
  {
   "cell_type": "code",
   "execution_count": null,
   "metadata": {},
   "outputs": [],
   "source": [
    "# 울산광역시 us_fcst\n",
    "# 날씨 예보 데이터 컬럼명 변경\n",
    "# 읽기 쉽게 한글로 변경\n",
    "us_fcst.rename(columns={us_fcst.columns[0]: \"예보발표시간\",\n",
    "us_fcst.columns[1]:\"시간\", # 예측시각\n",
    "us_fcst.columns[2]:\"기온\",\n",
    "us_fcst.columns[3]:\"습도\",\n",
    "us_fcst.columns[4]:\"풍속\",\n",
    "us_fcst.columns[5]:\"풍향\",\n",
    "us_fcst.columns[6]:\"날씨코드\"}, inplace=True)\n",
    "us_fcst.head()\n"
   ]
  },
  {
   "cell_type": "code",
   "execution_count": null,
   "metadata": {},
   "outputs": [],
   "source": [
    "# 울산광역시 us_obs\n",
    "# 날씨 관측 데이터 컬럼명 변경\n",
    "us_obs.rename(columns={us_obs.columns[0]: \"지점코드\",\n",
    "us_obs.columns[1]:\"지점명\",\n",
    "us_obs.columns[2]:\"시간\", # 관측시간\n",
    "us_obs.columns[3]:\"기온\",\n",
    "us_obs.columns[4]:\"풍속\",\n",
    "us_obs.columns[5]:\"풍향\",\n",
    "us_obs.columns[6]:\"습도\",\n",
    "us_obs.columns[7]:\"전운량\"}, inplace=True)\n",
    "us_obs.head()"
   ]
  },
  {
   "cell_type": "markdown",
   "metadata": {},
   "source": [
    "----\n",
    "### 2) 예보시간 TimeStamp로 나타내기\n",
    "- 2018-03-01 11시에 관측하여\n",
    "- 시간 컬럼이 만약에 4라면\n",
    "- 2018-03-01 15시 의 timestamp 값을 가지도록"
   ]
  },
  {
   "cell_type": "code",
   "execution_count": null,
   "metadata": {},
   "outputs": [],
   "source": [
    "# 울산 광역시 us_fcst\n",
    "# 날씨 예보 데이터 시간 컬럼 -> TimeStamp\n",
    "us_fcst.head()"
   ]
  },
  {
   "cell_type": "code",
   "execution_count": null,
   "metadata": {},
   "outputs": [],
   "source": [
    "# 예보발표시간 날짜에 해당하는 월의 마지막 일 수 구하기\n",
    "#  2018 3월 ~ 2021 3월\n",
    "months = [i for i in range(1, 13)]\n",
    "lastDays = {2018: [], 2019: [], 2020: [], 2021: []}\n",
    "\n",
    "days = []\n",
    "for year in lastDays:\n",
    "    for month in months:\n",
    "        lastDays[year].append(cal.monthrange(year, month)[1])\n",
    "\n",
    "print(lastDays)"
   ]
  },
  {
   "cell_type": "code",
   "execution_count": null,
   "metadata": {
    "tags": []
   },
   "outputs": [],
   "source": [
    "# 울산광역시 us_fcst\n",
    "# 반복문을 사용하여 예측 시간 열을 timestamp로 변경\n",
    "for i in range(len(us_fcst)):\n",
    "    announceTime = us_fcst[\"예보발표시간\"][i] # 예보를 발표한 시간\n",
    "    predictTime = us_fcst[\"시간\"][i] # 예보 시각\n",
    "    annTS = pd.Timestamp(announceTime) # 예보발표시간 to TimeStamp\n",
    "\n",
    "    year = annTS.year # 연도\n",
    "    month = annTS.month # 월\n",
    "    day = annTS.day # 일\n",
    "    hour = annTS.hour # 시\n",
    "\n",
    "    # 예보 시각의 hour 구하기\n",
    "    # 예보발표시간 + 시간 열\n",
    "    preHour = int(hour + predictTime)\n",
    "    plusDay = preHour // 24 # 더해지는 일수 (24시가 지나면 + 1)\n",
    "    hour = preHour % 24 # 나머지 시간\n",
    "\n",
    "    # 만약 24시가 지났다면\n",
    "    if(plusDay > 0):\n",
    "        day += plusDay # 해당 일 + 더해지는 일 수\n",
    "        # 만약 month가 1, 3, 5, 7, 8, 10, 12 라면: 31일\n",
    "        if(month == 1 or month == 3 or month == 5 or month == 7 or month == 8 or month == 10 or month == 12):\n",
    "            if(day > 31):\n",
    "                month += 1\n",
    "                day %= 31\n",
    "                if(month> 12):\n",
    "                    year += 1\n",
    "                    month = 1\n",
    "        # 만약 month가 2, 4, 6, 9, 11 이라면: 31일 X\n",
    "        else:\n",
    "            lastDay = lastDays[year][month-1] # 월의 마지막 일 구하기\n",
    "            if(day > lastDay):\n",
    "                month += 1\n",
    "                day %= lastDay\n",
    "                if(month> 12):\n",
    "                    year += 1\n",
    "                    month = 1\n",
    "        preTS = pd.Timestamp(year, month, day, hour) # 예보시각 -> 타임 스탬프\n",
    "        preTS = datetime.datetime.strftime(preTS, '%Y-%m-%d %H:%M') # 2021-04-19 18:00 이런식으로 양식 변경\n",
    "        us_fcst['시간'][i] = preTS # 날짜 예보 데이터의 시간 열에 넣어준다.\n",
    "    else:\n",
    "        preTS = pd.Timestamp(year, month, day, hour)\n",
    "        preTS = datetime.datetime.strftime(preTS, '%Y-%m-%d %H:%M')\n",
    "        us_fcst['시간'][i] = preTS\n"
   ]
  },
  {
   "cell_type": "code",
   "execution_count": null,
   "metadata": {},
   "outputs": [],
   "source": [
    "# 시간 컬럼 -> TimeStamp 변경 결과\n",
    "us_fcst.head()"
   ]
  },
  {
   "cell_type": "code",
   "execution_count": null,
   "metadata": {},
   "outputs": [],
   "source": [
    "# 변경된 데이터 파일로 저장하기\n",
    "# # 파일로 변환\n",
    "us_fcst.to_csv('ulsan_fcst_convert.csv', mode='w', encoding='utf-8-sig', index=False)"
   ]
  },
  {
   "cell_type": "code",
   "execution_count": null,
   "metadata": {},
   "outputs": [],
   "source": [
    "# 저장된 파일 가져오기\n",
    "us_fcst_convert = pd.read_csv('./ulsan_fcst_convert.csv')\n",
    "us_fcst_convert = us_fcst_convert.sort_values(by=\"시간\")\n",
    "us_fcst_convert = us_fcst_convert.reset_index(drop=True, inplace=False)\n",
    "us_fcst_convert.head()"
   ]
  },
  {
   "cell_type": "markdown",
   "metadata": {},
   "source": [
    "------\n",
    "### 3) 날씨 예보 데이터 & 날씨 관측 데이터 Merge\n",
    "- 필요없는 컬럼명 drop"
   ]
  },
  {
   "cell_type": "code",
   "execution_count": null,
   "metadata": {},
   "outputs": [],
   "source": [
    "# # 시간 컬럼을 기준으로 merge 한다.\n",
    "# merge_us = pd.merge(us_fcst_convert, us_obs, on='시간')\n",
    "# merge_us.head()"
   ]
  },
  {
   "cell_type": "code",
   "execution_count": null,
   "metadata": {},
   "outputs": [],
   "source": [
    "# 울산광역시 us_obs\n",
    "# 날씨 관측 데이터 필요없는 컬럼 삭제\n",
    "# 지점코드, 지점명 삭제\n",
    "us_obs_drop = us_obs.drop(['지점코드', '지점명'], axis=1)\n",
    "us_obs_drop.head()"
   ]
  },
  {
   "cell_type": "code",
   "execution_count": null,
   "metadata": {},
   "outputs": [],
   "source": [
    "# 울산광역시 us_fcst\n",
    "# 날씨 관측 데이터 필요없는 컬럼명 삭제\n",
    "# 예보발표시간\n",
    "us_fcst_drop = us_fcst_convert.drop(['예보발표시간'], axis=1)\n",
    "us_fcst_drop.head()"
   ]
  },
  {
   "cell_type": "code",
   "execution_count": null,
   "metadata": {},
   "outputs": [],
   "source": [
    "# 울산광역시 us_fcst, us_obs\n",
    "# 예보 데이터 , 관측 데이터 시간 컬럼을 기준으로 Merge\n",
    "# _x : 예보 데이터\n",
    "# _y : 관측 데이터\n",
    "merge_us = pd.merge(us_fcst_drop, us_obs_drop, how='left', left_on='시간', right_on='시간')\n",
    "merge_us.head()"
   ]
  },
  {
   "cell_type": "code",
   "execution_count": null,
   "metadata": {},
   "outputs": [],
   "source": [
    "# merge한 데이터 컬럼명 변경\n",
    "# 예측 / 관측 컬럼\n",
    "merge_us = merge_us.rename(columns={merge_us.columns[1]:\"예측기온\", merge_us.columns[2]:\"예측습도\",merge_us.columns[3]:\"예측풍속\",\n",
    "merge_us.columns[4]:\"예측풍향\",\n",
    "merge_us.columns[6]:\"관측기온\",merge_us.columns[7]:\"관측풍속\",\n",
    "merge_us.columns[8]:\"관측풍향\",merge_us.columns[9]:\"관측습도\",})\n",
    "merge_us"
   ]
  },
  {
   "cell_type": "code",
   "execution_count": null,
   "metadata": {},
   "outputs": [],
   "source": [
    "# merge한 데이터 NaN 값 삭제\n",
    "# 행 기준\n",
    "merge_us = merge_us.dropna(axis=0)\n",
    "merge_us"
   ]
  },
  {
   "cell_type": "markdown",
   "metadata": {},
   "source": [
    "---\n",
    "### 4) 에너지 데이터 가공\n",
    "- 울산 데이터"
   ]
  },
  {
   "cell_type": "code",
   "execution_count": null,
   "metadata": {},
   "outputs": [],
   "source": [
    "# 울산광역시 us_fcst, us_obs\n",
    "# 병합한 예보 / 관측 데이터 파일로 저장\n",
    "merge_us.to_csv('ulsan_pre_obs.csv', mode='w', encoding='utf-8-sig', index=False)"
   ]
  },
  {
   "cell_type": "code",
   "execution_count": null,
   "metadata": {},
   "outputs": [],
   "source": [
    "# 동서발전 발전소별 발전량 데이터 energy\n",
    "# 울산 데이터만 뽑기\n",
    "energy_us = energy.drop(['dangjin_floating', 'dangjin_warehouse', 'dangjin'], axis=1)\n",
    "energy_us = energy_us.rename(columns={energy_us.columns[0]:'시간',energy_us.columns[1]:'발전량'}, )\n",
    "energy_us.head()"
   ]
  },
  {
   "cell_type": "code",
   "execution_count": null,
   "metadata": {},
   "outputs": [],
   "source": [
    "# 동서발전 발전소별 발전량 데이터 시간 변경\n",
    "# 현재로는 H:M:S 양식이며, 00시가 아닌 24시로 표시되어 있음.\n",
    "# 1) H:M 양식의 타임스탬프 변경\n",
    "# 2) 24시 -> 00시로 변경\n",
    "for i in range(len(energy_us)):\n",
    "    energy_us['시간'][i] = re.sub(\"24:00:00\", \"00:00:00\", energy_us['시간'][i])\n",
    "    time = pd.Timestamp(energy_us['시간'][i])\n",
    "    time = datetime.datetime.strftime(time, '%Y-%m-%d %H:%M')\n",
    "    energy_us['시간'][i] = time"
   ]
  },
  {
   "cell_type": "code",
   "execution_count": null,
   "metadata": {},
   "outputs": [],
   "source": [
    "# 데이터 변경 확인\n",
    "energy_us.loc[22:26]"
   ]
  },
  {
   "cell_type": "code",
   "execution_count": null,
   "metadata": {},
   "outputs": [],
   "source": [
    "# 발전량이 0인 데이터 삭제\n",
    "energy_us = energy_us[energy_us['발전량'] != 0]\n",
    "energy_us.head()"
   ]
  },
  {
   "cell_type": "markdown",
   "metadata": {},
   "source": [
    "---\n",
    "### 5) energy 데이터와 병합"
   ]
  },
  {
   "cell_type": "code",
   "execution_count": null,
   "metadata": {},
   "outputs": [],
   "source": [
    "# 울산광역시 예측 - 관측 데이터 us_pre_obs\n",
    "# 파일로 저장한 데이터 가져오기\n",
    "us_pre_obs = pd.read_csv('./ulsan_pre_obs.csv')\n",
    "us_pre_obs.head()"
   ]
  },
  {
   "cell_type": "code",
   "execution_count": null,
   "metadata": {},
   "outputs": [],
   "source": [
    "# 울산 광역시 발전량 데이터 energy_us\n",
    "# 울산 광역시 예측 - 관측 데이터 us_pre_obs\n",
    "# 두 데이터를 시간을 기준으로 merge 한다.\n",
    "wheather_energy_df = pd.merge(pre_obs, energy_us, how='left', left_on='시간', right_on='시간')\n",
    "wheather_energy_df"
   ]
  },
  {
   "cell_type": "code",
   "execution_count": null,
   "metadata": {},
   "outputs": [],
   "source": [
    "# NaN 값 삭제\n",
    "wheather_energy_df = wheather_energy_df.dropna(axis=0)\n",
    "wheather_energy_df"
   ]
  },
  {
   "cell_type": "code",
   "execution_count": null,
   "metadata": {},
   "outputs": [],
   "source": [
    "# 울산 광역시 예측 - 관측 - 발전량 데이터\n",
    "# 파일로 저장\n",
    "wheather_energy_df.to_csv('ulsan_whether_energy.csv', mode='w', encoding='utf-8-sig', index=False)\n",
    "wheather_energy = pd.read_csv('ulsan_whether_energy.csv')\n",
    "wheather_energy"
   ]
  },
  {
   "cell_type": "code",
   "execution_count": null,
   "metadata": {},
   "outputs": [],
   "source": [
    "# wheather_energy.describe()\n",
    "wheather_energy['시간'][0][11:]"
   ]
  },
  {
   "cell_type": "code",
   "execution_count": null,
   "metadata": {},
   "outputs": [],
   "source": [
    "# 울산 광역시 예측 - 관측 - 발전량 데이터 wheather_energy\n",
    "# 시간대 데이터 추가하기\n",
    "wheather_energy['시간대'] = -1\n",
    "for i in range(len(wheather_energy)):\n",
    "    time = wheather_energy['시간'][i][11:]\n",
    "    if(time == ('06:00') or time == ('07:00') or time == ('08:00')):\n",
    "        wheather_energy['시간대'][i] = '6 - 8시'\n",
    "    elif (time == ('09:00') or time == ('10:00') or time == ('11:00')):\n",
    "        wheather_energy['시간대'][i] = '9 - 11시'\n",
    "    elif (time == ('12:00') or time == ('13:00') or time == ('14:00')):\n",
    "        wheather_energy['시간대'][i] = '12 - 14시'\n",
    "    elif (time == ('15:00') or time == ('16:00') or time == ('17:00')):\n",
    "        wheather_energy['시간대'][i] = '15 - 17시'\n",
    "    elif (time == ('18:00') or time == ('19:00') or time == ('20:00')):\n",
    "        wheather_energy['시간대'][i] = '18 - 20시'\n",
    "    else:\n",
    "        wheather_energy['시간대'][i] = -1"
   ]
  },
  {
   "cell_type": "code",
   "execution_count": null,
   "metadata": {},
   "outputs": [],
   "source": [
    "# 시간대 열 추가 확인\n",
    "wheather_energy"
   ]
  },
  {
   "cell_type": "code",
   "execution_count": null,
   "metadata": {},
   "outputs": [],
   "source": [
    "# 시간대를 기준으로 그룹핑\n",
    "# 발전량의 평균과 총 합을 구한다.\n",
    "res = wheather_energy.groupby(['시간대']).apply(lambda x: pd.Series({'평균': x['발전량'].mean(), '총발전량': sum(x['발전량'])}))\n",
    "res = res.sort_values(by='총발전량', ascending=False)\n",
    "res"
   ]
  },
  {
   "cell_type": "markdown",
   "metadata": {},
   "source": [
    "## 3. 데이터 시각화\n",
    "- 관측 기온/습도/풍속/풍향/습도 에 따른 발전량\n",
    "---\n",
    "### 0) 모듈 불러오기"
   ]
  },
  {
   "cell_type": "code",
   "execution_count": null,
   "metadata": {},
   "outputs": [],
   "source": [
    "import matplotlib.pyplot as plt\n",
    "import seaborn as sns\n",
    "\n",
    "%matplotlib inline\n"
   ]
  },
  {
   "cell_type": "code",
   "execution_count": null,
   "metadata": {},
   "outputs": [],
   "source": [
    "# from matplotlib import font_manager, rc\n",
    "# font_path = \"C:/Windows/Fonts/malgun.ttf\"\n",
    "# font_name= font_manager.FontProperties(fname=font_path).get_name()\n",
    "# rc('font', family=font_name)\n",
    "plt.rc('font', family='Malgun Gothic')"
   ]
  },
  {
   "cell_type": "code",
   "execution_count": null,
   "metadata": {},
   "outputs": [],
   "source": [
    "# 시간대에 따른 총 발전량 그래프\n",
    "plt.figure()\n",
    "res['총발전량'].plot(kind='barh', grid=True, figsize=(5, 5))\n",
    "plt.show()"
   ]
  },
  {
   "cell_type": "code",
   "execution_count": null,
   "metadata": {},
   "outputs": [],
   "source": [
    "wheather_energy_test = wheather_energy.drop(['예측기온', '예측습도', '예측풍속', '예측풍향', '날씨코드'], axis=1)\n",
    "wheather_energy_test"
   ]
  },
  {
   "cell_type": "code",
   "execution_count": null,
   "metadata": {},
   "outputs": [],
   "source": [
    "plt.rc('font', family='Malgun Gothic')\n",
    "sns.pairplot(wheather_energy_test, kind=\"hist\", hue=\"시간대\")\n",
    "plt.show()"
   ]
  }
 ],
 "metadata": {
  "kernelspec": {
   "display_name": "Python 3",
   "language": "python",
   "name": "python3"
  },
  "language_info": {
   "codemirror_mode": {
    "name": "ipython",
    "version": 3
   },
   "file_extension": ".py",
   "mimetype": "text/x-python",
   "name": "python",
   "nbconvert_exporter": "python",
   "pygments_lexer": "ipython3",
   "version": "3.8.5"
  }
 },
 "nbformat": 4,
 "nbformat_minor": 2
}
